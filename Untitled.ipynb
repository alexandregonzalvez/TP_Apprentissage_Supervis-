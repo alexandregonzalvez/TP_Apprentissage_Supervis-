{
 "cells": [
  {
   "cell_type": "code",
   "execution_count": 19,
   "id": "4aece1b6",
   "metadata": {},
   "outputs": [],
   "source": [
    "import numpy as np\n",
    "import sklearn\n",
    "import matplotlib.pyplot as plt\n",
    "from sklearn.datasets import fetch_openml\n",
    "from sklearn.model_selection import train_test_split\n",
    "from sklearn import svm"
   ]
  },
  {
   "cell_type": "code",
   "execution_count": 2,
   "id": "76af1b09",
   "metadata": {},
   "outputs": [],
   "source": [
    "mnist = fetch_openml('mnist_784', as_frame=False) \n",
    "\n",
    "xtrain,  xtest,  ytrain,  ytest  =  train_test_split(mnist.data,  mnist.target, \n",
    "train_size=0.7)"
   ]
  },
  {
   "cell_type": "code",
   "execution_count": 5,
   "id": "ca724836",
   "metadata": {},
   "outputs": [
    {
     "data": {
      "text/plain": [
       "SVC(probability=True)"
      ]
     },
     "execution_count": 5,
     "metadata": {},
     "output_type": "execute_result"
    }
   ],
   "source": [
    "classifier = svm.SVC(probability=True)\n",
    "classifier.fit(xtrain[:10000], ytrain[:10000])"
   ]
  },
  {
   "cell_type": "code",
   "execution_count": 6,
   "id": "41738731",
   "metadata": {},
   "outputs": [
    {
     "name": "stdout",
     "output_type": "stream",
     "text": [
      "prediction of 100 first examples :\n",
      " ['1' '0' '1' '9' '6' '8' '9' '6' '5' '5' '9' '1' '8' '4' '7' '7' '6' '0'\n",
      " '1' '7' '7' '5' '4' '4' '2' '4' '2' '5' '1' '3' '9' '0' '4' '7' '3' '1'\n",
      " '7' '5' '1' '3' '2' '6' '0' '5' '2' '9' '7' '3' '3' '1' '6' '0' '7' '3'\n",
      " '9' '0' '9' '5' '6' '6' '9' '5' '4' '7' '4' '3' '7' '0' '4' '5' '2' '2'\n",
      " '9' '7' '7' '2' '6' '5' '1' '0' '9' '2' '6' '5' '8' '1' '9' '4' '1' '9'\n",
      " '7' '1' '8' '9' '4' '0' '0' '0' '0' '3']\n",
      "\n",
      "proba of 10 first examples :\n",
      "[[1.22382291e-04 9.93517529e-01 1.28315755e-03 6.71873034e-04\n",
      "  5.68547884e-04 1.08248820e-04 1.70943580e-04 2.47192669e-03\n",
      "  7.59237412e-04 3.26153912e-04]\n",
      " [9.88861798e-01 2.85243146e-05 9.77355172e-03 3.36764183e-05\n",
      "  3.23712499e-05 4.01026597e-04 3.10008128e-04 6.41007111e-05\n",
      "  2.52522192e-04 2.42421116e-04]\n",
      " [3.70008098e-04 9.66481212e-01 2.49925212e-03 1.50732094e-02\n",
      "  1.51015109e-03 2.85136700e-03 8.91695814e-04 5.59882912e-03\n",
      "  1.50738624e-03 3.21688933e-03]\n",
      " [3.48981996e-05 1.48625871e-05 4.05235517e-05 3.42820841e-04\n",
      "  1.82040717e-03 7.99091015e-05 3.84359651e-05 1.79546671e-04\n",
      "  5.52399512e-03 9.91924601e-01]\n",
      " [1.08329441e-03 5.09412109e-06 2.82052991e-04 5.59711863e-06\n",
      "  3.81704979e-03 2.51502939e-04 9.93856434e-01 1.29728233e-04\n",
      "  2.21852495e-05 5.47060968e-04]\n",
      " [3.60918665e-05 1.47663359e-05 1.38566049e-04 5.91120117e-04\n",
      "  5.94632958e-05 4.71045123e-05 1.34096059e-05 1.15205928e-05\n",
      "  9.98232598e-01 8.55359899e-04]\n",
      " [1.99601330e-04 2.93587990e-04 2.31446392e-04 1.00027021e-03\n",
      "  1.89081772e-02 5.30165407e-05 8.88295909e-05 3.53042226e-03\n",
      "  3.35237349e-04 9.75359411e-01]\n",
      " [3.30682255e-08 3.19540759e-08 5.06408207e-08 3.55455840e-08\n",
      "  2.61012690e-08 1.22210315e-07 9.99932356e-01 1.91227272e-06\n",
      "  6.16054745e-05 3.82705229e-06]\n",
      " [2.57444118e-08 1.30296693e-08 2.37997271e-08 7.79637360e-08\n",
      "  2.36740073e-08 9.99843290e-01 6.08592067e-06 3.72822505e-06\n",
      "  8.94234909e-05 5.73079119e-05]\n",
      " [1.22793355e-03 6.05695054e-03 7.35527877e-03 3.38696679e-01\n",
      "  8.24229123e-03 5.64107446e-01 1.53973760e-02 6.99144353e-03\n",
      "  4.37936459e-02 8.13095633e-03]]\n",
      "\n",
      "Score on all test set = 0.9625714285714285\n",
      "\n"
     ]
    }
   ],
   "source": [
    "print(f'prediction of 100 first examples :\\n {classifier.predict(xtest[:100])}\\n')\n",
    "print(f'proba of 10 first examples :\\n{classifier.predict_proba(xtest[:10])}\\n')\n",
    "print(f'Score on all test set = {classifier.score(xtest, ytest)}\\n')"
   ]
  },
  {
   "cell_type": "code",
   "execution_count": 9,
   "id": "80c90ca1",
   "metadata": {},
   "outputs": [
    {
     "data": {
      "text/plain": [
       "SVC(kernel='linear', probability=True)"
      ]
     },
     "execution_count": 9,
     "metadata": {},
     "output_type": "execute_result"
    }
   ],
   "source": [
    "clsvm = svm.SVC(kernel='linear',probability=True)\n",
    "clsvm.fit(xtrain[:1000], ytrain[:1000])"
   ]
  },
  {
   "cell_type": "code",
   "execution_count": 12,
   "id": "7e94123c",
   "metadata": {},
   "outputs": [
    {
     "name": "stdout",
     "output_type": "stream",
     "text": [
      "prediction of 100 first examples :\n",
      " ['1' '0' '1' '9' '6' '8' '9' '6' '5' '5' '9' '1' '8' '4' '7' '7' '6' '0'\n",
      " '1' '7' '7' '5' '9' '4' '2' '4' '2' '5' '1' '3' '7' '0' '4' '9' '2' '1'\n",
      " '7' '0' '1' '3' '2' '4' '0' '5' '2' '9' '9' '3' '3' '1' '6' '0' '7' '3'\n",
      " '4' '0' '9' '5' '6' '6' '9' '5' '4' '7' '4' '3' '7' '0' '2' '5' '2' '0'\n",
      " '9' '7' '7' '2' '6' '5' '1' '0' '9' '2' '6' '7' '8' '1' '9' '9' '1' '9'\n",
      " '7' '1' '5' '9' '2' '6' '0' '0' '0' '3']\n",
      "\n",
      "proba of 10 first examples :\n",
      "[[2.08910974e-03 8.99141456e-01 2.47366003e-02 8.04948503e-03\n",
      "  5.98285520e-03 1.20096394e-02 2.69590205e-03 2.12716167e-02\n",
      "  1.73050993e-02 6.71823633e-03]\n",
      " [8.99747181e-01 3.29549480e-04 5.76465554e-02 1.45417689e-03\n",
      "  5.60001797e-04 1.14945929e-02 8.63369789e-03 7.78780060e-03\n",
      "  3.75024438e-03 8.59619998e-03]\n",
      " [3.17965072e-03 8.07431452e-01 2.65636371e-02 2.66728722e-02\n",
      "  8.67470124e-03 5.58771341e-02 1.66604280e-02 1.78554586e-02\n",
      "  1.13812482e-02 2.57034179e-02]\n",
      " [2.09652395e-03 9.57018905e-04 2.17089992e-03 1.86920773e-02\n",
      "  2.14815780e-02 7.69357298e-03 1.35784592e-03 6.70201376e-03\n",
      "  5.09026126e-02 8.87945857e-01]\n",
      " [1.09484844e-02 2.47850654e-04 1.11973745e-02 3.68240332e-04\n",
      "  4.44684704e-02 2.82957601e-03 9.18629450e-01 4.71525060e-03\n",
      "  1.18371202e-03 5.41159112e-03]\n",
      " [5.85081487e-04 3.66800636e-04 5.87999501e-03 1.68055874e-01\n",
      "  5.46011424e-03 1.52498116e-02 2.11166339e-03 1.58392853e-03\n",
      "  7.87001364e-01 1.37053671e-02]\n",
      " [5.83818917e-03 1.28027940e-02 2.78554451e-02 8.86036256e-03\n",
      "  9.69468391e-02 7.48356755e-03 6.74397708e-03 2.68825927e-01\n",
      "  1.67546316e-02 5.47888267e-01]\n",
      " [1.54972388e-03 3.34725891e-03 7.80805160e-03 3.33621756e-03\n",
      "  9.98501670e-04 1.30806166e-02 9.60585492e-01 1.85245252e-04\n",
      "  8.24535140e-03 8.63541017e-04]\n",
      " [4.15950405e-03 6.72232897e-05 1.72218471e-03 9.66113842e-03\n",
      "  5.62497192e-04 8.84042979e-01 3.37745581e-04 4.03804130e-04\n",
      "  9.81257272e-02 9.17196033e-04]\n",
      " [1.50510835e-03 4.52534351e-03 6.72922194e-03 1.12821646e-02\n",
      "  4.09790120e-02 8.76455300e-01 2.49270928e-02 1.46926778e-02\n",
      "  7.57101846e-03 1.13330608e-02]]\n",
      "\n",
      "Score on all test set = 0.8837142857142857\n",
      "\n"
     ]
    }
   ],
   "source": [
    "print(f'prediction of 100 first examples :\\n {clsvm.predict(xtest[:100])}\\n')\n",
    "print(f'proba of 10 first examples :\\n{clsvm.predict_proba(xtest[:10])}\\n')\n",
    "print(f'Score on all test set = {clsvm.score(xtest, ytest)}\\n')"
   ]
  },
  {
   "cell_type": "code",
   "execution_count": 16,
   "id": "c6ee05cb",
   "metadata": {},
   "outputs": [
    {
     "name": "stdout",
     "output_type": "stream",
     "text": [
      "linear\n",
      "poly\n",
      "rbf\n",
      "sigmoid\n"
     ]
    }
   ],
   "source": [
    "clsvm = svm.SVC(kernel='linear',probability=True)\n",
    "clsvm.fit(xtrain[:1000], ytrain[:1000])\n",
    "\n",
    "kernel_list = ['linear', 'poly', 'rbf',\n",
    "'sigmoid']\n",
    "\n",
    "scores = dict.fromkeys(kernel_list,0)\n",
    "\n",
    "for kernel in kernel_list:\n",
    "    clsvm = svm.SVC(kernel=kernel,probability=True)\n",
    "    clsvm.fit(xtrain[:1000], ytrain[:1000])\n",
    "    scores[kernel] = clsvm.score(xtest, ytest)"
   ]
  },
  {
   "cell_type": "code",
   "execution_count": 17,
   "id": "4dffbb65",
   "metadata": {},
   "outputs": [
    {
     "data": {
      "image/png": "[encoded data removed]",
      "text/plain": [
       "<Figure size 432x288 with 1 Axes>"
      ]
     },
     "metadata": {
      "needs_background": "light"
     },
     "output_type": "display_data"
    }
   ],
   "source": [
    "kernel_names = list(scores.keys())\n",
    "kernel_scores = list(scores.values())\n",
    "\n",
    "plt.bar(range(len(scores)), kernel_scores, tick_label=kernel_names)\n",
    "plt.show()"
   ]
  },
  {
   "cell_type": "code",
   "execution_count": 22,
   "id": "753059e5",
   "metadata": {},
   "outputs": [],
   "source": [
    "C_values = np.linspace(0.1,1,5)\n",
    "\n",
    "kernel_list = ['linear', 'poly', 'rbf',\n",
    "'sigmoid']\n",
    "\n",
    "scores = dict.fromkeys(kernel_list,[])\n",
    "\n",
    "for kernel in kernel_list:\n",
    "    scores_C = []\n",
    "    for C in C_values:\n",
    "        clsvm = svm.SVC(kernel=kernel,probability=True, C=C)\n",
    "        clsvm.fit(xtrain[:1000], ytrain[:1000])\n",
    "        scores_C.append(clsvm.score(xtest, ytest))\n",
    "    scores[kernel] = scores_C"
   ]
  },
  {
   "cell_type": "code",
   "execution_count": 25,
   "id": "5e0a2fd4",
   "metadata": {},
   "outputs": [
    {
     "data": {
      "image/png": "[encoded data removed]",
      "text/plain": [
       "<Figure size 432x288 with 1 Axes>"
      ]
     },
     "metadata": {
      "needs_background": "light"
     },
     "output_type": "display_data"
    }
   ],
   "source": [
    "for kernel in kernel_list:\n",
    "    plt.plot(scores[kernel],C_values, label = kernel)\n",
    "plt.show()"
   ]
  },
  {
   "cell_type": "code",
   "execution_count": 26,
   "id": "1e7d5ab0",
   "metadata": {},
   "outputs": [
    {
     "ename": "NameError",
     "evalue": "name 'Y_test' is not defined",
     "output_type": "error",
     "traceback": [
      "\u001b[0;31m---------------------------------------------------------------------------\u001b[0m",
      "\u001b[0;31mNameError\u001b[0m                                 Traceback (most recent call last)",
      "\u001b[0;32m<ipython-input-26-135e5c071649>\u001b[0m in \u001b[0;36m<module>\u001b[0;34m\u001b[0m\n\u001b[1;32m      1\u001b[0m \u001b[0;32mfrom\u001b[0m \u001b[0msklearn\u001b[0m\u001b[0;34m.\u001b[0m\u001b[0mmetrics\u001b[0m \u001b[0;32mimport\u001b[0m \u001b[0mconfusion_matrix\u001b[0m\u001b[0;34m\u001b[0m\u001b[0;34m\u001b[0m\u001b[0m\n\u001b[0;32m----> 2\u001b[0;31m \u001b[0mcm\u001b[0m \u001b[0;34m=\u001b[0m \u001b[0mconfusion_matrix\u001b[0m\u001b[0;34m(\u001b[0m\u001b[0mY_test\u001b[0m\u001b[0;34m,\u001b[0m \u001b[0mY_pred\u001b[0m\u001b[0;34m)\u001b[0m\u001b[0;34m\u001b[0m\u001b[0;34m\u001b[0m\u001b[0m\n\u001b[0m",
      "\u001b[0;31mNameError\u001b[0m: name 'Y_test' is not defined"
     ]
    }
   ],
   "source": [
    "from sklearn.metrics import confusion_matrix\n",
    "cm = confusion_matrix(Y_test, Y_pred)"
   ]
  },
  {
   "cell_type": "code",
   "execution_count": null,
   "id": "faef0299",
   "metadata": {},
   "outputs": [],
   "source": []
  }
 ],
 "metadata": {
  "kernelspec": {
   "display_name": "Python 3",
   "language": "python",
   "name": "python3"
  },
  "language_info": {
   "codemirror_mode": {
    "name": "ipython",
    "version": 3
   },
   "file_extension": ".py",
   "mimetype": "text/x-python",
   "name": "python",
   "nbconvert_exporter": "python",
   "pygments_lexer": "ipython3",
   "version": "3.8.10"
  }
 },
 "nbformat": 4,
 "nbformat_minor": 5
}
