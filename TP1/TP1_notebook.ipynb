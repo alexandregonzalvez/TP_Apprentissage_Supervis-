{
 "cells": [
  {
   "cell_type": "code",
   "execution_count": 1,
   "id": "2fdd9a92",
   "metadata": {},
   "outputs": [],
   "source": [
    "from sklearn.datasets import fetch_openml \n",
    "mnist = fetch_openml('mnist_784', as_frame=False) "
   ]
  },
  {
   "cell_type": "code",
   "execution_count": 2,
   "id": "5e8bde83",
   "metadata": {},
   "outputs": [
    {
     "name": "stdout",
     "output_type": "stream",
     "text": [
      "**Author**: Yann LeCun, Corinna Cortes, Christopher J.C. Burges  \n",
      "**Source**: [MNIST Website](http://yann.lecun.com/exdb/mnist/) - Date unknown  \n",
      "**Please cite**:  \n",
      "\n",
      "The MNIST database of handwritten digits with 784 features, raw data available at: http://yann.lecun.com/exdb/mnist/. It can be split in a training set of the first 60,000 examples, and a test set of 10,000 examples  \n",
      "\n",
      "It is a subset of a larger set available from NIST. The digits have been size-normalized and centered in a fixed-size image. It is a good database for people who want to try learning techniques and pattern recognition methods on real-world data while spending minimal efforts on preprocessing and formatting. The original black and white (bilevel) images from NIST were size normalized to fit in a 20x20 pixel box while preserving their aspect ratio. The resulting images contain grey levels as a result of the anti-aliasing technique used by the normalization algorithm. the images were centered in a 28x28 image by computing the center of mass of the pixels, and translating the image so as to position this point at the center of the 28x28 field.  \n",
      "\n",
      "With some classification methods (particularly template-based methods, such as SVM and K-nearest neighbors), the error rate improves when the digits are centered by bounding box rather than center of mass. If you do this kind of pre-processing, you should report it in your publications. The MNIST database was constructed from NIST's NIST originally designated SD-3 as their training set and SD-1 as their test set. However, SD-3 is much cleaner and easier to recognize than SD-1. The reason for this can be found on the fact that SD-3 was collected among Census Bureau employees, while SD-1 was collected among high-school students. Drawing sensible conclusions from learning experiments requires that the result be independent of the choice of training set and test among the complete set of samples. Therefore it was necessary to build a new database by mixing NIST's datasets.  \n",
      "\n",
      "The MNIST training set is composed of 30,000 patterns from SD-3 and 30,000 patterns from SD-1. Our test set was composed of 5,000 patterns from SD-3 and 5,000 patterns from SD-1. The 60,000 pattern training set contained examples from approximately 250 writers. We made sure that the sets of writers of the training set and test set were disjoint. SD-1 contains 58,527 digit images written by 500 different writers. In contrast to SD-3, where blocks of data from each writer appeared in sequence, the data in SD-1 is scrambled. Writer identities for SD-1 is available and we used this information to unscramble the writers. We then split SD-1 in two: characters written by the first 250 writers went into our new training set. The remaining 250 writers were placed in our test set. Thus we had two sets with nearly 30,000 examples each. The new training set was completed with enough examples from SD-3, starting at pattern # 0, to make a full set of 60,000 training patterns. Similarly, the new test set was completed with SD-3 examples starting at pattern # 35,000 to make a full set with 60,000 test patterns. Only a subset of 10,000 test images (5,000 from SD-1 and 5,000 from SD-3) is available on this site. The full 60,000 sample training set is available.\n",
      "\n",
      "Downloaded from openml.org.\n"
     ]
    }
   ],
   "source": [
    "print(mnist.DESCR)"
   ]
  },
  {
   "cell_type": "code",
   "execution_count": 3,
   "id": "2a15eabb",
   "metadata": {
    "scrolled": true
   },
   "outputs": [
    {
     "name": "stdout",
     "output_type": "stream",
     "text": [
      "(70000, 784)\n",
      "(70000,)\n",
      "[  0.   0.   0.   0.   0.   0.   0.   0.   0.   0.   0.   0.   0.   0.\n",
      "   0.   0.   0.   0.   0.   0.   0.   0.   0.   0.   0.   0.   0.   0.\n",
      "   0.   0.   0.   0.   0.   0.   0.   0.   0.   0.   0.   0.   0.   0.\n",
      "   0.   0.   0.   0.   0.   0.   0.   0.   0.   0.   0.   0.   0.   0.\n",
      "   0.   0.   0.   0.   0.   0.   0.   0.   0.   0.   0.   0.   0.   0.\n",
      "   0.   0.   0.   0.   0.   0.   0.   0.   0.   0.   0.   0.   0.   0.\n",
      "   0.   0.   0.   0.   0.   0.   0.   0.   0.   0.   0.   0.   0.   0.\n",
      "   0.   0.   0.   0.   0.   0.   0.   0.   0.   0.   0.   0.   0.   0.\n",
      "   0.   0.   0.   0.   0.   0.   0.   0.   0.   0.   0.   0.   0.   0.\n",
      "   0.   0.   0.   0.   0.   0.   0.   0.   0.   0.   0.   0.   0.   0.\n",
      "   0.   0.   0.   0.   0.   0.   0.   0.   0.   0.   0.   0.   3.  18.\n",
      "  18.  18. 126. 136. 175.  26. 166. 255. 247. 127.   0.   0.   0.   0.\n",
      "   0.   0.   0.   0.   0.   0.   0.   0.  30.  36.  94. 154. 170. 253.\n",
      " 253. 253. 253. 253. 225. 172. 253. 242. 195.  64.   0.   0.   0.   0.\n",
      "   0.   0.   0.   0.   0.   0.   0.  49. 238. 253. 253. 253. 253. 253.\n",
      " 253. 253. 253. 251.  93.  82.  82.  56.  39.   0.   0.   0.   0.   0.\n",
      "   0.   0.   0.   0.   0.   0.   0.  18. 219. 253. 253. 253. 253. 253.\n",
      " 198. 182. 247. 241.   0.   0.   0.   0.   0.   0.   0.   0.   0.   0.\n",
      "   0.   0.   0.   0.   0.   0.   0.   0.  80. 156. 107. 253. 253. 205.\n",
      "  11.   0.  43. 154.   0.   0.   0.   0.   0.   0.   0.   0.   0.   0.\n",
      "   0.   0.   0.   0.   0.   0.   0.   0.   0.  14.   1. 154. 253.  90.\n",
      "   0.   0.   0.   0.   0.   0.   0.   0.   0.   0.   0.   0.   0.   0.\n",
      "   0.   0.   0.   0.   0.   0.   0.   0.   0.   0.   0. 139. 253. 190.\n",
      "   2.   0.   0.   0.   0.   0.   0.   0.   0.   0.   0.   0.   0.   0.\n",
      "   0.   0.   0.   0.   0.   0.   0.   0.   0.   0.   0.  11. 190. 253.\n",
      "  70.   0.   0.   0.   0.   0.   0.   0.   0.   0.   0.   0.   0.   0.\n",
      "   0.   0.   0.   0.   0.   0.   0.   0.   0.   0.   0.   0.  35. 241.\n",
      " 225. 160. 108.   1.   0.   0.   0.   0.   0.   0.   0.   0.   0.   0.\n",
      "   0.   0.   0.   0.   0.   0.   0.   0.   0.   0.   0.   0.   0.  81.\n",
      " 240. 253. 253. 119.  25.   0.   0.   0.   0.   0.   0.   0.   0.   0.\n",
      "   0.   0.   0.   0.   0.   0.   0.   0.   0.   0.   0.   0.   0.   0.\n",
      "  45. 186. 253. 253. 150.  27.   0.   0.   0.   0.   0.   0.   0.   0.\n",
      "   0.   0.   0.   0.   0.   0.   0.   0.   0.   0.   0.   0.   0.   0.\n",
      "   0.  16.  93. 252. 253. 187.   0.   0.   0.   0.   0.   0.   0.   0.\n",
      "   0.   0.   0.   0.   0.   0.   0.   0.   0.   0.   0.   0.   0.   0.\n",
      "   0.   0.   0. 249. 253. 249.  64.   0.   0.   0.   0.   0.   0.   0.\n",
      "   0.   0.   0.   0.   0.   0.   0.   0.   0.   0.   0.   0.   0.   0.\n",
      "  46. 130. 183. 253. 253. 207.   2.   0.   0.   0.   0.   0.   0.   0.\n",
      "   0.   0.   0.   0.   0.   0.   0.   0.   0.   0.   0.   0.  39. 148.\n",
      " 229. 253. 253. 253. 250. 182.   0.   0.   0.   0.   0.   0.   0.   0.\n",
      "   0.   0.   0.   0.   0.   0.   0.   0.   0.   0.  24. 114. 221. 253.\n",
      " 253. 253. 253. 201.  78.   0.   0.   0.   0.   0.   0.   0.   0.   0.\n",
      "   0.   0.   0.   0.   0.   0.   0.   0.  23.  66. 213. 253. 253. 253.\n",
      " 253. 198.  81.   2.   0.   0.   0.   0.   0.   0.   0.   0.   0.   0.\n",
      "   0.   0.   0.   0.   0.   0.  18. 171. 219. 253. 253. 253. 253. 195.\n",
      "  80.   9.   0.   0.   0.   0.   0.   0.   0.   0.   0.   0.   0.   0.\n",
      "   0.   0.   0.   0.  55. 172. 226. 253. 253. 253. 253. 244. 133.  11.\n",
      "   0.   0.   0.   0.   0.   0.   0.   0.   0.   0.   0.   0.   0.   0.\n",
      "   0.   0.   0.   0. 136. 253. 253. 253. 212. 135. 132.  16.   0.   0.\n",
      "   0.   0.   0.   0.   0.   0.   0.   0.   0.   0.   0.   0.   0.   0.\n",
      "   0.   0.   0.   0.   0.   0.   0.   0.   0.   0.   0.   0.   0.   0.\n",
      "   0.   0.   0.   0.   0.   0.   0.   0.   0.   0.   0.   0.   0.   0.\n",
      "   0.   0.   0.   0.   0.   0.   0.   0.   0.   0.   0.   0.   0.   0.\n",
      "   0.   0.   0.   0.   0.   0.   0.   0.   0.   0.   0.   0.   0.   0.\n",
      "   0.   0.   0.   0.   0.   0.   0.   0.   0.   0.   0.   0.   0.   0.\n",
      "   0.   0.   0.   0.   0.   0.   0.   0.   0.   0.   0.   0.   0.   0.]\n",
      "0.0\n",
      "[0. 0. 0. ... 0. 0. 0.]\n",
      "[[0. 0. 0. ... 0. 0. 0.]\n",
      " [0. 0. 0. ... 0. 0. 0.]\n",
      " [0. 0. 0. ... 0. 0. 0.]\n",
      " ...\n",
      " [0. 0. 0. ... 0. 0. 0.]\n",
      " [0. 0. 0. ... 0. 0. 0.]\n",
      " [0. 0. 0. ... 0. 0. 0.]]\n"
     ]
    }
   ],
   "source": [
    "print (mnist.data.shape) \n",
    "print (mnist.target.shape) \n",
    "print (mnist.data[0] )\n",
    "print (mnist.data[0][1] )\n",
    "print (mnist.data[:,1] )\n",
    "print (mnist.data[:100] )"
   ]
  },
  {
   "cell_type": "code",
   "execution_count": 4,
   "id": "42b5ad05",
   "metadata": {},
   "outputs": [
    {
     "data": {
      "image/png": "[encoded data removed]",
      "text/plain": [
       "<Figure size 432x288 with 1 Axes>"
      ]
     },
     "metadata": {
      "needs_background": "light"
     },
     "output_type": "display_data"
    },
    {
     "name": "stdout",
     "output_type": "stream",
     "text": [
      "class = 5\n"
     ]
    }
   ],
   "source": [
    "import matplotlib.pyplot as plt \n",
    "images = mnist.data.reshape((-1, 28, 28)) \n",
    "plt.imshow(images[0],cmap=plt.cm.gray_r,interpolation=\"nearest\") \n",
    "plt.show()\n",
    "print(f'class = {mnist.target[0]}')"
   ]
  },
  {
   "cell_type": "code",
   "execution_count": 5,
   "id": "5a4bd049",
   "metadata": {},
   "outputs": [
    {
     "name": "stdout",
     "output_type": "stream",
     "text": [
      "(49000, 784)\n",
      "(21000, 784)\n"
     ]
    }
   ],
   "source": [
    "from sklearn.model_selection import train_test_split\n",
    "\n",
    "xtrain,  xtest,  ytrain,  ytest  =  train_test_split(mnist.data,  mnist.target, \n",
    "train_size=0.7) \n",
    "\n",
    "print(xtrain.shape)\n",
    "print(xtest.shape)"
   ]
  },
  {
   "cell_type": "code",
   "execution_count": 6,
   "id": "f840f08a",
   "metadata": {},
   "outputs": [
    {
     "name": "stdout",
     "output_type": "stream",
     "text": [
      "n_neighbors selected = 10\n",
      "\n",
      "prediction of 100 first examples :\n",
      " ['9' '2' '5' '9' '4' '5' '3' '1' '3' '7' '9' '4' '6' '2' '7' '8' '4' '6'\n",
      " '2' '3' '6' '8' '2' '5' '7' '3' '3' '6' '4' '5' '3' '7' '1' '2' '1' '5'\n",
      " '4' '1' '3' '1' '5' '7' '9' '8' '3' '1' '3' '0' '8' '0' '1' '4' '2' '6'\n",
      " '6' '6' '6' '6' '8' '8' '3' '9' '2' '0' '2' '6' '9' '2' '8' '8' '7' '0'\n",
      " '1' '8' '5' '3' '5' '3' '7' '7' '1' '7' '1' '9' '8' '7' '8' '6' '8' '3'\n",
      " '5' '1' '2' '2' '0' '0' '3' '9' '6' '3']\n",
      "\n",
      "proba of 10 first examples :\n",
      "[[0.  0.  0.  0.  0.  0.  0.  0.  0.  1. ]\n",
      " [0.  0.  0.7 0.3 0.  0.  0.  0.  0.  0. ]\n",
      " [0.  0.  0.  0.  0.  1.  0.  0.  0.  0. ]\n",
      " [0.  0.  0.  0.  0.  0.  0.  0.  0.  1. ]\n",
      " [0.  0.  0.  0.  0.6 0.  0.  0.1 0.  0.3]\n",
      " [0.  0.  0.  0.  0.1 0.9 0.  0.  0.  0. ]\n",
      " [0.  0.  0.  0.7 0.  0.  0.  0.  0.3 0. ]\n",
      " [0.  1.  0.  0.  0.  0.  0.  0.  0.  0. ]\n",
      " [0.  0.  0.  1.  0.  0.  0.  0.  0.  0. ]\n",
      " [0.  0.  0.  0.  0.  0.  0.  1.  0.  0. ]]\n",
      "\n",
      "Score on all test set = 0.9677619047619047\n",
      "\n"
     ]
    }
   ],
   "source": [
    "from sklearn import neighbors\n",
    "#n_neighbors = int(xtest.shape[0]/len(set(mnist.target))*10)\n",
    "n_neighbors = 10\n",
    "print(f'n_neighbors selected = {n_neighbors}\\n')\n",
    "clf = neighbors.KNeighborsClassifier(n_neighbors) \n",
    "\n",
    "clf.fit(xtrain, ytrain) \n",
    "print(f'prediction of 100 first examples :\\n {clf.predict(xtest[:100])}\\n')\n",
    "print(f'proba of 10 first examples :\\n{clf.predict_proba(xtest[:10])}\\n')\n",
    "print(f'Score on all test set = {clf.score(xtest, ytest)}\\n')"
   ]
  },
  {
   "cell_type": "code",
   "execution_count": 1,
   "id": "83cd667d",
   "metadata": {},
   "outputs": [],
   "source": [
    "# Exercice 2 \n",
    "\n",
    "from sklearn.datasets import fetch_openml \n",
    "from sklearn import neighbors\n",
    "from sklearn.model_selection import train_test_split\n",
    "import matplotlib.pyplot as plt \n",
    "import numpy as np\n",
    "from sklearn.model_selection import KFold\n",
    "import pickle\n",
    "import time\n",
    "\n",
    "def selectRandomData(X,y, size):\n",
    "    indexes = np.random.randint(y.size, size=size)\n",
    "    return np.array([X[i] for i in indexes]),np.array([y[i] for i in indexes])\n",
    "\n",
    "def unpickle(file):\n",
    "    import pickle\n",
    "    with open(file, 'rb') as fo:\n",
    "        data = pickle.load(fo, encoding='latin1')\n",
    "    return data\n"
   ]
  },
  {
   "cell_type": "code",
   "execution_count": 58,
   "id": "4cb1d148",
   "metadata": {},
   "outputs": [
    {
     "name": "stdout",
     "output_type": "stream",
     "text": [
      "K-nn with k = 10 on 5000 images split into training (0.8) et testing set :\n",
      "n_neighbors selected = 10\n"
     ]
    },
    {
     "data": {
      "image/png": "[encoded data removed]",
      "text/plain": [
       "<Figure size 432x288 with 1 Axes>"
      ]
     },
     "metadata": {
      "needs_background": "light"
     },
     "output_type": "display_data"
    },
    {
     "name": "stdout",
     "output_type": "stream",
     "text": [
      "class = 2\n",
      "Score on all test set = 0.922\n",
      "\n"
     ]
    }
   ],
   "source": [
    "n_data=5000\n",
    "repartition=0.8\n",
    "n_neighbors=10\n",
    "\n",
    "print(f'K-nn with k = {n_neighbors} on {n_data} images split into training ({repartition}) et testing set :')\n",
    "\n",
    "# Data selection\n",
    "X,y = selectRandomData(X=mnist.data,y=mnist.target,size=n_data) # Random selection\n",
    "Xtrain,  Xtest,  ytrain,  ytest  =  train_test_split(X,y, train_size=repartition) # Splitting train and test set\n",
    "\n",
    "# Training\n",
    "print(f'n_neighbors selected = {n_neighbors}')\n",
    "clf = neighbors.KNeighborsClassifier(n_neighbors) \n",
    "clf.fit(Xtrain, ytrain) \n",
    "\n",
    "# Predict image 4\n",
    "image_4 = Xtest[3]\n",
    "plt.imshow(image_4.reshape(28, 28) ,cmap=plt.cm.gray_r,interpolation=\"nearest\") \n",
    "plt.show()\n",
    "to_predict = image_4.reshape(1, -1)\n",
    "print(f'class = {clf.predict(to_predict)[0]}')\n",
    "\n",
    "# Testing\n",
    "#print(f'prediction of 100 first examples :\\n {clf.predict(Xtest[:100])}\\n')\n",
    "#print(f'proba of 10 first examples :\\n{clf.predict_proba(Xtest[:10])}\\n')\n",
    "print(f'Score on all test set = {clf.score(Xtest, ytest)}\\n')\n"
   ]
  },
  {
   "cell_type": "code",
   "execution_count": 61,
   "id": "71002e0d",
   "metadata": {},
   "outputs": [
    {
     "name": "stdout",
     "output_type": "stream",
     "text": [
      "K-nn with k between 2 et 15 on 5000 images with 10 kfold split\n"
     ]
    },
    {
     "data": {
      "image/png": "[encoded data removed]",
      "text/plain": [
       "<Figure size 432x288 with 1 Axes>"
      ]
     },
     "metadata": {
      "needs_background": "light"
     },
     "output_type": "display_data"
    },
    {
     "name": "stdout",
     "output_type": "stream",
     "text": [
      "Best is n_neighbors = 4 => score = 0.9234000000000002\n"
     ]
    }
   ],
   "source": [
    "# Parameters\n",
    "n_data=5000\n",
    "k_min=2\n",
    "k_max=15\n",
    "n_splits=10\n",
    "\n",
    "print(f'K-nn with k between {k_min} et {k_max} on {n_data} images with {n_splits} kfold split')\n",
    "\n",
    "# Data selection\n",
    "X,y = selectRandomData(X=mnist.data,y=mnist.target,size=n_data) # Random selection\n",
    "\n",
    "# Splitting with k-fold\n",
    "kf = KFold(n_splits=n_splits,shuffle=True)\n",
    "kf.get_n_splits(X)\n",
    "\n",
    "# Train and test for different n_neighbors\n",
    "scores = []\n",
    "for n_neighbors in range(k_min,k_max+1):\n",
    "    score = 0\n",
    "    clf = neighbors.KNeighborsClassifier(n_neighbors) \n",
    "\n",
    "    for train_index, test_index in kf.split(X):\n",
    "        clf.fit(X[train_index], y[train_index])\n",
    "        score +=  clf.score(X[test_index], y[test_index])\n",
    "    scores.append(score/n_splits)\n",
    "\n",
    "k_list = [i for i in range(k_min,k_max+1)]\n",
    "plt.plot(k_list,scores)\n",
    "plt.xlabel('k')\n",
    "plt.ylabel('score')\n",
    "plt.title('Evolution of score by numbers of neighbors')\n",
    "plt.show()\n",
    "\n",
    "# Find best k and his score\n",
    "best_i = -1\n",
    "best_score = -1\n",
    "for i,score in enumerate(scores):\n",
    "    if(best_score<score):\n",
    "        best_score = score\n",
    "        best_i = i\n",
    "print(f'Best is n_neighbors = {best_i+2} => score = {best_score}')"
   ]
  },
  {
   "cell_type": "code",
   "execution_count": 14,
   "id": "bb06c49b",
   "metadata": {},
   "outputs": [
    {
     "data": {
      "image/png": "[encoded data removed]",
      "text/plain": [
       "<Figure size 432x288 with 1 Axes>"
      ]
     },
     "metadata": {
      "needs_background": "light"
     },
     "output_type": "display_data"
    }
   ],
   "source": [
    "# Sur un autre test"
   ]
  },
  {
   "cell_type": "code",
   "execution_count": 65,
   "id": "6c724a84",
   "metadata": {},
   "outputs": [
    {
     "name": "stdout",
     "output_type": "stream",
     "text": [
      "K-nn with k between 3 et 6 on 5000 images with numbers of kfold splits in [2, 3, 4, 5, 8, 10, 15, 20, 50, 100, 500]\n",
      "testing settings ...\n",
      "\tn_split = 2 <=> proportion train test = 0.5\n",
      "\tn_split = 3 <=> proportion train test = 0.6666666666666667\n",
      "\tn_split = 4 <=> proportion train test = 0.75\n",
      "\tn_split = 5 <=> proportion train test = 0.8\n",
      "\tn_split = 8 <=> proportion train test = 0.875\n",
      "\tn_split = 10 <=> proportion train test = 0.9\n",
      "\tn_split = 15 <=> proportion train test = 0.9333333333333333\n",
      "\tn_split = 20 <=> proportion train test = 0.95\n",
      "\tn_split = 50 <=> proportion train test = 0.98\n",
      "\tn_split = 100 <=> proportion train test = 0.99\n",
      "\tn_split = 500 <=> proportion train test = 0.998\n",
      "Meilleur résultat = {'n_splits': 500, 'k': 3, 'score': 0.9321999999999986} <=> percent of data in train test = 0.998\n"
     ]
    },
    {
     "data": {
      "image/png": "[encoded data removed]",
      "text/plain": [
       "<Figure size 432x288 with 1 Axes>"
      ]
     },
     "metadata": {
      "needs_background": "light"
     },
     "output_type": "display_data"
    }
   ],
   "source": [
    "# parameters\n",
    "n_data=5000\n",
    "k_min=3\n",
    "k_max=6\n",
    "N_SPLITS_LIST = [2,3,4,5,8,10,15,20,50,100,500]\n",
    "\n",
    "print(f'K-nn with k between {k_min} et {k_max} on {n_data} images with numbers of kfold splits in {N_SPLITS_LIST}')\n",
    "\n",
    "# Data selection\n",
    "X,y = selectRandomData(X=mnist.data,y=mnist.target,size=n_data) # Random selection\n",
    "\n",
    "results = []\n",
    "print(\"testing settings ...\")\n",
    "for n_splits in N_SPLITS_LIST:\n",
    "    # Splitting with k-fold\n",
    "    print(f'\\tn_split = {n_splits} <=> proportion train test = {1-1/n_splits}')\n",
    "    kf = KFold(n_splits=n_splits,shuffle=True)\n",
    "    kf.get_n_splits(X)\n",
    "\n",
    "    # Train and test for different n_neighbors\n",
    "    for n_neighbors in range(k_min,k_max+1):\n",
    "        score = 0\n",
    "        clf = neighbors.KNeighborsClassifier(n_neighbors) \n",
    "\n",
    "        for train_index, test_index in kf.split(X):\n",
    "            clf.fit(X[train_index], y[train_index])\n",
    "            score +=  clf.score(X[test_index], y[test_index])\n",
    "        results.append({\"n_splits\":n_splits,\"k\":n_neighbors,\"score\":score/n_splits})\n",
    "\n",
    "pickle.dump(results, open( \"results/results_proportion_training.p\", \"wb\" )) # Save results\n",
    "\n",
    "best_score = -1\n",
    "best_result = None\n",
    "for result in results:\n",
    "    if(result[\"score\"]>best_score):\n",
    "        best_score = result[\"score\"]\n",
    "        best_result = result\n",
    "\n",
    "print(\"Meilleur résultat = {} <=> percent of data in train test = {}\".format(best_result,1-1/best_result[\"n_splits\"]))\n",
    "\n",
    "# Find best results for each n_splits\n",
    "best_score_by_nsplits = np.zeros(np.size(N_SPLITS_LIST))\n",
    "for result in results:\n",
    "    index_n_splits = N_SPLITS_LIST.index(result[\"n_splits\"]) \n",
    "    if(result[\"score\"]>best_score_by_nsplits[index_n_splits]):\n",
    "        best_score_by_nsplits[index_n_splits] = result[\"score\"]\n",
    "\n",
    "# Plotting\n",
    "PROPORTION_IN_TRAINING_LIST = [1-1/elem for elem in N_SPLITS_LIST]\n",
    "plt.plot(PROPORTION_IN_TRAINING_LIST,best_score_by_nsplits)\n",
    "plt.xlabel('proportion in training set')\n",
    "plt.ylabel('score')\n",
    "plt.title('Evolution of score by proportion of data in training set')\n",
    "plt.show()"
   ]
  },
  {
   "cell_type": "code",
   "execution_count": null,
   "id": "2f9b296b",
   "metadata": {},
   "outputs": [],
   "source": [
    "k_min=3\n",
    "k_max=6\n",
    "N_DATA_LIST = [200,500,1000,2000,5000,10000,20000]\n",
    "N_SPLITS_LIST = [20,50,100]\n",
    "\n",
    "print(f'K-nn with k between {k_min} et {k_max} on number of images in N_DATA_LIST with numbers of kfold splits in {N_SPLITS_LIST}')\n",
    "\n",
    "results = []\n",
    "print(\"testing settings ...\")\n",
    "for number_data in N_DATA_LIST:\n",
    "    print(f'\\tnumber of images = {number_data}')\n",
    "    X,y = selectRandomData(X=mnist.data,y=mnist.target,size=number_data) # Random selection\n",
    "\n",
    "    for n_splits in N_SPLITS_LIST:\n",
    "\n",
    "        # Splitting with k-fold\n",
    "        print(f'\\t\\tn_split = {n_splits} <=> proportion train test = {1-1/n_splits}')\n",
    "        kf = KFold(n_splits=n_splits,shuffle=True)\n",
    "        kf.get_n_splits(X)\n",
    "\n",
    "        # Train and test for different n_neighbors\n",
    "        for n_neighbors in range(k_min,k_max+1):\n",
    "            score = 0\n",
    "            clf = neighbors.KNeighborsClassifier(n_neighbors) \n",
    "\n",
    "            for train_index, test_index in kf.split(X):\n",
    "                clf.fit(X[train_index], y[train_index])\n",
    "                score +=  clf.score(X[test_index], y[test_index])\n",
    "            results.append({\"n_data\":number_data,\"n_splits\":n_splits,\"n_neighbors\":n_neighbors,\"score\":score/n_splits})\n",
    "\n",
    "pickle.dump(results, open( \"results/results_size_ds.p\", \"wb\" )) # Save results\n",
    "\n",
    "best_score = -1\n",
    "best_result = None\n",
    "for result in results:\n",
    "    if(best_score<result[\"score\"]):\n",
    "        best_score = result[\"score\"]\n",
    "        best_result = result\n",
    "\n",
    "\n",
    "print(\"Meilleur résultat = {} <=> percent of data in train test = {}\".format(best_result,1-1/best_result[\"n_splits\"]))\n",
    "\n",
    "# Find best results for each n_splits\n",
    "best_score_by_ndata = np.zeros(np.size(N_DATA_LIST))\n",
    "for result in results:\n",
    "    index_n_data = N_DATA_LIST.index(result[\"n_data\"]) \n",
    "    if(result[\"score\"]>best_score_by_ndata[index_n_data]):\n",
    "        best_score_by_ndata[index_n_data] = result[\"score\"]\n",
    "\n",
    "# Plotting\n",
    "plt.plot(N_DATA_LIST,best_score_by_ndata)\n",
    "plt.xlabel('number of data')\n",
    "plt.ylabel('score')\n",
    "plt.title('Evolution of score by number of data')\n",
    "plt.show()"
   ]
  },
  {
   "cell_type": "code",
   "execution_count": 36,
   "id": "0286179f",
   "metadata": {},
   "outputs": [
    {
     "name": "stdout",
     "output_type": "stream",
     "text": [
      "KNN with metrics euclidean\n",
      "k : 3\t score : 0.9334000000000002\n",
      "k : 5\t score : 0.9339999999999999\n",
      "k : 8\t score : 0.9324000000000003\n",
      "k : 10\t score : 0.9270000000000003\n"
     ]
    },
    {
     "ename": "KeyboardInterrupt",
     "evalue": "",
     "output_type": "error",
     "traceback": [
      "\u001b[1;31m---------------------------------------------------------------------------\u001b[0m",
      "\u001b[1;31mKeyboardInterrupt\u001b[0m                         Traceback (most recent call last)",
      "\u001b[1;32mC:\\Users\\ALEXAN~1\\AppData\\Local\\Temp/ipykernel_5608/2521842593.py\u001b[0m in \u001b[0;36m<module>\u001b[1;34m\u001b[0m\n\u001b[0;32m     22\u001b[0m             \u001b[1;32mfor\u001b[0m \u001b[0mtrain_index\u001b[0m\u001b[1;33m,\u001b[0m \u001b[0mtest_index\u001b[0m \u001b[1;32min\u001b[0m \u001b[0mkf\u001b[0m\u001b[1;33m.\u001b[0m\u001b[0msplit\u001b[0m\u001b[1;33m(\u001b[0m\u001b[0mX\u001b[0m\u001b[1;33m)\u001b[0m\u001b[1;33m:\u001b[0m\u001b[1;33m\u001b[0m\u001b[1;33m\u001b[0m\u001b[0m\n\u001b[0;32m     23\u001b[0m                 \u001b[0mclf\u001b[0m\u001b[1;33m.\u001b[0m\u001b[0mfit\u001b[0m\u001b[1;33m(\u001b[0m\u001b[0mX\u001b[0m\u001b[1;33m[\u001b[0m\u001b[0mtrain_index\u001b[0m\u001b[1;33m]\u001b[0m\u001b[1;33m,\u001b[0m \u001b[0my\u001b[0m\u001b[1;33m[\u001b[0m\u001b[0mtrain_index\u001b[0m\u001b[1;33m]\u001b[0m\u001b[1;33m)\u001b[0m\u001b[1;33m\u001b[0m\u001b[1;33m\u001b[0m\u001b[0m\n\u001b[1;32m---> 24\u001b[1;33m                 \u001b[0mscore\u001b[0m \u001b[1;33m+=\u001b[0m  \u001b[0mclf\u001b[0m\u001b[1;33m.\u001b[0m\u001b[0mscore\u001b[0m\u001b[1;33m(\u001b[0m\u001b[0mX\u001b[0m\u001b[1;33m[\u001b[0m\u001b[0mtest_index\u001b[0m\u001b[1;33m]\u001b[0m\u001b[1;33m,\u001b[0m \u001b[0my\u001b[0m\u001b[1;33m[\u001b[0m\u001b[0mtest_index\u001b[0m\u001b[1;33m]\u001b[0m\u001b[1;33m)\u001b[0m\u001b[1;33m\u001b[0m\u001b[1;33m\u001b[0m\u001b[0m\n\u001b[0m\u001b[0;32m     25\u001b[0m             \u001b[0mresults\u001b[0m\u001b[1;33m.\u001b[0m\u001b[0mappend\u001b[0m\u001b[1;33m(\u001b[0m\u001b[1;33m{\u001b[0m\u001b[1;34m\"k\"\u001b[0m\u001b[1;33m:\u001b[0m\u001b[0mn_neighbors\u001b[0m\u001b[1;33m,\u001b[0m\u001b[1;34m\"score\"\u001b[0m\u001b[1;33m:\u001b[0m\u001b[0mscore\u001b[0m\u001b[1;33m/\u001b[0m\u001b[0mN_SPLITS\u001b[0m\u001b[1;33m}\u001b[0m\u001b[1;33m)\u001b[0m\u001b[1;33m\u001b[0m\u001b[1;33m\u001b[0m\u001b[0m\n\u001b[0;32m     26\u001b[0m             \u001b[0mprint\u001b[0m\u001b[1;33m(\u001b[0m\u001b[1;34mf'k : {n_neighbors}\\t score : {score/N_SPLITS}'\u001b[0m\u001b[1;33m)\u001b[0m\u001b[1;33m\u001b[0m\u001b[1;33m\u001b[0m\u001b[0m\n",
      "\u001b[1;32m~\\anaconda3\\envs\\Apprentissage5A\\lib\\site-packages\\sklearn\\base.py\u001b[0m in \u001b[0;36mscore\u001b[1;34m(self, X, y, sample_weight)\u001b[0m\n\u001b[0;32m    640\u001b[0m         \u001b[1;32mfrom\u001b[0m \u001b[1;33m.\u001b[0m\u001b[0mmetrics\u001b[0m \u001b[1;32mimport\u001b[0m \u001b[0maccuracy_score\u001b[0m\u001b[1;33m\u001b[0m\u001b[1;33m\u001b[0m\u001b[0m\n\u001b[0;32m    641\u001b[0m \u001b[1;33m\u001b[0m\u001b[0m\n\u001b[1;32m--> 642\u001b[1;33m         \u001b[1;32mreturn\u001b[0m \u001b[0maccuracy_score\u001b[0m\u001b[1;33m(\u001b[0m\u001b[0my\u001b[0m\u001b[1;33m,\u001b[0m \u001b[0mself\u001b[0m\u001b[1;33m.\u001b[0m\u001b[0mpredict\u001b[0m\u001b[1;33m(\u001b[0m\u001b[0mX\u001b[0m\u001b[1;33m)\u001b[0m\u001b[1;33m,\u001b[0m \u001b[0msample_weight\u001b[0m\u001b[1;33m=\u001b[0m\u001b[0msample_weight\u001b[0m\u001b[1;33m)\u001b[0m\u001b[1;33m\u001b[0m\u001b[1;33m\u001b[0m\u001b[0m\n\u001b[0m\u001b[0;32m    643\u001b[0m \u001b[1;33m\u001b[0m\u001b[0m\n\u001b[0;32m    644\u001b[0m     \u001b[1;32mdef\u001b[0m \u001b[0m_more_tags\u001b[0m\u001b[1;33m(\u001b[0m\u001b[0mself\u001b[0m\u001b[1;33m)\u001b[0m\u001b[1;33m:\u001b[0m\u001b[1;33m\u001b[0m\u001b[1;33m\u001b[0m\u001b[0m\n",
      "\u001b[1;32m~\\anaconda3\\envs\\Apprentissage5A\\lib\\site-packages\\sklearn\\neighbors\\_classification.py\u001b[0m in \u001b[0;36mpredict\u001b[1;34m(self, X)\u001b[0m\n\u001b[0;32m    214\u001b[0m         \u001b[0mX\u001b[0m \u001b[1;33m=\u001b[0m \u001b[0mself\u001b[0m\u001b[1;33m.\u001b[0m\u001b[0m_validate_data\u001b[0m\u001b[1;33m(\u001b[0m\u001b[0mX\u001b[0m\u001b[1;33m,\u001b[0m \u001b[0maccept_sparse\u001b[0m\u001b[1;33m=\u001b[0m\u001b[1;34m\"csr\"\u001b[0m\u001b[1;33m,\u001b[0m \u001b[0mreset\u001b[0m\u001b[1;33m=\u001b[0m\u001b[1;32mFalse\u001b[0m\u001b[1;33m)\u001b[0m\u001b[1;33m\u001b[0m\u001b[1;33m\u001b[0m\u001b[0m\n\u001b[0;32m    215\u001b[0m \u001b[1;33m\u001b[0m\u001b[0m\n\u001b[1;32m--> 216\u001b[1;33m         \u001b[0mneigh_dist\u001b[0m\u001b[1;33m,\u001b[0m \u001b[0mneigh_ind\u001b[0m \u001b[1;33m=\u001b[0m \u001b[0mself\u001b[0m\u001b[1;33m.\u001b[0m\u001b[0mkneighbors\u001b[0m\u001b[1;33m(\u001b[0m\u001b[0mX\u001b[0m\u001b[1;33m)\u001b[0m\u001b[1;33m\u001b[0m\u001b[1;33m\u001b[0m\u001b[0m\n\u001b[0m\u001b[0;32m    217\u001b[0m         \u001b[0mclasses_\u001b[0m \u001b[1;33m=\u001b[0m \u001b[0mself\u001b[0m\u001b[1;33m.\u001b[0m\u001b[0mclasses_\u001b[0m\u001b[1;33m\u001b[0m\u001b[1;33m\u001b[0m\u001b[0m\n\u001b[0;32m    218\u001b[0m         \u001b[0m_y\u001b[0m \u001b[1;33m=\u001b[0m \u001b[0mself\u001b[0m\u001b[1;33m.\u001b[0m\u001b[0m_y\u001b[0m\u001b[1;33m\u001b[0m\u001b[1;33m\u001b[0m\u001b[0m\n",
      "\u001b[1;32m~\\anaconda3\\envs\\Apprentissage5A\\lib\\site-packages\\sklearn\\neighbors\\_base.py\u001b[0m in \u001b[0;36mkneighbors\u001b[1;34m(self, X, n_neighbors, return_distance)\u001b[0m\n\u001b[0;32m    747\u001b[0m                 \u001b[0mkwds\u001b[0m \u001b[1;33m=\u001b[0m \u001b[0mself\u001b[0m\u001b[1;33m.\u001b[0m\u001b[0meffective_metric_params_\u001b[0m\u001b[1;33m\u001b[0m\u001b[1;33m\u001b[0m\u001b[0m\n\u001b[0;32m    748\u001b[0m \u001b[1;33m\u001b[0m\u001b[0m\n\u001b[1;32m--> 749\u001b[1;33m             chunked_results = list(\n\u001b[0m\u001b[0;32m    750\u001b[0m                 pairwise_distances_chunked(\n\u001b[0;32m    751\u001b[0m                     \u001b[0mX\u001b[0m\u001b[1;33m,\u001b[0m\u001b[1;33m\u001b[0m\u001b[1;33m\u001b[0m\u001b[0m\n",
      "\u001b[1;32m~\\anaconda3\\envs\\Apprentissage5A\\lib\\site-packages\\sklearn\\metrics\\pairwise.py\u001b[0m in \u001b[0;36mpairwise_distances_chunked\u001b[1;34m(X, Y, reduce_func, metric, n_jobs, working_memory, **kwds)\u001b[0m\n\u001b[0;32m   1710\u001b[0m         \u001b[1;32melse\u001b[0m\u001b[1;33m:\u001b[0m\u001b[1;33m\u001b[0m\u001b[1;33m\u001b[0m\u001b[0m\n\u001b[0;32m   1711\u001b[0m             \u001b[0mX_chunk\u001b[0m \u001b[1;33m=\u001b[0m \u001b[0mX\u001b[0m\u001b[1;33m[\u001b[0m\u001b[0msl\u001b[0m\u001b[1;33m]\u001b[0m\u001b[1;33m\u001b[0m\u001b[1;33m\u001b[0m\u001b[0m\n\u001b[1;32m-> 1712\u001b[1;33m         \u001b[0mD_chunk\u001b[0m \u001b[1;33m=\u001b[0m \u001b[0mpairwise_distances\u001b[0m\u001b[1;33m(\u001b[0m\u001b[0mX_chunk\u001b[0m\u001b[1;33m,\u001b[0m \u001b[0mY\u001b[0m\u001b[1;33m,\u001b[0m \u001b[0mmetric\u001b[0m\u001b[1;33m=\u001b[0m\u001b[0mmetric\u001b[0m\u001b[1;33m,\u001b[0m \u001b[0mn_jobs\u001b[0m\u001b[1;33m=\u001b[0m\u001b[0mn_jobs\u001b[0m\u001b[1;33m,\u001b[0m \u001b[1;33m**\u001b[0m\u001b[0mkwds\u001b[0m\u001b[1;33m)\u001b[0m\u001b[1;33m\u001b[0m\u001b[1;33m\u001b[0m\u001b[0m\n\u001b[0m\u001b[0;32m   1713\u001b[0m         if (X is Y or Y is None) and PAIRWISE_DISTANCE_FUNCTIONS.get(\n\u001b[0;32m   1714\u001b[0m             \u001b[0mmetric\u001b[0m\u001b[1;33m,\u001b[0m \u001b[1;32mNone\u001b[0m\u001b[1;33m\u001b[0m\u001b[1;33m\u001b[0m\u001b[0m\n",
      "\u001b[1;32m~\\anaconda3\\envs\\Apprentissage5A\\lib\\site-packages\\sklearn\\metrics\\pairwise.py\u001b[0m in \u001b[0;36mpairwise_distances\u001b[1;34m(X, Y, metric, n_jobs, force_all_finite, **kwds)\u001b[0m\n\u001b[0;32m   1882\u001b[0m         \u001b[0mfunc\u001b[0m \u001b[1;33m=\u001b[0m \u001b[0mpartial\u001b[0m\u001b[1;33m(\u001b[0m\u001b[0mdistance\u001b[0m\u001b[1;33m.\u001b[0m\u001b[0mcdist\u001b[0m\u001b[1;33m,\u001b[0m \u001b[0mmetric\u001b[0m\u001b[1;33m=\u001b[0m\u001b[0mmetric\u001b[0m\u001b[1;33m,\u001b[0m \u001b[1;33m**\u001b[0m\u001b[0mkwds\u001b[0m\u001b[1;33m)\u001b[0m\u001b[1;33m\u001b[0m\u001b[1;33m\u001b[0m\u001b[0m\n\u001b[0;32m   1883\u001b[0m \u001b[1;33m\u001b[0m\u001b[0m\n\u001b[1;32m-> 1884\u001b[1;33m     \u001b[1;32mreturn\u001b[0m \u001b[0m_parallel_pairwise\u001b[0m\u001b[1;33m(\u001b[0m\u001b[0mX\u001b[0m\u001b[1;33m,\u001b[0m \u001b[0mY\u001b[0m\u001b[1;33m,\u001b[0m \u001b[0mfunc\u001b[0m\u001b[1;33m,\u001b[0m \u001b[0mn_jobs\u001b[0m\u001b[1;33m,\u001b[0m \u001b[1;33m**\u001b[0m\u001b[0mkwds\u001b[0m\u001b[1;33m)\u001b[0m\u001b[1;33m\u001b[0m\u001b[1;33m\u001b[0m\u001b[0m\n\u001b[0m\u001b[0;32m   1885\u001b[0m \u001b[1;33m\u001b[0m\u001b[0m\n\u001b[0;32m   1886\u001b[0m \u001b[1;33m\u001b[0m\u001b[0m\n",
      "\u001b[1;32m~\\anaconda3\\envs\\Apprentissage5A\\lib\\site-packages\\sklearn\\metrics\\pairwise.py\u001b[0m in \u001b[0;36m_parallel_pairwise\u001b[1;34m(X, Y, func, n_jobs, **kwds)\u001b[0m\n\u001b[0;32m   1423\u001b[0m \u001b[1;33m\u001b[0m\u001b[0m\n\u001b[0;32m   1424\u001b[0m     \u001b[1;32mif\u001b[0m \u001b[0meffective_n_jobs\u001b[0m\u001b[1;33m(\u001b[0m\u001b[0mn_jobs\u001b[0m\u001b[1;33m)\u001b[0m \u001b[1;33m==\u001b[0m \u001b[1;36m1\u001b[0m\u001b[1;33m:\u001b[0m\u001b[1;33m\u001b[0m\u001b[1;33m\u001b[0m\u001b[0m\n\u001b[1;32m-> 1425\u001b[1;33m         \u001b[1;32mreturn\u001b[0m \u001b[0mfunc\u001b[0m\u001b[1;33m(\u001b[0m\u001b[0mX\u001b[0m\u001b[1;33m,\u001b[0m \u001b[0mY\u001b[0m\u001b[1;33m,\u001b[0m \u001b[1;33m**\u001b[0m\u001b[0mkwds\u001b[0m\u001b[1;33m)\u001b[0m\u001b[1;33m\u001b[0m\u001b[1;33m\u001b[0m\u001b[0m\n\u001b[0m\u001b[0;32m   1426\u001b[0m \u001b[1;33m\u001b[0m\u001b[0m\n\u001b[0;32m   1427\u001b[0m     \u001b[1;31m# enforce a threading backend to prevent data communication overhead\u001b[0m\u001b[1;33m\u001b[0m\u001b[1;33m\u001b[0m\u001b[0m\n",
      "\u001b[1;32m~\\anaconda3\\envs\\Apprentissage5A\\lib\\site-packages\\sklearn\\metrics\\pairwise.py\u001b[0m in \u001b[0;36meuclidean_distances\u001b[1;34m(X, Y, Y_norm_squared, squared, X_norm_squared)\u001b[0m\n\u001b[0;32m    325\u001b[0m             )\n\u001b[0;32m    326\u001b[0m \u001b[1;33m\u001b[0m\u001b[0m\n\u001b[1;32m--> 327\u001b[1;33m     \u001b[1;32mreturn\u001b[0m \u001b[0m_euclidean_distances\u001b[0m\u001b[1;33m(\u001b[0m\u001b[0mX\u001b[0m\u001b[1;33m,\u001b[0m \u001b[0mY\u001b[0m\u001b[1;33m,\u001b[0m \u001b[0mX_norm_squared\u001b[0m\u001b[1;33m,\u001b[0m \u001b[0mY_norm_squared\u001b[0m\u001b[1;33m,\u001b[0m \u001b[0msquared\u001b[0m\u001b[1;33m)\u001b[0m\u001b[1;33m\u001b[0m\u001b[1;33m\u001b[0m\u001b[0m\n\u001b[0m\u001b[0;32m    328\u001b[0m \u001b[1;33m\u001b[0m\u001b[0m\n\u001b[0;32m    329\u001b[0m \u001b[1;33m\u001b[0m\u001b[0m\n",
      "\u001b[1;32m~\\anaconda3\\envs\\Apprentissage5A\\lib\\site-packages\\sklearn\\metrics\\pairwise.py\u001b[0m in \u001b[0;36m_euclidean_distances\u001b[1;34m(X, Y, X_norm_squared, Y_norm_squared, squared)\u001b[0m\n\u001b[0;32m    366\u001b[0m     \u001b[1;32melse\u001b[0m\u001b[1;33m:\u001b[0m\u001b[1;33m\u001b[0m\u001b[1;33m\u001b[0m\u001b[0m\n\u001b[0;32m    367\u001b[0m         \u001b[1;31m# if dtype is already float64, no need to chunk and upcast\u001b[0m\u001b[1;33m\u001b[0m\u001b[1;33m\u001b[0m\u001b[0m\n\u001b[1;32m--> 368\u001b[1;33m         \u001b[0mdistances\u001b[0m \u001b[1;33m=\u001b[0m \u001b[1;33m-\u001b[0m\u001b[1;36m2\u001b[0m \u001b[1;33m*\u001b[0m \u001b[0msafe_sparse_dot\u001b[0m\u001b[1;33m(\u001b[0m\u001b[0mX\u001b[0m\u001b[1;33m,\u001b[0m \u001b[0mY\u001b[0m\u001b[1;33m.\u001b[0m\u001b[0mT\u001b[0m\u001b[1;33m,\u001b[0m \u001b[0mdense_output\u001b[0m\u001b[1;33m=\u001b[0m\u001b[1;32mTrue\u001b[0m\u001b[1;33m)\u001b[0m\u001b[1;33m\u001b[0m\u001b[1;33m\u001b[0m\u001b[0m\n\u001b[0m\u001b[0;32m    369\u001b[0m         \u001b[0mdistances\u001b[0m \u001b[1;33m+=\u001b[0m \u001b[0mXX\u001b[0m\u001b[1;33m\u001b[0m\u001b[1;33m\u001b[0m\u001b[0m\n\u001b[0;32m    370\u001b[0m         \u001b[0mdistances\u001b[0m \u001b[1;33m+=\u001b[0m \u001b[0mYY\u001b[0m\u001b[1;33m\u001b[0m\u001b[1;33m\u001b[0m\u001b[0m\n",
      "\u001b[1;32m~\\anaconda3\\envs\\Apprentissage5A\\lib\\site-packages\\sklearn\\utils\\extmath.py\u001b[0m in \u001b[0;36msafe_sparse_dot\u001b[1;34m(a, b, dense_output)\u001b[0m\n\u001b[0;32m    151\u001b[0m             \u001b[0mret\u001b[0m \u001b[1;33m=\u001b[0m \u001b[0mnp\u001b[0m\u001b[1;33m.\u001b[0m\u001b[0mdot\u001b[0m\u001b[1;33m(\u001b[0m\u001b[0ma\u001b[0m\u001b[1;33m,\u001b[0m \u001b[0mb\u001b[0m\u001b[1;33m)\u001b[0m\u001b[1;33m\u001b[0m\u001b[1;33m\u001b[0m\u001b[0m\n\u001b[0;32m    152\u001b[0m     \u001b[1;32melse\u001b[0m\u001b[1;33m:\u001b[0m\u001b[1;33m\u001b[0m\u001b[1;33m\u001b[0m\u001b[0m\n\u001b[1;32m--> 153\u001b[1;33m         \u001b[0mret\u001b[0m \u001b[1;33m=\u001b[0m \u001b[0ma\u001b[0m \u001b[1;33m@\u001b[0m \u001b[0mb\u001b[0m\u001b[1;33m\u001b[0m\u001b[1;33m\u001b[0m\u001b[0m\n\u001b[0m\u001b[0;32m    154\u001b[0m \u001b[1;33m\u001b[0m\u001b[0m\n\u001b[0;32m    155\u001b[0m     if (\n",
      "\u001b[1;31mKeyboardInterrupt\u001b[0m: "
     ]
    }
   ],
   "source": [
    "# Parameters\n",
    "NUMBER_DATA = 5000\n",
    "N_SPLITS = 50\n",
    "N_NEIGHBORS_LIST = [3,5,8,10,15]\n",
    "\n",
    "# Data extraction and selection\n",
    "X,y = selectRandomData(X=mnist.data,y=mnist.target,size=NUMBER_DATA) # Random selection\n",
    "\n",
    "# Splitting with k-fold\n",
    "\n",
    "kf = KFold(n_splits=N_SPLITS,shuffle=True)\n",
    "kf.get_n_splits(X)\n",
    "\n",
    "# Train and test for different metrics\n",
    "metrics = [\"euclidean\",\"manhattan\",\"chebyshev\",\"minkowski\"]\n",
    "for metric in metrics:\n",
    "        print(\"KNN with metrics\",metric)\n",
    "        results = []\n",
    "        for n_neighbors in N_NEIGHBORS_LIST:\n",
    "            score = 0\n",
    "            clf = neighbors.KNeighborsClassifier(n_neighbors,metric=metric)\n",
    "            for train_index, test_index in kf.split(X):\n",
    "                clf.fit(X[train_index], y[train_index])\n",
    "                score +=  clf.score(X[test_index], y[test_index])\n",
    "            results.append({\"k\":n_neighbors,\"score\":score/N_SPLITS})\n",
    "            print(f'k : {n_neighbors}\\t score : {score/N_SPLITS}')\n",
    "        pickle.dump(results, open(f'results/by_metric/results_{metric}.p', \"wb\" ))\n"
   ]
  },
  {
   "cell_type": "code",
   "execution_count": 42,
   "id": "bb81e937",
   "metadata": {},
   "outputs": [
    {
     "data": {
      "image/png": "[encoded data removed]",
      "text/plain": [
       "<Figure size 432x288 with 1 Axes>"
      ]
     },
     "metadata": {
      "needs_background": "light"
     },
     "output_type": "display_data"
    }
   ],
   "source": [
    "N_NEIGHBORS_LIST = [3,5,8,10,15]\n",
    "metrics = [\"euclidean\",\"manhattan\",\"chebyshev\",\"minkowski\"]\n",
    "\n",
    "for metric in metrics:\n",
    "    results = unpickle(f'results/by_metric/results_{metric}.p')\n",
    "    scores = [result[\"score\"] for result in results]\n",
    "    plt.plot(N_NEIGHBORS_LIST, scores, label=metric)\n",
    "\n",
    "plt.xlabel('k')\n",
    "plt.ylabel('score')\n",
    "plt.title('Evolution of score by numbers of neighbors')\n",
    "plt.legend()\n",
    "plt.show()"
   ]
  },
  {
   "cell_type": "code",
   "execution_count": 57,
   "id": "06453188",
   "metadata": {},
   "outputs": [
    {
     "name": "stdout",
     "output_type": "stream",
     "text": [
      "time with n_jobs = -1 is 5.458676338195801 seconds\n",
      "time with n_jobs = 1 is 4.167070150375366 seconds\n"
     ]
    }
   ],
   "source": [
    "# n_job\n",
    "# Parameters\n",
    "NUMBER_DATA = 20000\n",
    "N_NEIGHBORS = 5\n",
    "REPARTITION_TRAIN_TEST = 0.5\n",
    "# Data extraction and selection\n",
    "X,y = selectRandomData(X=mnist.data,y=mnist.target,size=NUMBER_DATA) # Random selection\n",
    "\n",
    "Xtrain,  Xtest,  ytrain,  ytest  =  train_test_split(X,y, train_size=REPARTITION_TRAIN_TEST) # Splitting train and test set\n",
    "\n",
    "n_jobs = -1\n",
    "clf = neighbors.KNeighborsClassifier(N_NEIGHBORS,n_jobs=n_jobs) \n",
    "clf.fit(Xtrain, ytrain)\n",
    "start_time = time.time()\n",
    "score = clf.score(Xtest, ytest) \n",
    "print(\"time with n_jobs = {} is {} seconds\".format(n_jobs,time.time()-start_time))\n",
    "\n",
    "n_jobs = 1\n",
    "clf = neighbors.KNeighborsClassifier(N_NEIGHBORS,n_jobs=n_jobs) \n",
    "clf.fit(Xtrain, ytrain)\n",
    "start_time = time.time()\n",
    "score = clf.score(Xtest, ytest) \n",
    "print(\"time with n_jobs = {} is {} seconds\".format(n_jobs,time.time()-start_time))\n",
    "\n"
   ]
  }
 ],
 "metadata": {
  "kernelspec": {
   "display_name": "Python 3 (ipykernel)",
   "language": "python",
   "name": "python3"
  },
  "language_info": {
   "codemirror_mode": {
    "name": "ipython",
    "version": 3
   },
   "file_extension": ".py",
   "mimetype": "text/x-python",
   "name": "python",
   "nbconvert_exporter": "python",
   "pygments_lexer": "ipython3",
   "version": "3.9.7"
  }
 },
 "nbformat": 4,
 "nbformat_minor": 5
}
