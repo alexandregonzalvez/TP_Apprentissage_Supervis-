{
 "cells": [
  {
   "cell_type": "code",
   "execution_count": 1,
   "id": "6e4f7b74",
   "metadata": {},
   "outputs": [],
   "source": [
    "from sklearn.datasets import fetch_openml \n",
    "from sklearn.neural_network import MLPClassifier\n",
    "from sklearn.metrics import precision_score\n",
    "from sklearn.metrics import recall_score\n",
    "from sklearn.metrics import zero_one_loss\n",
    "import matplotlib.pyplot as plt \n",
    "import numpy as np\n",
    "import pickle\n",
    "import random\n",
    "import time"
   ]
  },
  {
   "cell_type": "code",
   "execution_count": 2,
   "id": "99e8c53c",
   "metadata": {},
   "outputs": [],
   "source": [
    "def splitSetRandom(data,labels, train_size):\n",
    "    random_indexes = np.random.randint(labels.size, size=labels.size)\n",
    "    \n",
    "    X_train = np.array([data[i] for i in random_indexes[:train_size]])\n",
    "    X_test = np.array([data[i] for i in random_indexes[train_size:]])\n",
    "    y_train = np.array([labels[i] for i in random_indexes[:train_size]])\n",
    "    y_test =  np.array([labels[i] for i in random_indexes[train_size:]])\n",
    "    return X_train,X_test,y_train,y_test\n",
    "\n"
   ]
  },
  {
   "cell_type": "code",
   "execution_count": 3,
   "id": "e6f05439",
   "metadata": {},
   "outputs": [],
   "source": [
    "# Extracting mnist\n",
    "mnist = fetch_openml('mnist_784', as_frame=False) # Extraction"
   ]
  },
  {
   "cell_type": "code",
   "execution_count": 4,
   "id": "e0cdd593",
   "metadata": {},
   "outputs": [],
   "source": [
    "# Divide into training and testing\n",
    "X_train,X_test,y_train,y_test = splitSetRandom(data = mnist.data, labels = mnist.target, train_size = 49000)"
   ]
  },
  {
   "cell_type": "code",
   "execution_count": 5,
   "id": "c4348a3b",
   "metadata": {},
   "outputs": [
    {
     "name": "stdout",
     "output_type": "stream",
     "text": [
      "Iteration 1, loss = 3.88326656\n",
      "Iteration 2, loss = 0.87113835\n",
      "Iteration 3, loss = 0.61200780\n",
      "Iteration 4, loss = 0.46536343\n",
      "Iteration 5, loss = 0.38453579\n",
      "Iteration 6, loss = 0.32283738\n",
      "Iteration 7, loss = 0.28717335\n",
      "Iteration 8, loss = 0.26376349\n",
      "Iteration 9, loss = 0.24455726\n",
      "score = 0.9218571428571428 in 7.595390319824219 seconds\n"
     ]
    },
    {
     "name": "stderr",
     "output_type": "stream",
     "text": [
      "C:\\Users\\Alexandre\\anaconda3\\envs\\Apprentissage5A\\lib\\site-packages\\sklearn\\neural_network\\_multilayer_perceptron.py:699: UserWarning: Training interrupted by user.\n",
      "  warnings.warn(\"Training interrupted by user.\")\n"
     ]
    }
   ],
   "source": [
    "start_t = time.time()\n",
    "clf = MLPClassifier(hidden_layer_sizes = 50,verbose=True)\n",
    "clf.fit(X_train,y_train)\n",
    "print(f'score = {clf.score(X_test,y_test)} in {time.time()-start_t} seconds')"
   ]
  },
  {
   "cell_type": "code",
   "execution_count": 6,
   "id": "434041b1",
   "metadata": {},
   "outputs": [
    {
     "data": {
      "image/png": "[encoded data removed]",
      "text/plain": [
       "<Figure size 432x288 with 1 Axes>"
      ]
     },
     "metadata": {
      "needs_background": "light"
     },
     "output_type": "display_data"
    },
    {
     "name": "stdout",
     "output_type": "stream",
     "text": [
      "class = 1\n"
     ]
    }
   ],
   "source": [
    "# Predict image 4\n",
    "image_4 = X_test[3]\n",
    "plt.imshow(image_4.reshape(28, 28) ,cmap=plt.cm.gray_r,interpolation=\"nearest\") \n",
    "plt.show()\n",
    "to_predict = image_4.reshape(1, -1)\n",
    "print(f'class = {clf.predict(to_predict)[0]}')"
   ]
  },
  {
   "cell_type": "code",
   "execution_count": 7,
   "id": "f17c162d",
   "metadata": {},
   "outputs": [
    {
     "data": {
      "text/plain": [
       "0.9218571428571428"
      ]
     },
     "execution_count": 7,
     "metadata": {},
     "output_type": "execute_result"
    }
   ],
   "source": [
    "y_pred = clf.predict(X_test)\n",
    "precision_score(y_test,y_pred,average ='micro')"
   ]
  },
  {
   "cell_type": "code",
   "execution_count": 10,
   "id": "8f3dd908",
   "metadata": {},
   "outputs": [
    {
     "name": "stdout",
     "output_type": "stream",
     "text": [
      "Iteration 1, loss = 2.80904436\n",
      "Iteration 2, loss = 2.41477611\n",
      "Iteration 3, loss = 2.34045876\n",
      "Iteration 4, loss = 2.31397068\n",
      "Iteration 5, loss = 2.30474979\n",
      "Iteration 6, loss = 2.30197970\n",
      "Iteration 7, loss = 2.30127056\n",
      "Iteration 8, loss = 2.30109811\n",
      "Iteration 9, loss = 2.30105230\n",
      "Iteration 10, loss = 2.30104488\n",
      "Iteration 11, loss = 2.30102280\n",
      "Iteration 12, loss = 2.30102083\n",
      "Iteration 13, loss = 2.30101252\n",
      "Training loss did not improve more than tol=0.000100 for 4 consecutive epochs. Stopping.\n",
      "For 2 n_hidden_layers the precision is 0.11057142857142857 in 5.0380167961120605 seconds\n",
      "Iteration 1, loss = 2.92750713\n",
      "Iteration 2, loss = 2.37505365\n",
      "Iteration 3, loss = 2.31364563\n",
      "Iteration 4, loss = 2.30334589\n",
      "Iteration 5, loss = 2.30144638\n",
      "Iteration 6, loss = 2.30115805\n",
      "Iteration 7, loss = 2.30109134\n",
      "Iteration 8, loss = 2.30111991\n",
      "Iteration 9, loss = 2.30110593\n",
      "Iteration 10, loss = 2.30109247\n",
      "Iteration 11, loss = 2.30113308\n",
      "Training loss did not improve more than tol=0.000100 for 4 consecutive epochs. Stopping.\n",
      "For 7 n_hidden_layers the precision is 0.11057142857142857 in 6.158670902252197 seconds\n",
      "Iteration 1, loss = 2.33109404\n",
      "Iteration 2, loss = 2.30936234\n",
      "Iteration 3, loss = 2.30295727\n",
      "Iteration 4, loss = 2.30141314\n",
      "Iteration 5, loss = 2.30108330\n",
      "Iteration 6, loss = 2.30102962\n",
      "Iteration 7, loss = 2.30102106\n",
      "Iteration 8, loss = 2.30102731\n",
      "Iteration 9, loss = 2.30102005\n",
      "Iteration 10, loss = 2.30102324\n",
      "Training loss did not improve more than tol=0.000100 for 4 consecutive epochs. Stopping.\n",
      "For 12 n_hidden_layers the precision is 0.11057142857142857 in 8.231232166290283 seconds\n",
      "Iteration 1, loss = 2.37238139\n",
      "Iteration 2, loss = 2.33076146\n",
      "Iteration 3, loss = 2.31234002\n",
      "Iteration 4, loss = 2.30477682\n",
      "Iteration 5, loss = 2.30209430\n",
      "Iteration 6, loss = 2.30128313\n",
      "Iteration 7, loss = 2.30106789\n",
      "Iteration 8, loss = 2.30102207\n",
      "Iteration 9, loss = 2.30102490\n",
      "Iteration 10, loss = 2.30102618\n",
      "Iteration 11, loss = 2.30102362\n",
      "Iteration 12, loss = 2.30102555\n",
      "Training loss did not improve more than tol=0.000100 for 4 consecutive epochs. Stopping.\n",
      "For 17 n_hidden_layers the precision is 0.11057142857142857 in 10.798433542251587 seconds\n",
      "Iteration 1, loss = 2.37652324\n",
      "Iteration 2, loss = 2.31732370\n",
      "Iteration 3, loss = 2.30394454\n",
      "Iteration 4, loss = 2.30143763\n",
      "Iteration 5, loss = 2.30109501\n",
      "Iteration 6, loss = 2.30108014\n",
      "Iteration 7, loss = 2.30108247\n",
      "Iteration 8, loss = 2.30108549\n",
      "Iteration 9, loss = 2.30109281\n",
      "Iteration 10, loss = 2.30110728\n",
      "Training loss did not improve more than tol=0.000100 for 4 consecutive epochs. Stopping.\n",
      "For 22 n_hidden_layers the precision is 0.11057142857142857 in 10.60892391204834 seconds\n",
      "Iteration 1, loss = 2.36547984\n",
      "Iteration 2, loss = 2.32599845\n",
      "Iteration 3, loss = 2.30941008\n",
      "Iteration 4, loss = 2.30349344\n",
      "Iteration 5, loss = 2.30162643\n",
      "Iteration 6, loss = 2.30114347\n",
      "Iteration 7, loss = 2.30103503\n",
      "Iteration 8, loss = 2.30102270\n",
      "Iteration 9, loss = 2.30101570\n",
      "Iteration 10, loss = 2.30102401\n",
      "Iteration 11, loss = 2.30101575\n",
      "Iteration 12, loss = 2.30102869\n",
      "Training loss did not improve more than tol=0.000100 for 4 consecutive epochs. Stopping.\n",
      "For 27 n_hidden_layers the precision is 0.11057142857142857 in 14.251497745513916 seconds\n",
      "Iteration 1, loss = 2.42173502\n",
      "Iteration 2, loss = 2.33222811\n",
      "Iteration 3, loss = 2.30815514\n",
      "Iteration 4, loss = 2.30231978\n",
      "Iteration 5, loss = 2.30124602\n",
      "Iteration 6, loss = 2.30111220\n",
      "Iteration 7, loss = 2.30107477\n",
      "Iteration 8, loss = 2.30110470\n",
      "Iteration 9, loss = 2.30107019\n",
      "Iteration 10, loss = 2.30109742\n",
      "Iteration 11, loss = 2.30109612\n",
      "Training loss did not improve more than tol=0.000100 for 4 consecutive epochs. Stopping.\n",
      "For 32 n_hidden_layers the precision is 0.11057142857142857 in 14.770124197006226 seconds\n",
      "Iteration 1, loss = 2.47348473\n",
      "Iteration 2, loss = 2.33636683\n",
      "Iteration 3, loss = 2.30723396\n",
      "Iteration 4, loss = 2.30190529\n",
      "Iteration 5, loss = 2.30112320\n",
      "Iteration 6, loss = 2.30108584\n",
      "Iteration 7, loss = 2.30110442\n",
      "Iteration 8, loss = 2.30111302\n",
      "Iteration 9, loss = 2.30111558\n",
      "Iteration 10, loss = 2.30108353\n",
      "Training loss did not improve more than tol=0.000100 for 4 consecutive epochs. Stopping.\n",
      "For 37 n_hidden_layers the precision is 0.11057142857142857 in 15.284436225891113 seconds\n",
      "Iteration 1, loss = 2.38392599\n",
      "Iteration 2, loss = 2.32351235\n",
      "Iteration 3, loss = 2.30665579\n",
      "Iteration 4, loss = 2.30192134\n",
      "Iteration 5, loss = 2.30115133\n",
      "Iteration 6, loss = 2.30107613\n",
      "Iteration 7, loss = 2.30110984\n",
      "Iteration 8, loss = 2.30116216\n",
      "Iteration 9, loss = 2.30111488\n",
      "Iteration 10, loss = 2.30110571\n",
      "Training loss did not improve more than tol=0.000100 for 4 consecutive epochs. Stopping.\n",
      "For 42 n_hidden_layers the precision is 0.11057142857142857 in 16.79715657234192 seconds\n",
      "Iteration 1, loss = 2.53063076\n",
      "Iteration 2, loss = 2.34655547\n",
      "Iteration 3, loss = 2.31262355\n",
      "Iteration 4, loss = 2.30413205\n",
      "Iteration 5, loss = 2.30185705\n",
      "Iteration 6, loss = 2.30125996\n",
      "Iteration 7, loss = 2.30118412\n",
      "Iteration 8, loss = 2.30110668\n",
      "Iteration 9, loss = 2.30114168\n",
      "Iteration 10, loss = 2.30111386\n",
      "Iteration 11, loss = 2.30112805\n",
      "Training loss did not improve more than tol=0.000100 for 4 consecutive epochs. Stopping.\n",
      "For 47 n_hidden_layers the precision is 0.11057142857142857 in 20.351648569107056 seconds\n",
      "Iteration 1, loss = 2.50540166\n",
      "Iteration 2, loss = 2.34626742\n",
      "Iteration 3, loss = 2.31318930\n",
      "Iteration 4, loss = 2.30389263\n",
      "Iteration 5, loss = 2.30161978\n",
      "Iteration 6, loss = 2.30116411\n",
      "Iteration 7, loss = 2.30109171\n",
      "Iteration 8, loss = 2.30107680\n",
      "Iteration 9, loss = 2.30114788\n",
      "Iteration 10, loss = 2.30112755\n",
      "Iteration 11, loss = 2.30112429\n",
      "Training loss did not improve more than tol=0.000100 for 4 consecutive epochs. Stopping.\n",
      "For 52 n_hidden_layers the precision is 0.11057142857142857 in 23.042340755462646 seconds\n",
      "Iteration 1, loss = 2.45607986\n",
      "Iteration 2, loss = 2.32500957\n",
      "Iteration 3, loss = 2.30609963\n",
      "Iteration 4, loss = 2.30217008\n",
      "Iteration 5, loss = 2.30126467\n",
      "Iteration 6, loss = 2.30109188\n",
      "Iteration 7, loss = 2.30106414\n",
      "Iteration 8, loss = 2.30106974\n",
      "Iteration 9, loss = 2.30109296\n",
      "Iteration 10, loss = 2.30105758\n",
      "Iteration 11, loss = 2.30109407\n",
      "Training loss did not improve more than tol=0.000100 for 4 consecutive epochs. Stopping.\n",
      "For 57 n_hidden_layers the precision is 0.11057142857142857 in 23.583954334259033 seconds\n",
      "Iteration 1, loss = 2.47426809\n",
      "Iteration 2, loss = 2.35230402\n",
      "Iteration 3, loss = 2.31555988\n",
      "Iteration 4, loss = 2.30462857\n",
      "Iteration 5, loss = 2.30177853\n",
      "Iteration 6, loss = 2.30113363\n",
      "Iteration 7, loss = 2.30109787\n",
      "Iteration 8, loss = 2.30104861\n",
      "Iteration 9, loss = 2.30104516\n",
      "Iteration 10, loss = 2.30102509\n",
      "Iteration 11, loss = 2.30104862\n",
      "Training loss did not improve more than tol=0.000100 for 4 consecutive epochs. Stopping.\n",
      "For 62 n_hidden_layers the precision is 0.11057142857142857 in 25.1252703666687 seconds\n",
      "Iteration 1, loss = 2.37377483\n",
      "Iteration 2, loss = 2.32934370\n",
      "Iteration 3, loss = 2.31129403\n",
      "Iteration 4, loss = 2.30448201\n",
      "Iteration 5, loss = 2.30211549\n",
      "Iteration 6, loss = 2.30134680\n",
      "Iteration 7, loss = 2.30111780\n",
      "Iteration 8, loss = 2.30104796\n",
      "Iteration 9, loss = 2.30102148\n",
      "Iteration 10, loss = 2.30102153\n",
      "Iteration 11, loss = 2.30102430\n",
      "Iteration 12, loss = 2.30102307\n",
      "Training loss did not improve more than tol=0.000100 for 4 consecutive epochs. Stopping.\n",
      "For 67 n_hidden_layers the precision is 0.11057142857142857 in 30.292224645614624 seconds\n",
      "Iteration 1, loss = 2.39863085\n",
      "Iteration 2, loss = 2.32712314\n",
      "Iteration 3, loss = 2.30907042\n",
      "Iteration 4, loss = 2.30329353\n",
      "Iteration 5, loss = 2.30163017\n",
      "Iteration 6, loss = 2.30117862\n",
      "Iteration 7, loss = 2.30107946\n",
      "Iteration 8, loss = 2.30105802\n",
      "Iteration 9, loss = 2.30108122\n",
      "Iteration 10, loss = 2.30109811\n",
      "Iteration 11, loss = 2.30111401\n",
      "Training loss did not improve more than tol=0.000100 for 4 consecutive epochs. Stopping.\n",
      "For 72 n_hidden_layers the precision is 0.11057142857142857 in 29.16680908203125 seconds\n",
      "Iteration 1, loss = 2.54377542\n",
      "Iteration 2, loss = 2.36646134\n",
      "Iteration 3, loss = 2.31827128\n",
      "Iteration 4, loss = 2.30520289\n",
      "Iteration 5, loss = 2.30195481\n",
      "Iteration 6, loss = 2.30126632\n",
      "Iteration 7, loss = 2.30109177\n",
      "Iteration 8, loss = 2.30108774\n",
      "Iteration 9, loss = 2.30109806\n",
      "Iteration 10, loss = 2.30106701\n",
      "Iteration 11, loss = 2.30112005\n"
     ]
    },
    {
     "name": "stdout",
     "output_type": "stream",
     "text": [
      "Iteration 12, loss = 2.30110015\n",
      "Training loss did not improve more than tol=0.000100 for 4 consecutive epochs. Stopping.\n",
      "For 77 n_hidden_layers the precision is 0.11057142857142857 in 34.53034996986389 seconds\n",
      "Iteration 1, loss = 2.34441927\n",
      "Iteration 2, loss = 2.31615748\n",
      "Iteration 3, loss = 2.30548190\n",
      "Iteration 4, loss = 2.30210280\n",
      "Iteration 5, loss = 2.30122359\n",
      "Iteration 6, loss = 2.30104045\n",
      "Iteration 7, loss = 2.30102525\n",
      "Iteration 8, loss = 2.30101177\n",
      "Iteration 9, loss = 2.30101827\n",
      "Iteration 10, loss = 2.30103389\n",
      "Iteration 11, loss = 2.30102799\n",
      "Training loss did not improve more than tol=0.000100 for 4 consecutive epochs. Stopping.\n",
      "For 82 n_hidden_layers the precision is 0.11057142857142857 in 33.04928970336914 seconds\n",
      "Iteration 1, loss = 2.34465555\n",
      "Iteration 2, loss = 2.30671427\n",
      "Iteration 3, loss = 2.30144500\n",
      "Iteration 4, loss = 2.30110318\n",
      "Iteration 5, loss = 2.30107593\n",
      "Iteration 6, loss = 2.30108435\n",
      "Iteration 7, loss = 2.30107585\n",
      "Iteration 8, loss = 2.30108747\n",
      "Iteration 9, loss = 2.30111882\n",
      "Training loss did not improve more than tol=0.000100 for 4 consecutive epochs. Stopping.\n",
      "For 87 n_hidden_layers the precision is 0.11057142857142857 in 28.07977843284607 seconds\n",
      "Iteration 1, loss = 2.50184578\n",
      "Iteration 2, loss = 2.33272533\n",
      "Iteration 3, loss = 2.30461128\n",
      "Iteration 4, loss = 2.30136282\n",
      "Iteration 5, loss = 2.30107401\n",
      "Iteration 6, loss = 2.30106515\n",
      "Iteration 7, loss = 2.30109175\n",
      "Iteration 8, loss = 2.30105706\n",
      "Iteration 9, loss = 2.30110361\n",
      "Iteration 10, loss = 2.30115485\n",
      "Training loss did not improve more than tol=0.000100 for 4 consecutive epochs. Stopping.\n",
      "For 92 n_hidden_layers the precision is 0.11057142857142857 in 33.04779767990112 seconds\n",
      "Iteration 1, loss = 2.34898256\n",
      "Iteration 2, loss = 2.31222210\n",
      "Iteration 3, loss = 2.30346505\n",
      "Iteration 4, loss = 2.30144184\n",
      "Iteration 5, loss = 2.30115750\n",
      "Iteration 6, loss = 2.30106236\n",
      "Iteration 7, loss = 2.30111952\n",
      "Iteration 8, loss = 2.30107499\n",
      "Iteration 9, loss = 2.30108927\n",
      "Iteration 10, loss = 2.30114353\n",
      "Training loss did not improve more than tol=0.000100 for 4 consecutive epochs. Stopping.\n",
      "For 97 n_hidden_layers the precision is 0.11057142857142857 in 34.29090619087219 seconds\n"
     ]
    }
   ],
   "source": [
    "def varying_n_hidden_layer_of_1_neuron_mlp(X_train,X_test,y_train,y_test):\n",
    "    results = []\n",
    "    for n_hidden_layers in range(2,101,5):\n",
    "        start_t = time.time()\n",
    "        clf = MLPClassifier(hidden_layer_sizes = tuple([1 for i in range(n_hidden_layers)]),n_iter_no_change=4,verbose=True)\n",
    "        clf.fit(X_train,y_train)\n",
    "        precision = precision_score(y_test,clf.predict(X_test),average ='micro')\n",
    "        duration = time.time()-start_t\n",
    "        results.append({\"n_hidden_layers\":n_hidden_layers, \"precision\":precision, \"time\":duration})\n",
    "        print(f'For {n_hidden_layers} n_hidden_layers the precision is {precision} in {duration} seconds')\n",
    "    return results\n",
    "\n",
    "results = varying_n_hidden_layer_of_1_neuron_mlp(X_train,X_test,y_train,y_test)\n",
    "pickle.dump(results, open( \"results/results_varying_hidden_layers_1_neurons.p\", \"wb\" )) # Save results"
   ]
  },
  {
   "cell_type": "code",
   "execution_count": 12,
   "id": "9425d546",
   "metadata": {},
   "outputs": [
    {
     "data": {
      "image/png": "[encoded data removed]",
      "text/plain": [
       "<Figure size 432x288 with 1 Axes>"
      ]
     },
     "metadata": {
      "needs_background": "light"
     },
     "output_type": "display_data"
    }
   ],
   "source": [
    "precisions = []\n",
    "n_hidden_layers_list = []\n",
    "for result in results:\n",
    "    precisions.append(result[\"precision\"])\n",
    "    n_hidden_layers_list.append(result[\"n_hidden_layers\"])\n",
    "    \n",
    "plt.plot(n_hidden_layers_list,precisions)\n",
    "plt.xlabel('n_hidden_layers')\n",
    "plt.ylabel('precision')\n",
    "plt.title('Evolution of precision by numbers of hidden layers of 1 neuron')\n",
    "plt.show()"
   ]
  },
  {
   "cell_type": "code",
   "execution_count": 27,
   "id": "619d0554",
   "metadata": {},
   "outputs": [],
   "source": [
    "def createRandomModel():\n",
    "    hidden_layers_neurons_tuple = tuple([random.randint(10,300) for i in range(random.randint(1,10))])\n",
    "    model = MLPClassifier(hidden_layer_sizes = hidden_layers_neurons_tuple,verbose=True)\n",
    "    print(hidden_layers_neurons_tuple)\n",
    "    return model,hidden_layers_neurons_tuple"
   ]
  },
  {
   "cell_type": "code",
   "execution_count": null,
   "id": "43869dbb",
   "metadata": {},
   "outputs": [],
   "source": [
    "model1,desc1 = createRandomModel()\n",
    "model2,desc2 = createRandomModel()\n",
    "model3,desc3 = createRandomModel()\n",
    "model4,desc4 = createRandomModel()\n",
    "model5,desc5 = createRandomModel()"
   ]
  },
  {
   "cell_type": "code",
   "execution_count": 33,
   "id": "30f35e25",
   "metadata": {},
   "outputs": [],
   "source": [
    "def train(model,X_train,X_test,y_train,y_test):\n",
    "    start_t = time.time()\n",
    "    model.fit(X_train,y_train)\n",
    "    precision = precision_score(y_test,model.predict(X_test),average ='micro')\n",
    "    duration = time.time()-start_t\n",
    "    print(f'The precision is {precision} in {duration} seconds')\n",
    "    return precision, duration"
   ]
  },
  {
   "cell_type": "code",
   "execution_count": 40,
   "id": "b3a04bc9",
   "metadata": {
    "collapsed": true
   },
   "outputs": [
    {
     "name": "stdout",
     "output_type": "stream",
     "text": [
      "Iteration 1, loss = 1.68343998\n",
      "Iteration 2, loss = 0.22750334\n",
      "Iteration 3, loss = 0.12602956\n",
      "Iteration 4, loss = 0.07975457\n",
      "Iteration 5, loss = 0.08422644\n",
      "Iteration 6, loss = 0.06229326\n",
      "Iteration 7, loss = 0.08660294\n",
      "Iteration 8, loss = 0.07845788\n",
      "Iteration 9, loss = 0.07552091\n",
      "Iteration 10, loss = 0.08647751\n",
      "Iteration 11, loss = 0.07564536\n",
      "Iteration 12, loss = 0.06021458\n",
      "Iteration 13, loss = 0.05634975\n",
      "Iteration 14, loss = 0.05912535\n",
      "Iteration 15, loss = 0.06345061\n",
      "Iteration 16, loss = 0.06199320\n",
      "Iteration 17, loss = 0.04622619\n",
      "Iteration 18, loss = 0.05047549\n",
      "Iteration 19, loss = 0.05669039\n",
      "Iteration 20, loss = 0.04877833\n",
      "Iteration 21, loss = 0.05119337\n",
      "Iteration 22, loss = 0.03726263\n",
      "Iteration 23, loss = 0.03288223\n",
      "Iteration 24, loss = 0.03086163\n",
      "Iteration 25, loss = 0.02597340\n",
      "Iteration 26, loss = 0.03379644\n",
      "Iteration 27, loss = 0.05221422\n",
      "Iteration 28, loss = 0.03187782\n",
      "Iteration 29, loss = 0.03099015\n",
      "Iteration 30, loss = 0.01893997\n",
      "Iteration 31, loss = 0.01749121\n",
      "Iteration 32, loss = 0.02619753\n",
      "Iteration 33, loss = 0.03797831\n",
      "Iteration 34, loss = 0.02912699\n",
      "Iteration 35, loss = 0.01412071\n",
      "Iteration 36, loss = 0.01416019\n",
      "Iteration 37, loss = 0.02409279\n",
      "Iteration 38, loss = 0.02323576\n",
      "Iteration 39, loss = 0.01739146\n",
      "Iteration 40, loss = 0.01731776\n",
      "Iteration 41, loss = 0.01787127\n",
      "Iteration 42, loss = 0.02129335\n",
      "Iteration 43, loss = 0.02498241\n",
      "Iteration 44, loss = 0.01529476\n",
      "Iteration 45, loss = 0.02160513\n",
      "Iteration 46, loss = 0.01794181\n",
      "Training loss did not improve more than tol=0.000100 for 10 consecutive epochs. Stopping.\n",
      "The precision is 0.9826190476190476 in 258.066682100296 seconds\n"
     ]
    }
   ],
   "source": [
    "result1 = train(model1,X_train,X_test,y_train,y_test)"
   ]
  },
  {
   "cell_type": "code",
   "execution_count": 41,
   "id": "eba61218",
   "metadata": {
    "collapsed": true
   },
   "outputs": [
    {
     "name": "stdout",
     "output_type": "stream",
     "text": [
      "Iteration 1, loss = 0.81826006\n",
      "Iteration 2, loss = 0.16929794\n",
      "Iteration 3, loss = 0.10709260\n",
      "Iteration 4, loss = 0.08276825\n",
      "Iteration 5, loss = 0.06306785\n",
      "Iteration 6, loss = 0.05957552\n",
      "Iteration 7, loss = 0.04641609\n",
      "Iteration 8, loss = 0.04105630\n",
      "Iteration 9, loss = 0.04267390\n",
      "Iteration 10, loss = 0.03919604\n",
      "Iteration 11, loss = 0.03044747\n",
      "Iteration 12, loss = 0.03179199\n",
      "Iteration 13, loss = 0.03609426\n",
      "Iteration 14, loss = 0.02551310\n",
      "Iteration 15, loss = 0.02444313\n",
      "Iteration 16, loss = 0.02407803\n",
      "Iteration 17, loss = 0.02723058\n",
      "Iteration 18, loss = 0.02496157\n",
      "Iteration 19, loss = 0.02351763\n",
      "Iteration 20, loss = 0.02368949\n",
      "Iteration 21, loss = 0.01496096\n",
      "Iteration 22, loss = 0.01801402\n",
      "Iteration 23, loss = 0.01726607\n",
      "Iteration 24, loss = 0.02383577\n",
      "Iteration 25, loss = 0.01385468\n",
      "Iteration 26, loss = 0.01722384\n",
      "Iteration 27, loss = 0.01637577\n",
      "Iteration 28, loss = 0.02014529\n",
      "Iteration 29, loss = 0.01709381\n",
      "Iteration 30, loss = 0.01730951\n",
      "Iteration 31, loss = 0.01383635\n",
      "Iteration 32, loss = 0.01851193\n",
      "Iteration 33, loss = 0.01467572\n",
      "Iteration 34, loss = 0.01958126\n",
      "Iteration 35, loss = 0.01149088\n",
      "Iteration 36, loss = 0.01562052\n",
      "Iteration 37, loss = 0.01764021\n",
      "Iteration 38, loss = 0.01934748\n",
      "Iteration 39, loss = 0.01138156\n",
      "Iteration 40, loss = 0.00878206\n",
      "Iteration 41, loss = 0.01217461\n",
      "Iteration 42, loss = 0.00696344\n",
      "Iteration 43, loss = 0.01142568\n",
      "Iteration 44, loss = 0.01601547\n",
      "Iteration 45, loss = 0.01186160\n",
      "Iteration 46, loss = 0.01335314\n",
      "Iteration 47, loss = 0.01015178\n",
      "Iteration 48, loss = 0.02173506\n",
      "Iteration 49, loss = 0.01176576\n",
      "Iteration 50, loss = 0.01261797\n",
      "Iteration 51, loss = 0.00785455\n",
      "Iteration 52, loss = 0.00699292\n",
      "Iteration 53, loss = 0.01085258\n",
      "Training loss did not improve more than tol=0.000100 for 10 consecutive epochs. Stopping.\n",
      "The precision is 0.9862380952380952 in 252.72986316680908 seconds\n"
     ]
    }
   ],
   "source": [
    "result2 = train(model2,X_train,X_test,y_train,y_test)"
   ]
  },
  {
   "cell_type": "code",
   "execution_count": 42,
   "id": "da9aacbc",
   "metadata": {
    "collapsed": true
   },
   "outputs": [
    {
     "name": "stdout",
     "output_type": "stream",
     "text": [
      "Iteration 1, loss = 0.93383643\n",
      "Iteration 2, loss = 0.25349438\n",
      "Iteration 3, loss = 0.16260188\n",
      "Iteration 4, loss = 0.11864512\n",
      "Iteration 5, loss = 0.10055231\n",
      "Iteration 6, loss = 0.08550620\n",
      "Iteration 7, loss = 0.07500965\n",
      "Iteration 8, loss = 0.06755055\n",
      "Iteration 9, loss = 0.05445040\n",
      "Iteration 10, loss = 0.05606959\n",
      "Iteration 11, loss = 0.04758670\n",
      "Iteration 12, loss = 0.04500262\n",
      "Iteration 13, loss = 0.04443205\n",
      "Iteration 14, loss = 0.04457875\n",
      "Iteration 15, loss = 0.03422705\n",
      "Iteration 16, loss = 0.03869647\n",
      "Iteration 17, loss = 0.02716355\n",
      "Iteration 18, loss = 0.02750816\n",
      "Iteration 19, loss = 0.02583145\n",
      "Iteration 20, loss = 0.04175766\n",
      "Iteration 21, loss = 0.02058147\n",
      "Iteration 22, loss = 0.02274178\n",
      "Iteration 23, loss = 0.02496648\n",
      "Iteration 24, loss = 0.02674486\n",
      "Iteration 25, loss = 0.02473701\n",
      "Iteration 26, loss = 0.02501358\n",
      "Iteration 27, loss = 0.01933495\n",
      "Iteration 28, loss = 0.02468345\n",
      "Iteration 29, loss = 0.01367587\n",
      "Iteration 30, loss = 0.01357947\n",
      "Iteration 31, loss = 0.02312739\n",
      "Iteration 32, loss = 0.01812563\n",
      "Iteration 33, loss = 0.01720319\n",
      "Iteration 34, loss = 0.01671002\n",
      "Iteration 35, loss = 0.01699428\n",
      "Iteration 36, loss = 0.01594754\n",
      "Iteration 37, loss = 0.01023953\n",
      "Iteration 38, loss = 0.01916271\n",
      "Iteration 39, loss = 0.02232671\n",
      "Iteration 40, loss = 0.01503619\n",
      "Iteration 41, loss = 0.00950381\n",
      "Iteration 42, loss = 0.01110133\n",
      "Iteration 43, loss = 0.01322668\n",
      "Iteration 44, loss = 0.01273210\n",
      "Iteration 45, loss = 0.01282850\n",
      "Iteration 46, loss = 0.01274844\n",
      "Iteration 47, loss = 0.01303333\n",
      "Iteration 48, loss = 0.01074190\n",
      "Iteration 49, loss = 0.01493342\n",
      "Iteration 50, loss = 0.01496973\n",
      "Iteration 51, loss = 0.01190266\n",
      "Iteration 52, loss = 0.00966123\n",
      "Training loss did not improve more than tol=0.000100 for 10 consecutive epochs. Stopping.\n",
      "The precision is 0.9846190476190476 in 99.76634931564331 seconds\n"
     ]
    }
   ],
   "source": [
    "result3 = train(model3,X_train,X_test,y_train,y_test)"
   ]
  },
  {
   "cell_type": "code",
   "execution_count": 43,
   "id": "20a675ab",
   "metadata": {
    "collapsed": true
   },
   "outputs": [
    {
     "name": "stdout",
     "output_type": "stream",
     "text": [
      "Iteration 1, loss = 0.95544550\n",
      "Iteration 2, loss = 0.26812120\n",
      "Iteration 3, loss = 0.18354238\n",
      "Iteration 4, loss = 0.14635587\n",
      "Iteration 5, loss = 0.12113940\n",
      "Iteration 6, loss = 0.10118791\n",
      "Iteration 7, loss = 0.09311529\n",
      "Iteration 8, loss = 0.08219835\n",
      "Iteration 9, loss = 0.07638354\n",
      "Iteration 10, loss = 0.06761075\n",
      "Iteration 11, loss = 0.06079682\n",
      "Iteration 12, loss = 0.05459698\n",
      "Iteration 13, loss = 0.05540471\n",
      "Iteration 14, loss = 0.05106348\n",
      "Iteration 15, loss = 0.04571190\n",
      "Iteration 16, loss = 0.04929057\n",
      "Iteration 17, loss = 0.04227125\n",
      "Iteration 18, loss = 0.03938259\n",
      "Iteration 19, loss = 0.03827795\n",
      "Iteration 20, loss = 0.03968258\n",
      "Iteration 21, loss = 0.03587463\n",
      "Iteration 22, loss = 0.03843996\n",
      "Iteration 23, loss = 0.03558834\n",
      "Iteration 24, loss = 0.03357805\n",
      "Iteration 25, loss = 0.02840455\n",
      "Iteration 26, loss = 0.02256292\n",
      "Iteration 27, loss = 0.02880063\n",
      "Iteration 28, loss = 0.03199110\n",
      "Iteration 29, loss = 0.02924726\n",
      "Iteration 30, loss = 0.02847441\n",
      "Iteration 31, loss = 0.02111974\n",
      "Iteration 32, loss = 0.02534884\n",
      "Iteration 33, loss = 0.02563707\n",
      "Iteration 34, loss = 0.02607953\n",
      "Iteration 35, loss = 0.02166404\n",
      "Iteration 36, loss = 0.01472169\n",
      "Iteration 37, loss = 0.02250391\n",
      "Iteration 38, loss = 0.02325626\n",
      "Iteration 39, loss = 0.01842749\n",
      "Iteration 40, loss = 0.01683131\n",
      "Iteration 41, loss = 0.02135682\n",
      "Iteration 42, loss = 0.01838069\n",
      "Iteration 43, loss = 0.01990923\n",
      "Iteration 44, loss = 0.02157235\n",
      "Iteration 45, loss = 0.01672105\n",
      "Iteration 46, loss = 0.01339813\n",
      "Iteration 47, loss = 0.01533538\n",
      "Iteration 48, loss = 0.01965153\n",
      "Iteration 49, loss = 0.01682191\n",
      "Iteration 50, loss = 0.01517250\n",
      "Iteration 51, loss = 0.01381522\n",
      "Iteration 52, loss = 0.02212748\n",
      "Iteration 53, loss = 0.01252011\n",
      "Iteration 54, loss = 0.01146496\n",
      "Iteration 55, loss = 0.01420161\n",
      "Iteration 56, loss = 0.01289095\n",
      "Iteration 57, loss = 0.01638612\n",
      "Iteration 58, loss = 0.01966372\n",
      "Iteration 59, loss = 0.01476528\n",
      "Iteration 60, loss = 0.01012919\n",
      "Iteration 61, loss = 0.00553063\n",
      "Iteration 62, loss = 0.01420086\n",
      "Iteration 63, loss = 0.01481587\n",
      "Iteration 64, loss = 0.01795291\n",
      "Iteration 65, loss = 0.01196196\n",
      "Iteration 66, loss = 0.01098669\n",
      "Iteration 67, loss = 0.01602286\n",
      "Iteration 68, loss = 0.01069709\n",
      "Iteration 69, loss = 0.01094560\n",
      "Iteration 70, loss = 0.00906893\n",
      "Iteration 71, loss = 0.01270297\n",
      "Iteration 72, loss = 0.01170094\n",
      "Training loss did not improve more than tol=0.000100 for 10 consecutive epochs. Stopping.\n",
      "The precision is 0.9820476190476191 in 106.04878497123718 seconds\n"
     ]
    }
   ],
   "source": [
    "result4 = train(model4,X_train,X_test,y_train,y_test)"
   ]
  },
  {
   "cell_type": "code",
   "execution_count": 44,
   "id": "6955c353",
   "metadata": {
    "collapsed": true
   },
   "outputs": [
    {
     "name": "stdout",
     "output_type": "stream",
     "text": [
      "Iteration 1, loss = 0.51868878\n",
      "Iteration 2, loss = 0.16425201\n",
      "Iteration 3, loss = 0.11318759\n",
      "Iteration 4, loss = 0.08578423\n",
      "Iteration 5, loss = 0.06961662\n",
      "Iteration 6, loss = 0.06151224\n",
      "Iteration 7, loss = 0.05321909\n",
      "Iteration 8, loss = 0.05080198\n",
      "Iteration 9, loss = 0.03878090\n",
      "Iteration 10, loss = 0.04198814\n",
      "Iteration 11, loss = 0.03693767\n",
      "Iteration 12, loss = 0.03402374\n",
      "Iteration 13, loss = 0.02863335\n",
      "Iteration 14, loss = 0.03148894\n",
      "Iteration 15, loss = 0.02882473\n",
      "Iteration 16, loss = 0.02659894\n",
      "Iteration 17, loss = 0.02890094\n",
      "Iteration 18, loss = 0.02876786\n",
      "Iteration 19, loss = 0.02335781\n",
      "Iteration 20, loss = 0.01774691\n",
      "Iteration 21, loss = 0.01894415\n",
      "Iteration 22, loss = 0.02066605\n",
      "Iteration 23, loss = 0.01981066\n",
      "Iteration 24, loss = 0.01707580\n",
      "Iteration 25, loss = 0.01694551\n",
      "Iteration 26, loss = 0.01455676\n",
      "Iteration 27, loss = 0.02400647\n",
      "Iteration 28, loss = 0.01950547\n",
      "Iteration 29, loss = 0.02126806\n",
      "Iteration 30, loss = 0.01528797\n",
      "Iteration 31, loss = 0.01337372\n",
      "Iteration 32, loss = 0.01440424\n",
      "Iteration 33, loss = 0.01636492\n",
      "Iteration 34, loss = 0.01386570\n",
      "Iteration 35, loss = 0.01377866\n",
      "Iteration 36, loss = 0.01168957\n",
      "Iteration 37, loss = 0.01387186\n",
      "Iteration 38, loss = 0.01811349\n",
      "Iteration 39, loss = 0.01656562\n",
      "Iteration 40, loss = 0.01813333\n",
      "Iteration 41, loss = 0.01127733\n",
      "Iteration 42, loss = 0.01180340\n",
      "Iteration 43, loss = 0.01276010\n",
      "Iteration 44, loss = 0.01639955\n",
      "Iteration 45, loss = 0.01110387\n",
      "Iteration 46, loss = 0.01086002\n",
      "Iteration 47, loss = 0.01535712\n",
      "Iteration 48, loss = 0.01747530\n",
      "Iteration 49, loss = 0.01299291\n",
      "Iteration 50, loss = 0.00842126\n",
      "Iteration 51, loss = 0.00413690\n",
      "Iteration 52, loss = 0.01675567\n",
      "Iteration 53, loss = 0.01170662\n",
      "Iteration 54, loss = 0.01052155\n",
      "Iteration 55, loss = 0.01032049\n",
      "Iteration 56, loss = 0.00542018\n",
      "Iteration 57, loss = 0.01440744\n",
      "Iteration 58, loss = 0.01261173\n",
      "Iteration 59, loss = 0.00999720\n",
      "Iteration 60, loss = 0.00954214\n",
      "Iteration 61, loss = 0.01079059\n",
      "Iteration 62, loss = 0.01548963\n",
      "Training loss did not improve more than tol=0.000100 for 10 consecutive epochs. Stopping.\n",
      "The precision is 0.9851904761904762 in 257.00539994239807 seconds\n"
     ]
    }
   ],
   "source": [
    "result5 = train(model5,X_train,X_test,y_train,y_test)"
   ]
  },
  {
   "cell_type": "code",
   "execution_count": 65,
   "id": "66ab152e",
   "metadata": {},
   "outputs": [
    {
     "name": "stderr",
     "output_type": "stream",
     "text": [
      "No handles with labels found to put in legend.\n"
     ]
    },
    {
     "name": "stdout",
     "output_type": "stream",
     "text": [
      "(263, 200, 277)\n",
      "[0.9826190476190476, 0.9862380952380952, 0.9846190476190476, 0.9820476190476191, 0.9851904761904762]\n",
      "['(263, 200, 277)\\n258s', '(152, 210, 140, 239, 138, 175, 197, 30)\\n252s', '(91, 92, 23, 182, 87)\\n99s', '(39, 102, 36, 180, 55)\\n106s', '(71, 209, 107, 18, 227, 297, 239)\\n257s']\n"
     ]
    },
    {
     "data": {
      "image/png": "[encoded data removed]",
      "text/plain": [
       "<Figure size 1296x360 with 1 Axes>"
      ]
     },
     "metadata": {
      "needs_background": "light"
     },
     "output_type": "display_data"
    }
   ],
   "source": [
    "import math \n",
    "results = [result1,result2,result3,result4,result5]\n",
    "descs = [desc1,desc2,desc3,desc4,desc5]\n",
    "\n",
    "precisions = [result[0] for result in results]\n",
    "labels =  [\"{}\\n{}s\".format(descs[i],math.trunc(results[i][1]))  for i in range(5)]\n",
    "\n",
    "f, ax = plt.subplots(figsize=(18,5)) # set the size that you'd like (width, height)\n",
    "ax.legend(fontsize = 14)\n",
    "plt.bar(range(5), precisions, tick_label=labels)\n",
    "plt.title(\"precision depending on the model\")\n",
    "plt.ylabel(\"precision\")\n",
    "plt.xlabel(\"models\")\n",
    "plt.ylim([0.98,0.99])\n",
    "plt.show()"
   ]
  },
  {
   "cell_type": "code",
   "execution_count": 5,
   "id": "f6c76977",
   "metadata": {},
   "outputs": [
    {
     "name": "stderr",
     "output_type": "stream",
     "text": [
      "C:\\Users\\Alexandre\\anaconda3\\envs\\Apprentissage5A\\lib\\site-packages\\sklearn\\neural_network\\_multilayer_perceptron.py:549: ConvergenceWarning: lbfgs failed to converge (status=1):\n",
      "STOP: TOTAL NO. of ITERATIONS REACHED LIMIT.\n",
      "\n",
      "Increase the number of iterations (max_iter) or scale the data as shown in:\n",
      "    https://scikit-learn.org/stable/modules/preprocessing.html\n",
      "  self.n_iter_ = _check_optimize_result(\"lbfgs\", opt_res, self.max_iter)\n",
      "C:\\Users\\Alexandre\\anaconda3\\envs\\Apprentissage5A\\lib\\site-packages\\sklearn\\neural_network\\_multilayer_perceptron.py:549: ConvergenceWarning: lbfgs failed to converge (status=1):\n",
      "STOP: TOTAL NO. of ITERATIONS REACHED LIMIT.\n",
      "\n",
      "Increase the number of iterations (max_iter) or scale the data as shown in:\n",
      "    https://scikit-learn.org/stable/modules/preprocessing.html\n",
      "  self.n_iter_ = _check_optimize_result(\"lbfgs\", opt_res, self.max_iter)\n",
      "C:\\Users\\Alexandre\\anaconda3\\envs\\Apprentissage5A\\lib\\site-packages\\sklearn\\neural_network\\_multilayer_perceptron.py:549: ConvergenceWarning: lbfgs failed to converge (status=1):\n",
      "STOP: TOTAL NO. of ITERATIONS REACHED LIMIT.\n",
      "\n",
      "Increase the number of iterations (max_iter) or scale the data as shown in:\n",
      "    https://scikit-learn.org/stable/modules/preprocessing.html\n",
      "  self.n_iter_ = _check_optimize_result(\"lbfgs\", opt_res, self.max_iter)\n",
      "C:\\Users\\Alexandre\\anaconda3\\envs\\Apprentissage5A\\lib\\site-packages\\sklearn\\neural_network\\_multilayer_perceptron.py:549: ConvergenceWarning: lbfgs failed to converge (status=1):\n",
      "STOP: TOTAL NO. of ITERATIONS REACHED LIMIT.\n",
      "\n",
      "Increase the number of iterations (max_iter) or scale the data as shown in:\n",
      "    https://scikit-learn.org/stable/modules/preprocessing.html\n",
      "  self.n_iter_ = _check_optimize_result(\"lbfgs\", opt_res, self.max_iter)\n",
      "C:\\Users\\Alexandre\\anaconda3\\envs\\Apprentissage5A\\lib\\site-packages\\sklearn\\neural_network\\_multilayer_perceptron.py:549: ConvergenceWarning: lbfgs failed to converge (status=1):\n",
      "STOP: TOTAL NO. of ITERATIONS REACHED LIMIT.\n",
      "\n",
      "Increase the number of iterations (max_iter) or scale the data as shown in:\n",
      "    https://scikit-learn.org/stable/modules/preprocessing.html\n",
      "  self.n_iter_ = _check_optimize_result(\"lbfgs\", opt_res, self.max_iter)\n"
     ]
    },
    {
     "name": "stdout",
     "output_type": "stream",
     "text": [
      "finish for solver lbfgs\n",
      "Iteration 1, loss = 2.31802527\n",
      "Iteration 2, loss = 1.94040868\n",
      "Iteration 3, loss = 1.81896220\n",
      "Iteration 4, loss = 1.83437738\n",
      "Iteration 5, loss = 1.63356341\n"
     ]
    },
    {
     "name": "stderr",
     "output_type": "stream",
     "text": [
      "C:\\Users\\Alexandre\\anaconda3\\envs\\Apprentissage5A\\lib\\site-packages\\sklearn\\neural_network\\_multilayer_perceptron.py:692: ConvergenceWarning: Stochastic Optimizer: Maximum iterations (5) reached and the optimization hasn't converged yet.\n",
      "  warnings.warn(\n"
     ]
    },
    {
     "name": "stdout",
     "output_type": "stream",
     "text": [
      "Iteration 1, loss = 2.23387393\n",
      "Iteration 2, loss = 1.98203875\n",
      "Iteration 3, loss = 1.71338561\n",
      "Iteration 4, loss = 1.46172707\n",
      "Iteration 5, loss = 0.83585380\n",
      "Iteration 6, loss = 0.51465177\n",
      "Iteration 7, loss = 0.38220963\n",
      "Iteration 8, loss = 0.31196874\n",
      "Iteration 9, loss = 0.26138391\n",
      "Iteration 10, loss = 0.23270778\n"
     ]
    },
    {
     "name": "stderr",
     "output_type": "stream",
     "text": [
      "C:\\Users\\Alexandre\\anaconda3\\envs\\Apprentissage5A\\lib\\site-packages\\sklearn\\neural_network\\_multilayer_perceptron.py:692: ConvergenceWarning: Stochastic Optimizer: Maximum iterations (10) reached and the optimization hasn't converged yet.\n",
      "  warnings.warn(\n"
     ]
    },
    {
     "name": "stdout",
     "output_type": "stream",
     "text": [
      "Iteration 1, loss = 1.28220354\n",
      "Iteration 2, loss = 0.37463166\n",
      "Iteration 3, loss = 0.26582291\n",
      "Iteration 4, loss = 0.21171776\n",
      "Iteration 5, loss = 0.17666970\n",
      "Iteration 6, loss = 0.15623679\n",
      "Iteration 7, loss = 0.13620791\n",
      "Iteration 8, loss = 0.12070725\n",
      "Iteration 9, loss = 0.10830832\n",
      "Iteration 10, loss = 0.09732522\n",
      "Iteration 11, loss = 0.08855460\n",
      "Iteration 12, loss = 0.08086363\n",
      "Iteration 13, loss = 0.07326982\n",
      "Iteration 14, loss = 0.06806518\n",
      "Iteration 15, loss = 0.06126431\n",
      "Iteration 16, loss = 0.05663128\n",
      "Iteration 17, loss = 0.05307335\n",
      "Iteration 18, loss = 0.04835754\n",
      "Iteration 19, loss = 0.04556384\n",
      "Iteration 20, loss = 0.04031717\n"
     ]
    },
    {
     "name": "stderr",
     "output_type": "stream",
     "text": [
      "C:\\Users\\Alexandre\\anaconda3\\envs\\Apprentissage5A\\lib\\site-packages\\sklearn\\neural_network\\_multilayer_perceptron.py:692: ConvergenceWarning: Stochastic Optimizer: Maximum iterations (20) reached and the optimization hasn't converged yet.\n",
      "  warnings.warn(\n"
     ]
    },
    {
     "name": "stdout",
     "output_type": "stream",
     "text": [
      "Iteration 1, loss = 1.36903773\n",
      "Iteration 2, loss = 0.45906710\n",
      "Iteration 3, loss = 0.31410715\n",
      "Iteration 4, loss = 0.24902925\n",
      "Iteration 5, loss = 0.20985455\n",
      "Iteration 6, loss = 0.18362699\n",
      "Iteration 7, loss = 0.16333453\n",
      "Iteration 8, loss = 0.14442276\n",
      "Iteration 9, loss = 0.13106357\n",
      "Iteration 10, loss = 0.11859553\n",
      "Iteration 11, loss = 0.10648149\n",
      "Iteration 12, loss = 0.09776141\n",
      "Iteration 13, loss = 0.08897871\n",
      "Iteration 14, loss = 0.08283026\n",
      "Iteration 15, loss = 0.07618601\n",
      "Iteration 16, loss = 0.06940708\n",
      "Iteration 17, loss = 0.06525912\n",
      "Iteration 18, loss = 0.05951104\n",
      "Iteration 19, loss = 0.05467768\n",
      "Iteration 20, loss = 0.05162196\n",
      "Iteration 21, loss = 0.04792050\n",
      "Iteration 22, loss = 0.04512574\n",
      "Iteration 23, loss = 0.04041268\n",
      "Iteration 24, loss = 0.03771927\n",
      "Iteration 25, loss = 0.03485827\n",
      "Iteration 26, loss = 0.03136228\n",
      "Iteration 27, loss = 0.03051165\n",
      "Iteration 28, loss = 0.02822458\n",
      "Iteration 29, loss = 0.02501690\n",
      "Iteration 30, loss = 0.02457802\n",
      "Iteration 31, loss = 0.02138367\n",
      "Iteration 32, loss = 0.01995761\n",
      "Iteration 33, loss = 0.01978558\n",
      "Iteration 34, loss = 0.01769675\n",
      "Iteration 35, loss = 0.01621128\n",
      "Iteration 36, loss = 0.01649732\n",
      "Iteration 37, loss = 0.01376500\n",
      "Iteration 38, loss = 0.01435102\n",
      "Iteration 39, loss = 0.01184033\n",
      "Iteration 40, loss = 0.01225590\n",
      "Iteration 41, loss = 0.01138147\n",
      "Iteration 42, loss = 0.01129318\n",
      "Iteration 43, loss = 0.00987600\n",
      "Iteration 44, loss = 0.00918782\n",
      "Iteration 45, loss = 0.00833905\n",
      "Iteration 46, loss = 0.00825763\n",
      "Iteration 47, loss = 0.00801052\n",
      "Iteration 48, loss = 0.00746768\n",
      "Iteration 49, loss = 0.00655114\n",
      "Iteration 50, loss = 0.00671066\n"
     ]
    },
    {
     "name": "stderr",
     "output_type": "stream",
     "text": [
      "C:\\Users\\Alexandre\\anaconda3\\envs\\Apprentissage5A\\lib\\site-packages\\sklearn\\neural_network\\_multilayer_perceptron.py:692: ConvergenceWarning: Stochastic Optimizer: Maximum iterations (50) reached and the optimization hasn't converged yet.\n",
      "  warnings.warn(\n"
     ]
    },
    {
     "name": "stdout",
     "output_type": "stream",
     "text": [
      "Iteration 1, loss = 1.60481593\n",
      "Iteration 2, loss = 0.59766419\n",
      "Iteration 3, loss = 0.33474822\n",
      "Iteration 4, loss = 0.26577335\n",
      "Iteration 5, loss = 0.22539880\n",
      "Iteration 6, loss = 0.19688720\n",
      "Iteration 7, loss = 0.17614161\n",
      "Iteration 8, loss = 0.16028953\n",
      "Iteration 9, loss = 0.14541435\n",
      "Iteration 10, loss = 0.13410048\n",
      "Iteration 11, loss = 0.12133242\n",
      "Iteration 12, loss = 0.11214001\n",
      "Iteration 13, loss = 0.10163501\n",
      "Iteration 14, loss = 0.09692547\n",
      "Iteration 15, loss = 0.08750229\n",
      "Iteration 16, loss = 0.08168877\n",
      "Iteration 17, loss = 0.07588211\n",
      "Iteration 18, loss = 0.06927818\n",
      "Iteration 19, loss = 0.06392552\n",
      "Iteration 20, loss = 0.06027176\n",
      "Iteration 21, loss = 0.05670606\n",
      "Iteration 22, loss = 0.05028776\n",
      "Iteration 23, loss = 0.04714131\n",
      "Iteration 24, loss = 0.04260988\n",
      "Iteration 25, loss = 0.03945208\n",
      "Iteration 26, loss = 0.03693866\n",
      "Iteration 27, loss = 0.03489871\n",
      "Iteration 28, loss = 0.03289729\n",
      "Iteration 29, loss = 0.03079753\n",
      "Iteration 30, loss = 0.02761938\n",
      "Iteration 31, loss = 0.02581426\n",
      "Iteration 32, loss = 0.02419586\n",
      "Iteration 33, loss = 0.02264005\n",
      "Iteration 34, loss = 0.02216583\n",
      "Iteration 35, loss = 0.02209651\n",
      "Iteration 36, loss = 0.02072567\n",
      "Iteration 37, loss = 0.01922612\n",
      "Iteration 38, loss = 0.01819189\n",
      "Iteration 39, loss = 0.01699757\n",
      "Iteration 40, loss = 0.01648385\n",
      "Iteration 41, loss = 0.01361014\n",
      "Iteration 42, loss = 0.01306476\n",
      "Iteration 43, loss = 0.01154348\n",
      "Iteration 44, loss = 0.01068264\n",
      "Iteration 45, loss = 0.01029746\n",
      "Iteration 46, loss = 0.00936541\n",
      "Iteration 47, loss = 0.01034991\n",
      "Iteration 48, loss = 0.01013657\n",
      "Iteration 49, loss = 0.00984560\n",
      "Iteration 50, loss = 0.00891986\n",
      "Iteration 51, loss = 0.00909075\n",
      "Iteration 52, loss = 0.01131559\n",
      "Iteration 53, loss = 0.00905813\n",
      "Iteration 54, loss = 0.00769583\n",
      "Iteration 55, loss = 0.00707556\n",
      "Iteration 56, loss = 0.00631809\n",
      "Iteration 57, loss = 0.00593980\n",
      "Iteration 58, loss = 0.00561053\n",
      "Iteration 59, loss = 0.00534101\n",
      "Iteration 60, loss = 0.00547781\n",
      "Iteration 61, loss = 0.00663791\n",
      "Iteration 62, loss = 0.00845791\n",
      "Iteration 63, loss = 0.00817493\n",
      "Iteration 64, loss = 0.00742109\n",
      "Iteration 65, loss = 0.00771037\n",
      "Iteration 66, loss = 0.01161965\n",
      "Iteration 67, loss = 0.01763690\n",
      "Iteration 68, loss = 0.02218617\n",
      "Iteration 69, loss = 0.01809858\n",
      "Iteration 70, loss = 0.01126247\n",
      "Training loss did not improve more than tol=0.000100 for 10 consecutive epochs. Stopping.\n",
      "finish for solver sgd\n",
      "Iteration 1, loss = 1.00636522\n",
      "Iteration 2, loss = 0.28805571\n",
      "Iteration 3, loss = 0.19442859\n",
      "Iteration 4, loss = 0.14503969\n",
      "Iteration 5, loss = 0.11348198\n"
     ]
    },
    {
     "name": "stderr",
     "output_type": "stream",
     "text": [
      "C:\\Users\\Alexandre\\anaconda3\\envs\\Apprentissage5A\\lib\\site-packages\\sklearn\\neural_network\\_multilayer_perceptron.py:692: ConvergenceWarning: Stochastic Optimizer: Maximum iterations (5) reached and the optimization hasn't converged yet.\n",
      "  warnings.warn(\n"
     ]
    },
    {
     "name": "stdout",
     "output_type": "stream",
     "text": [
      "Iteration 1, loss = 0.95787623\n",
      "Iteration 2, loss = 0.24125689\n",
      "Iteration 3, loss = 0.16590072\n",
      "Iteration 4, loss = 0.13026422\n",
      "Iteration 5, loss = 0.10290297\n",
      "Iteration 6, loss = 0.08393049\n",
      "Iteration 7, loss = 0.07961384\n",
      "Iteration 8, loss = 0.06468534\n",
      "Iteration 9, loss = 0.05924235\n",
      "Iteration 10, loss = 0.05624906\n"
     ]
    },
    {
     "name": "stderr",
     "output_type": "stream",
     "text": [
      "C:\\Users\\Alexandre\\anaconda3\\envs\\Apprentissage5A\\lib\\site-packages\\sklearn\\neural_network\\_multilayer_perceptron.py:692: ConvergenceWarning: Stochastic Optimizer: Maximum iterations (10) reached and the optimization hasn't converged yet.\n",
      "  warnings.warn(\n"
     ]
    },
    {
     "name": "stdout",
     "output_type": "stream",
     "text": [
      "Iteration 1, loss = 1.10523134\n",
      "Iteration 2, loss = 0.29700172\n",
      "Iteration 3, loss = 0.19163945\n",
      "Iteration 4, loss = 0.14438006\n",
      "Iteration 5, loss = 0.12073033\n",
      "Iteration 6, loss = 0.09519436\n",
      "Iteration 7, loss = 0.08776790\n",
      "Iteration 8, loss = 0.07231451\n",
      "Iteration 9, loss = 0.06410518\n",
      "Iteration 10, loss = 0.06294120\n",
      "Iteration 11, loss = 0.05905249\n",
      "Iteration 12, loss = 0.04894742\n",
      "Iteration 13, loss = 0.05380016\n",
      "Iteration 14, loss = 0.04093624\n",
      "Iteration 15, loss = 0.03260361\n",
      "Iteration 16, loss = 0.03752984\n",
      "Iteration 17, loss = 0.03841317\n",
      "Iteration 18, loss = 0.04013849\n",
      "Iteration 19, loss = 0.03683717\n",
      "Iteration 20, loss = 0.02787864\n"
     ]
    },
    {
     "name": "stderr",
     "output_type": "stream",
     "text": [
      "C:\\Users\\Alexandre\\anaconda3\\envs\\Apprentissage5A\\lib\\site-packages\\sklearn\\neural_network\\_multilayer_perceptron.py:692: ConvergenceWarning: Stochastic Optimizer: Maximum iterations (20) reached and the optimization hasn't converged yet.\n",
      "  warnings.warn(\n"
     ]
    },
    {
     "name": "stdout",
     "output_type": "stream",
     "text": [
      "Iteration 1, loss = 1.33961473\n",
      "Iteration 2, loss = 0.32102810\n",
      "Iteration 3, loss = 0.21074554\n",
      "Iteration 4, loss = 0.15951326\n",
      "Iteration 5, loss = 0.12547874\n",
      "Iteration 6, loss = 0.10253893\n",
      "Iteration 7, loss = 0.09000243\n",
      "Iteration 8, loss = 0.08546048\n",
      "Iteration 9, loss = 0.06962522\n",
      "Iteration 10, loss = 0.06568673\n",
      "Iteration 11, loss = 0.06350062\n",
      "Iteration 12, loss = 0.05785180\n",
      "Iteration 13, loss = 0.04872738\n",
      "Iteration 14, loss = 0.04697813\n",
      "Iteration 15, loss = 0.04264954\n",
      "Iteration 16, loss = 0.04429920\n",
      "Iteration 17, loss = 0.03461034\n",
      "Iteration 18, loss = 0.04066567\n",
      "Iteration 19, loss = 0.03876334\n",
      "Iteration 20, loss = 0.03077326\n",
      "Iteration 21, loss = 0.03613724\n",
      "Iteration 22, loss = 0.02860511\n",
      "Iteration 23, loss = 0.02500125\n",
      "Iteration 24, loss = 0.02566073\n",
      "Iteration 25, loss = 0.02829772\n",
      "Iteration 26, loss = 0.03182950\n",
      "Iteration 27, loss = 0.02424773\n",
      "Iteration 28, loss = 0.02525271\n",
      "Iteration 29, loss = 0.02215480\n",
      "Iteration 30, loss = 0.01997844\n",
      "Iteration 31, loss = 0.01709736\n",
      "Iteration 32, loss = 0.03068894\n",
      "Iteration 33, loss = 0.01716225\n",
      "Iteration 34, loss = 0.02382436\n",
      "Iteration 35, loss = 0.01732043\n",
      "Iteration 36, loss = 0.01474031\n",
      "Iteration 37, loss = 0.02019030\n",
      "Iteration 38, loss = 0.01401870\n",
      "Iteration 39, loss = 0.01791926\n",
      "Iteration 40, loss = 0.01821049\n",
      "Iteration 41, loss = 0.01327499\n",
      "Iteration 42, loss = 0.01459400\n",
      "Iteration 43, loss = 0.01789284\n",
      "Iteration 44, loss = 0.01590349\n",
      "Iteration 45, loss = 0.01516776\n",
      "Iteration 46, loss = 0.01091476\n",
      "Iteration 47, loss = 0.01647977\n",
      "Iteration 48, loss = 0.01406296\n",
      "Iteration 49, loss = 0.00969452\n",
      "Iteration 50, loss = 0.01070329\n"
     ]
    },
    {
     "name": "stderr",
     "output_type": "stream",
     "text": [
      "C:\\Users\\Alexandre\\anaconda3\\envs\\Apprentissage5A\\lib\\site-packages\\sklearn\\neural_network\\_multilayer_perceptron.py:692: ConvergenceWarning: Stochastic Optimizer: Maximum iterations (50) reached and the optimization hasn't converged yet.\n",
      "  warnings.warn(\n"
     ]
    },
    {
     "name": "stdout",
     "output_type": "stream",
     "text": [
      "Iteration 1, loss = 1.02573001\n",
      "Iteration 2, loss = 0.24881282\n",
      "Iteration 3, loss = 0.17056052\n",
      "Iteration 4, loss = 0.12993255\n",
      "Iteration 5, loss = 0.10469391\n",
      "Iteration 6, loss = 0.08765117\n",
      "Iteration 7, loss = 0.07385978\n",
      "Iteration 8, loss = 0.07092214\n",
      "Iteration 9, loss = 0.05599298\n",
      "Iteration 10, loss = 0.05535357\n",
      "Iteration 11, loss = 0.04737699\n",
      "Iteration 12, loss = 0.04349285\n",
      "Iteration 13, loss = 0.04659648\n",
      "Iteration 14, loss = 0.03976209\n",
      "Iteration 15, loss = 0.03776504\n",
      "Iteration 16, loss = 0.03196793\n",
      "Iteration 17, loss = 0.03067585\n",
      "Iteration 18, loss = 0.03305259\n",
      "Iteration 19, loss = 0.03818754\n",
      "Iteration 20, loss = 0.01945590\n",
      "Iteration 21, loss = 0.02664709\n",
      "Iteration 22, loss = 0.02461047\n",
      "Iteration 23, loss = 0.02899808\n",
      "Iteration 24, loss = 0.02769117\n",
      "Iteration 25, loss = 0.02346487\n",
      "Iteration 26, loss = 0.02093407\n",
      "Iteration 27, loss = 0.02298224\n",
      "Iteration 28, loss = 0.02139385\n",
      "Iteration 29, loss = 0.01837718\n",
      "Iteration 30, loss = 0.01520190\n",
      "Iteration 31, loss = 0.01880628\n",
      "Iteration 32, loss = 0.01492898\n",
      "Iteration 33, loss = 0.02017286\n",
      "Iteration 34, loss = 0.01971894\n",
      "Iteration 35, loss = 0.01531925\n",
      "Iteration 36, loss = 0.01576163\n",
      "Iteration 37, loss = 0.02095952\n",
      "Iteration 38, loss = 0.01822066\n",
      "Iteration 39, loss = 0.01184299\n",
      "Iteration 40, loss = 0.01087384\n",
      "Iteration 41, loss = 0.01172992\n",
      "Iteration 42, loss = 0.01154656\n",
      "Iteration 43, loss = 0.01515226\n",
      "Iteration 44, loss = 0.01570760\n",
      "Iteration 45, loss = 0.01214664\n",
      "Iteration 46, loss = 0.01526019\n",
      "Iteration 47, loss = 0.01023364\n",
      "Iteration 48, loss = 0.01045853\n",
      "Iteration 49, loss = 0.00764259\n",
      "Iteration 50, loss = 0.00933732\n",
      "Iteration 51, loss = 0.01349948\n",
      "Iteration 52, loss = 0.00971742\n",
      "Iteration 53, loss = 0.01194521\n",
      "Iteration 54, loss = 0.01486936\n",
      "Iteration 55, loss = 0.01175393\n",
      "Iteration 56, loss = 0.01111524\n",
      "Iteration 57, loss = 0.00857813\n",
      "Iteration 58, loss = 0.00922471\n",
      "Iteration 59, loss = 0.01321946\n",
      "Iteration 60, loss = 0.01306554\n",
      "Training loss did not improve more than tol=0.000100 for 10 consecutive epochs. Stopping.\n",
      "finish for solver adam\n"
     ]
    }
   ],
   "source": [
    "def studyConvergenceDependingSolvers(X_train,X_test,y_train,y_test,hidden_layers_neurons_tuple= (91, 92, 23, 182, 87),max_iter_list = [5,10,20,50,100],solver_list = ['lbfgs','sgd','adam']):\n",
    "    for solver in solver_list:\n",
    "        results = []\n",
    "        epoch = 0\n",
    "        for max_iter in max_iter_list:\n",
    "            model = MLPClassifier(hidden_layer_sizes = hidden_layers_neurons_tuple,max_iter=max_iter,solver=solver,verbose=True)   \n",
    "            start_t = time.time()\n",
    "            model.fit(X_train,y_train)\n",
    "            training_time = time.time()-start_t\n",
    "            prediction = model.predict(X_test)\n",
    "            precision = precision_score(y_test,prediction,average ='micro')\n",
    "            recall = recall_score(y_test,prediction,average = 'micro')\n",
    "            error = zero_one_loss(y_test,prediction)\n",
    "            results.append({\"max_iter\":max_iter,\"precision\":precision,\"error\":error,\"recall\":recall,\"training_time\":training_time})\n",
    "        pickle.dump(results, open( \"results/by_solver/{}_results.p\".format(solver), \"wb\" )) # Save results\n",
    "        print(\"finish for solver {}\".format(solver))\n",
    "    \n",
    "studyConvergenceDependingSolvers(X_train,X_test,y_train,y_test,hidden_layers_neurons_tuple= (91, 92, 23, 182, 87),max_iter_list = [5,10,20,50,100],solver_list = ['lbfgs','sgd','adam'])"
   ]
  },
  {
   "cell_type": "code",
   "execution_count": 11,
   "id": "36a8d616",
   "metadata": {},
   "outputs": [],
   "source": [
    "def unpickle(file):\n",
    "    import pickle\n",
    "    with open(file, 'rb') as fo:\n",
    "        data = pickle.load(fo, encoding='latin1')\n",
    "    return data"
   ]
  },
  {
   "cell_type": "code",
   "execution_count": 12,
   "id": "a562138c",
   "metadata": {},
   "outputs": [
    {
     "data": {
      "image/png": "[encoded data removed]",
      "text/plain": [
       "<Figure size 432x288 with 1 Axes>"
      ]
     },
     "metadata": {
      "needs_background": "light"
     },
     "output_type": "display_data"
    },
    {
     "data": {
      "image/png": "[encoded data removed]",
      "text/plain": [
       "<Figure size 432x288 with 1 Axes>"
      ]
     },
     "metadata": {
      "needs_background": "light"
     },
     "output_type": "display_data"
    },
    {
     "data": {
      "image/png": "[encoded data removed]",
      "text/plain": [
       "<Figure size 432x288 with 1 Axes>"
      ]
     },
     "metadata": {
      "needs_background": "light"
     },
     "output_type": "display_data"
    },
    {
     "data": {
      "image/png": "[encoded data removed]",
      "text/plain": [
       "<Figure size 432x288 with 1 Axes>"
      ]
     },
     "metadata": {
      "needs_background": "light"
     },
     "output_type": "display_data"
    }
   ],
   "source": [
    "solvers = ['lbfgs','sgd','adam']\n",
    "\n",
    "for solver in solvers:\n",
    "    results = unpickle(f'results/by_solver/{solver}_results.p')\n",
    "    precisions = [result[\"precision\"] for result in results]\n",
    "    max_iter = [result[\"max_iter\"] for result in results]\n",
    "    plt.plot(max_iter, precisions, label=solver)\n",
    "\n",
    "plt.xlabel('total_iteration')\n",
    "plt.ylabel('precision')\n",
    "plt.title('Evolution of precision by iterations')\n",
    "plt.legend()\n",
    "plt.show()\n",
    "\n",
    "for solver in solvers:\n",
    "    results = unpickle(f'results/by_solver/{solver}_results.p')\n",
    "    errors = [result[\"error\"] for result in results]\n",
    "    max_iter = [result[\"max_iter\"] for result in results]\n",
    "    plt.plot(max_iter, errors, label=solver)\n",
    "\n",
    "plt.xlabel('total_iteration')\n",
    "plt.ylabel('error')\n",
    "plt.title('Evolution of error by iterations')\n",
    "plt.legend()\n",
    "plt.show()\n",
    "\n",
    "for solver in solvers:\n",
    "    results = unpickle(f'results/by_solver/{solver}_results.p')\n",
    "    recalls = [result[\"recall\"] for result in results]\n",
    "    max_iter = [result[\"max_iter\"] for result in results]\n",
    "    plt.plot(max_iter, recalls, label=solver)\n",
    "\n",
    "plt.xlabel('total_iteration')\n",
    "plt.ylabel('recall')\n",
    "plt.title('Evolution of recall by iterations')\n",
    "plt.legend()\n",
    "plt.show()\n",
    "\n",
    "for solver in solvers:\n",
    "    results = unpickle(f'results/by_solver/{solver}_results.p')\n",
    "    precisions = [result[\"precision\"] for result in results]\n",
    "    training_time = [result[\"training_time\"] for result in results]\n",
    "    plt.plot(training_time, precisions, label=solver)\n",
    "\n",
    "plt.xlabel('training_time')\n",
    "plt.ylabel('precision')\n",
    "plt.title('Evolution of precision by training_time')\n",
    "plt.legend()\n",
    "plt.show()"
   ]
  },
  {
   "cell_type": "code",
   "execution_count": 15,
   "id": "371d9f36",
   "metadata": {
    "scrolled": false
   },
   "outputs": [
    {
     "name": "stdout",
     "output_type": "stream",
     "text": [
      "Iteration 1, loss = 3.01727243\n",
      "Iteration 2, loss = 0.90724172\n",
      "Iteration 3, loss = 0.71580684\n",
      "Iteration 4, loss = 0.57494653\n",
      "Iteration 5, loss = 0.47760154\n"
     ]
    },
    {
     "name": "stderr",
     "output_type": "stream",
     "text": [
      "C:\\Users\\Alexandre\\anaconda3\\envs\\Apprentissage5A\\lib\\site-packages\\sklearn\\neural_network\\_multilayer_perceptron.py:692: ConvergenceWarning: Stochastic Optimizer: Maximum iterations (5) reached and the optimization hasn't converged yet.\n",
      "  warnings.warn(\n"
     ]
    },
    {
     "name": "stdout",
     "output_type": "stream",
     "text": [
      "Iteration 1, loss = 2.88509018\n",
      "Iteration 2, loss = 0.91131093\n",
      "Iteration 3, loss = 0.68584690\n",
      "Iteration 4, loss = 0.53919619\n",
      "Iteration 5, loss = 0.48808120\n",
      "Iteration 6, loss = 0.45607753\n",
      "Iteration 7, loss = 0.46003816\n",
      "Iteration 8, loss = 0.41690606\n",
      "Iteration 9, loss = 0.40701140\n",
      "Iteration 10, loss = 0.41072526\n"
     ]
    },
    {
     "name": "stderr",
     "output_type": "stream",
     "text": [
      "C:\\Users\\Alexandre\\anaconda3\\envs\\Apprentissage5A\\lib\\site-packages\\sklearn\\neural_network\\_multilayer_perceptron.py:692: ConvergenceWarning: Stochastic Optimizer: Maximum iterations (10) reached and the optimization hasn't converged yet.\n",
      "  warnings.warn(\n"
     ]
    },
    {
     "name": "stdout",
     "output_type": "stream",
     "text": [
      "Iteration 1, loss = 2.87274152\n",
      "Iteration 2, loss = 0.89492330\n",
      "Iteration 3, loss = 0.64651338\n",
      "Iteration 4, loss = 0.54075177\n",
      "Iteration 5, loss = 0.47456917\n",
      "Iteration 6, loss = 0.46602049\n",
      "Iteration 7, loss = 0.41783934\n",
      "Iteration 8, loss = 0.43015902\n",
      "Iteration 9, loss = 0.41582473\n",
      "Iteration 10, loss = 0.39288541\n",
      "Iteration 11, loss = 0.38789895\n",
      "Iteration 12, loss = 0.36079689\n",
      "Iteration 13, loss = 0.36534439\n",
      "Iteration 14, loss = 0.36078393\n",
      "Iteration 15, loss = 0.36294663\n",
      "Iteration 16, loss = 0.34858748\n",
      "Iteration 17, loss = 0.34651177\n",
      "Iteration 18, loss = 0.33279011\n",
      "Iteration 19, loss = 0.33517327\n",
      "Iteration 20, loss = 0.32094840\n"
     ]
    },
    {
     "name": "stderr",
     "output_type": "stream",
     "text": [
      "C:\\Users\\Alexandre\\anaconda3\\envs\\Apprentissage5A\\lib\\site-packages\\sklearn\\neural_network\\_multilayer_perceptron.py:692: ConvergenceWarning: Stochastic Optimizer: Maximum iterations (20) reached and the optimization hasn't converged yet.\n",
      "  warnings.warn(\n"
     ]
    },
    {
     "name": "stdout",
     "output_type": "stream",
     "text": [
      "Iteration 1, loss = 2.96021477\n",
      "Iteration 2, loss = 0.95483201\n",
      "Iteration 3, loss = 0.64764889\n",
      "Iteration 4, loss = 0.55892933\n",
      "Iteration 5, loss = 0.46338950\n",
      "Iteration 6, loss = 0.44830822\n",
      "Iteration 7, loss = 0.41440139\n",
      "Iteration 8, loss = 0.41854400\n",
      "Iteration 9, loss = 0.39971986\n",
      "Iteration 10, loss = 0.41465329\n",
      "Iteration 11, loss = 0.38863693\n",
      "Iteration 12, loss = 0.36783895\n",
      "Iteration 13, loss = 0.37275879\n",
      "Iteration 14, loss = 0.35868936\n",
      "Iteration 15, loss = 0.34269579\n",
      "Iteration 16, loss = 0.35150458\n",
      "Iteration 17, loss = 0.33745573\n",
      "Iteration 18, loss = 0.33694127\n",
      "Iteration 19, loss = 0.32415184\n",
      "Iteration 20, loss = 0.32035004\n",
      "Iteration 21, loss = 0.33327101\n",
      "Iteration 22, loss = 0.31277322\n",
      "Iteration 23, loss = 0.32005066\n",
      "Iteration 24, loss = 0.31637796\n",
      "Iteration 25, loss = 0.30804198\n",
      "Iteration 26, loss = 0.31338549\n",
      "Iteration 27, loss = 0.30095930\n",
      "Iteration 28, loss = 0.29456879\n",
      "Iteration 29, loss = 0.29603391\n",
      "Iteration 30, loss = 0.29327882\n",
      "Iteration 31, loss = 0.28947027\n",
      "Iteration 32, loss = 0.29091475\n",
      "Iteration 33, loss = 0.28098158\n",
      "Iteration 34, loss = 0.28580381\n",
      "Iteration 35, loss = 0.28300941\n",
      "Iteration 36, loss = 0.27712299\n",
      "Iteration 37, loss = 0.27524816\n",
      "Iteration 38, loss = 0.27165854\n",
      "Iteration 39, loss = 0.26970760\n",
      "Iteration 40, loss = 0.26679906\n",
      "Iteration 41, loss = 0.26662743\n",
      "Iteration 42, loss = 0.26736096\n",
      "Iteration 43, loss = 0.27516656\n",
      "Iteration 44, loss = 0.26238995\n",
      "Iteration 45, loss = 0.26254882\n",
      "Iteration 46, loss = 0.25974456\n",
      "Iteration 47, loss = 0.25954304\n",
      "Iteration 48, loss = 0.25756610\n",
      "Iteration 49, loss = 0.26370879\n",
      "Iteration 50, loss = 0.25445495\n"
     ]
    },
    {
     "name": "stderr",
     "output_type": "stream",
     "text": [
      "C:\\Users\\Alexandre\\anaconda3\\envs\\Apprentissage5A\\lib\\site-packages\\sklearn\\neural_network\\_multilayer_perceptron.py:692: ConvergenceWarning: Stochastic Optimizer: Maximum iterations (50) reached and the optimization hasn't converged yet.\n",
      "  warnings.warn(\n"
     ]
    },
    {
     "name": "stdout",
     "output_type": "stream",
     "text": [
      "Iteration 1, loss = 2.88906712\n",
      "Iteration 2, loss = 0.89253159\n",
      "Iteration 3, loss = 0.68799331\n",
      "Iteration 4, loss = 0.55922155\n",
      "Iteration 5, loss = 0.48366082\n",
      "Iteration 6, loss = 0.42925624\n",
      "Iteration 7, loss = 0.43270801\n",
      "Iteration 8, loss = 0.40646033\n",
      "Iteration 9, loss = 0.39698420\n",
      "Iteration 10, loss = 0.40211192\n",
      "Iteration 11, loss = 0.38202586\n",
      "Iteration 12, loss = 0.36714496\n",
      "Iteration 13, loss = 0.36669010\n",
      "Iteration 14, loss = 0.35812337\n",
      "Iteration 15, loss = 0.36370111\n",
      "Iteration 16, loss = 0.35898715\n",
      "Iteration 17, loss = 0.33626906\n",
      "Iteration 18, loss = 0.32932247\n",
      "Iteration 19, loss = 0.33625494\n",
      "Iteration 20, loss = 0.33229651\n",
      "Iteration 21, loss = 0.31059637\n",
      "Iteration 22, loss = 0.32127152\n",
      "Iteration 23, loss = 0.32298533\n",
      "Iteration 24, loss = 0.31131385\n",
      "Iteration 25, loss = 0.30617463\n",
      "Iteration 26, loss = 0.30944739\n",
      "Iteration 27, loss = 0.30024803\n",
      "Iteration 28, loss = 0.29540452\n",
      "Iteration 29, loss = 0.29076121\n",
      "Iteration 30, loss = 0.29395690\n",
      "Iteration 31, loss = 0.29030827\n",
      "Iteration 32, loss = 0.28724038\n",
      "Iteration 33, loss = 0.28272604\n",
      "Iteration 34, loss = 0.28332929\n",
      "Iteration 35, loss = 0.28962736\n",
      "Iteration 36, loss = 0.27664696\n",
      "Iteration 37, loss = 0.27288113\n",
      "Iteration 38, loss = 0.26779523\n",
      "Iteration 39, loss = 0.28146951\n",
      "Iteration 40, loss = 0.27222693\n",
      "Iteration 41, loss = 0.27200616\n",
      "Iteration 42, loss = 0.26629338\n",
      "Iteration 43, loss = 0.26584879\n",
      "Iteration 44, loss = 0.25821206\n",
      "Iteration 45, loss = 0.26519094\n",
      "Iteration 46, loss = 0.26387019\n",
      "Iteration 47, loss = 0.25691329\n",
      "Iteration 48, loss = 0.25783201\n",
      "Iteration 49, loss = 0.26254256\n",
      "Iteration 50, loss = 0.25761231\n",
      "Iteration 51, loss = 0.25793585\n",
      "Iteration 52, loss = 0.25442552\n",
      "Iteration 53, loss = 0.25815114\n",
      "Iteration 54, loss = 0.25862722\n",
      "Iteration 55, loss = 0.25181511\n",
      "Iteration 56, loss = 0.25388825\n",
      "Iteration 57, loss = 0.24981793\n",
      "Iteration 58, loss = 0.25040559\n",
      "Iteration 59, loss = 0.24756900\n",
      "Iteration 60, loss = 0.24787476\n",
      "Iteration 61, loss = 0.24784105\n",
      "Iteration 62, loss = 0.24661043\n",
      "Iteration 63, loss = 0.24635031\n",
      "Iteration 64, loss = 0.24561250\n",
      "Iteration 65, loss = 0.24363153\n",
      "Iteration 66, loss = 0.24365638\n",
      "Iteration 67, loss = 0.24333775\n",
      "Iteration 68, loss = 0.24275291\n",
      "Iteration 69, loss = 0.24029285\n",
      "Iteration 70, loss = 0.24374357\n",
      "Iteration 71, loss = 0.23712947\n",
      "Iteration 72, loss = 0.23884669\n",
      "Iteration 73, loss = 0.24226755\n",
      "Iteration 74, loss = 0.23756241\n",
      "Iteration 75, loss = 0.23390543\n",
      "Iteration 76, loss = 0.23515875\n",
      "Iteration 77, loss = 0.23232460\n",
      "Iteration 78, loss = 0.23589728\n",
      "Iteration 79, loss = 0.23356805\n",
      "Iteration 80, loss = 0.23385617\n",
      "Iteration 81, loss = 0.23236001\n",
      "Iteration 82, loss = 0.23135878\n",
      "Iteration 83, loss = 0.23263246\n",
      "Iteration 84, loss = 0.22936412\n",
      "Iteration 85, loss = 0.22895352\n",
      "Iteration 86, loss = 0.23169875\n",
      "Iteration 87, loss = 0.22711407\n",
      "Iteration 88, loss = 0.23147975\n",
      "Iteration 89, loss = 0.22682771\n",
      "Iteration 90, loss = 0.22653303\n",
      "Iteration 91, loss = 0.22849095\n",
      "Iteration 92, loss = 0.22475763\n",
      "Iteration 93, loss = 0.22445116\n",
      "Iteration 94, loss = 0.22664458\n",
      "Iteration 95, loss = 0.22557056\n",
      "Iteration 96, loss = 0.22723899\n",
      "Iteration 97, loss = 0.22340604\n",
      "Iteration 98, loss = 0.22090354\n",
      "Iteration 99, loss = 0.22211020\n",
      "Iteration 100, loss = 0.22130689\n"
     ]
    },
    {
     "name": "stderr",
     "output_type": "stream",
     "text": [
      "C:\\Users\\Alexandre\\anaconda3\\envs\\Apprentissage5A\\lib\\site-packages\\sklearn\\neural_network\\_multilayer_perceptron.py:692: ConvergenceWarning: Stochastic Optimizer: Maximum iterations (100) reached and the optimization hasn't converged yet.\n",
      "  warnings.warn(\n"
     ]
    },
    {
     "name": "stdout",
     "output_type": "stream",
     "text": [
      "finish for activation identity\n",
      "Iteration 1, loss = 1.94111885\n",
      "Iteration 2, loss = 1.33671648\n",
      "Iteration 3, loss = 1.13239521\n",
      "Iteration 4, loss = 0.90747708\n",
      "Iteration 5, loss = 0.74413720\n"
     ]
    },
    {
     "name": "stderr",
     "output_type": "stream",
     "text": [
      "C:\\Users\\Alexandre\\anaconda3\\envs\\Apprentissage5A\\lib\\site-packages\\sklearn\\neural_network\\_multilayer_perceptron.py:692: ConvergenceWarning: Stochastic Optimizer: Maximum iterations (5) reached and the optimization hasn't converged yet.\n",
      "  warnings.warn(\n"
     ]
    },
    {
     "name": "stdout",
     "output_type": "stream",
     "text": [
      "Iteration 1, loss = 1.91663697\n",
      "Iteration 2, loss = 1.29705927\n",
      "Iteration 3, loss = 0.93744854\n",
      "Iteration 4, loss = 0.71934200\n",
      "Iteration 5, loss = 0.56674176\n",
      "Iteration 6, loss = 0.48110194\n",
      "Iteration 7, loss = 0.42904594\n",
      "Iteration 8, loss = 0.40055281\n",
      "Iteration 9, loss = 0.39369073\n",
      "Iteration 10, loss = 0.36494843\n"
     ]
    },
    {
     "name": "stderr",
     "output_type": "stream",
     "text": [
      "C:\\Users\\Alexandre\\anaconda3\\envs\\Apprentissage5A\\lib\\site-packages\\sklearn\\neural_network\\_multilayer_perceptron.py:692: ConvergenceWarning: Stochastic Optimizer: Maximum iterations (10) reached and the optimization hasn't converged yet.\n",
      "  warnings.warn(\n"
     ]
    },
    {
     "name": "stdout",
     "output_type": "stream",
     "text": [
      "Iteration 1, loss = 1.91595303\n",
      "Iteration 2, loss = 1.02609360\n",
      "Iteration 3, loss = 0.73378079\n",
      "Iteration 4, loss = 0.60909078\n",
      "Iteration 5, loss = 0.55163601\n",
      "Iteration 6, loss = 0.48879026\n",
      "Iteration 7, loss = 0.46126212\n",
      "Iteration 8, loss = 0.42491042\n",
      "Iteration 9, loss = 0.41172922\n",
      "Iteration 10, loss = 0.40658921\n",
      "Iteration 11, loss = 0.38419947\n",
      "Iteration 12, loss = 0.38333165\n",
      "Iteration 13, loss = 0.37765154\n",
      "Iteration 14, loss = 0.36370257\n",
      "Iteration 15, loss = 0.35503238\n",
      "Iteration 16, loss = 0.33809809\n",
      "Iteration 17, loss = 0.31883424\n",
      "Iteration 18, loss = 0.30793545\n",
      "Iteration 19, loss = 0.29905403\n",
      "Iteration 20, loss = 0.29282293\n"
     ]
    },
    {
     "name": "stderr",
     "output_type": "stream",
     "text": [
      "C:\\Users\\Alexandre\\anaconda3\\envs\\Apprentissage5A\\lib\\site-packages\\sklearn\\neural_network\\_multilayer_perceptron.py:692: ConvergenceWarning: Stochastic Optimizer: Maximum iterations (20) reached and the optimization hasn't converged yet.\n",
      "  warnings.warn(\n"
     ]
    },
    {
     "name": "stdout",
     "output_type": "stream",
     "text": [
      "Iteration 1, loss = 1.86413945\n",
      "Iteration 2, loss = 1.06934107\n",
      "Iteration 3, loss = 0.72417333\n",
      "Iteration 4, loss = 0.62068542\n",
      "Iteration 5, loss = 0.57020726\n",
      "Iteration 6, loss = 0.50067343\n",
      "Iteration 7, loss = 0.49315499\n",
      "Iteration 8, loss = 0.46681699\n",
      "Iteration 9, loss = 0.44141605\n",
      "Iteration 10, loss = 0.41775435\n",
      "Iteration 11, loss = 0.39881399\n",
      "Iteration 12, loss = 0.37991806\n",
      "Iteration 13, loss = 0.36542579\n",
      "Iteration 14, loss = 0.36043391\n",
      "Iteration 15, loss = 0.34959560\n",
      "Iteration 16, loss = 0.33579186\n",
      "Iteration 17, loss = 0.32031044\n",
      "Iteration 18, loss = 0.31431615\n",
      "Iteration 19, loss = 0.29719823\n",
      "Iteration 20, loss = 0.29722604\n",
      "Iteration 21, loss = 0.28019377\n",
      "Iteration 22, loss = 0.28298893\n",
      "Iteration 23, loss = 0.26961159\n",
      "Iteration 24, loss = 0.26166123\n",
      "Iteration 25, loss = 0.25303504\n",
      "Iteration 26, loss = 0.24754637\n",
      "Iteration 27, loss = 0.24432568\n",
      "Iteration 28, loss = 0.23759591\n",
      "Iteration 29, loss = 0.23218560\n",
      "Iteration 30, loss = 0.22748177\n",
      "Iteration 31, loss = 0.21802430\n",
      "Iteration 32, loss = 0.21945021\n",
      "Iteration 33, loss = 0.21523070\n",
      "Iteration 34, loss = 0.21347120\n",
      "Iteration 35, loss = 0.20489897\n",
      "Iteration 36, loss = 0.20922632\n",
      "Iteration 37, loss = 0.20930419\n",
      "Iteration 38, loss = 0.20747684\n",
      "Iteration 39, loss = 0.19821438\n",
      "Iteration 40, loss = 0.19918647\n",
      "Iteration 41, loss = 0.19001274\n",
      "Iteration 42, loss = 0.18941187\n",
      "Iteration 43, loss = 0.19019467\n",
      "Iteration 44, loss = 0.18571573\n",
      "Iteration 45, loss = 0.19058220\n",
      "Iteration 46, loss = 0.18375340\n",
      "Iteration 47, loss = 0.18380068\n",
      "Iteration 48, loss = 0.18368555\n",
      "Iteration 49, loss = 0.18789027\n",
      "Iteration 50, loss = 0.17976664\n"
     ]
    },
    {
     "name": "stderr",
     "output_type": "stream",
     "text": [
      "C:\\Users\\Alexandre\\anaconda3\\envs\\Apprentissage5A\\lib\\site-packages\\sklearn\\neural_network\\_multilayer_perceptron.py:692: ConvergenceWarning: Stochastic Optimizer: Maximum iterations (50) reached and the optimization hasn't converged yet.\n",
      "  warnings.warn(\n"
     ]
    },
    {
     "name": "stdout",
     "output_type": "stream",
     "text": [
      "Iteration 1, loss = 1.95412327\n",
      "Iteration 2, loss = 1.39982374\n",
      "Iteration 3, loss = 1.23193424\n",
      "Iteration 4, loss = 1.02533375\n",
      "Iteration 5, loss = 0.78524218\n",
      "Iteration 6, loss = 0.65772810\n",
      "Iteration 7, loss = 0.58852551\n",
      "Iteration 8, loss = 0.53386969\n",
      "Iteration 9, loss = 0.49083386\n",
      "Iteration 10, loss = 0.46868387\n",
      "Iteration 11, loss = 0.45045766\n",
      "Iteration 12, loss = 0.43959802\n",
      "Iteration 13, loss = 0.42881746\n",
      "Iteration 14, loss = 0.40296828\n",
      "Iteration 15, loss = 0.38112618\n",
      "Iteration 16, loss = 0.38497145\n",
      "Iteration 17, loss = 0.36752689\n",
      "Iteration 18, loss = 0.36851500\n",
      "Iteration 19, loss = 0.34608820\n",
      "Iteration 20, loss = 0.32698787\n",
      "Iteration 21, loss = 0.32709333\n",
      "Iteration 22, loss = 0.31107766\n",
      "Iteration 23, loss = 0.30173673\n",
      "Iteration 24, loss = 0.28518182\n",
      "Iteration 25, loss = 0.30483736\n",
      "Iteration 26, loss = 0.28396173\n",
      "Iteration 27, loss = 0.25761575\n",
      "Iteration 28, loss = 0.25808619\n",
      "Iteration 29, loss = 0.26598242\n",
      "Iteration 30, loss = 0.25593355\n",
      "Iteration 31, loss = 0.26510891\n",
      "Iteration 32, loss = 0.25430752\n",
      "Iteration 33, loss = 0.25323853\n",
      "Iteration 34, loss = 0.25302861\n",
      "Iteration 35, loss = 0.24160705\n",
      "Iteration 36, loss = 0.23075755\n",
      "Iteration 37, loss = 0.22654109\n",
      "Iteration 38, loss = 0.23487509\n",
      "Iteration 39, loss = 0.23567154\n",
      "Iteration 40, loss = 0.23153191\n",
      "Iteration 41, loss = 0.23367021\n",
      "Iteration 42, loss = 0.23035578\n",
      "Iteration 43, loss = 0.22374071\n",
      "Iteration 44, loss = 0.22364538\n",
      "Iteration 45, loss = 0.23205018\n",
      "Iteration 46, loss = 0.22141356\n",
      "Iteration 47, loss = 0.21895885\n",
      "Iteration 48, loss = 0.21523862\n",
      "Iteration 49, loss = 0.21477519\n",
      "Iteration 50, loss = 0.20792499\n",
      "Iteration 51, loss = 0.20985352\n",
      "Iteration 52, loss = 0.21472422\n",
      "Iteration 53, loss = 0.21085859\n",
      "Iteration 54, loss = 0.20365150\n",
      "Iteration 55, loss = 0.19556000\n",
      "Iteration 56, loss = 0.19033669\n",
      "Iteration 57, loss = 0.19083928\n",
      "Iteration 58, loss = 0.19186716\n",
      "Iteration 59, loss = 0.19990897\n",
      "Iteration 60, loss = 0.19037668\n",
      "Iteration 61, loss = 0.19398066\n",
      "Iteration 62, loss = 0.18922247\n",
      "Iteration 63, loss = 0.18538550\n",
      "Iteration 64, loss = 0.18272968\n",
      "Iteration 65, loss = 0.17692266\n",
      "Iteration 66, loss = 0.17590115\n",
      "Iteration 67, loss = 0.16929834\n",
      "Iteration 68, loss = 0.16796693\n",
      "Iteration 69, loss = 0.16951786\n",
      "Iteration 70, loss = 0.16630315\n",
      "Iteration 71, loss = 0.16934996\n",
      "Iteration 72, loss = 0.17095988\n",
      "Iteration 73, loss = 0.17100921\n",
      "Iteration 74, loss = 0.16339217\n",
      "Iteration 75, loss = 0.16559513\n",
      "Iteration 76, loss = 0.16004971\n",
      "Iteration 77, loss = 0.16714569\n",
      "Iteration 78, loss = 0.16752307\n",
      "Iteration 79, loss = 0.16659381\n",
      "Iteration 80, loss = 0.17172432\n",
      "Iteration 81, loss = 0.16841871\n",
      "Iteration 82, loss = 0.16115616\n",
      "Iteration 83, loss = 0.15745948\n",
      "Iteration 84, loss = 0.15920574\n",
      "Iteration 85, loss = 0.16668531\n",
      "Iteration 86, loss = 0.16376717\n",
      "Iteration 87, loss = 0.16042504\n",
      "Iteration 88, loss = 0.16832371\n",
      "Iteration 89, loss = 0.16213165\n",
      "Iteration 90, loss = 0.15786483\n",
      "Iteration 91, loss = 0.14450490\n",
      "Iteration 92, loss = 0.14658360\n",
      "Iteration 93, loss = 0.13787143\n",
      "Iteration 94, loss = 0.14048887\n",
      "Iteration 95, loss = 0.14159945\n",
      "Iteration 96, loss = 0.14230768\n",
      "Iteration 97, loss = 0.13538574\n",
      "Iteration 98, loss = 0.14139088\n",
      "Iteration 99, loss = 0.14168470\n",
      "Iteration 100, loss = 0.14317656\n"
     ]
    },
    {
     "name": "stderr",
     "output_type": "stream",
     "text": [
      "C:\\Users\\Alexandre\\anaconda3\\envs\\Apprentissage5A\\lib\\site-packages\\sklearn\\neural_network\\_multilayer_perceptron.py:692: ConvergenceWarning: Stochastic Optimizer: Maximum iterations (100) reached and the optimization hasn't converged yet.\n",
      "  warnings.warn(\n"
     ]
    },
    {
     "name": "stdout",
     "output_type": "stream",
     "text": [
      "finish for activation logistic\n",
      "Iteration 1, loss = 0.67618376\n",
      "Iteration 2, loss = 0.42268454\n",
      "Iteration 3, loss = 0.37488332\n",
      "Iteration 4, loss = 0.36239083\n",
      "Iteration 5, loss = 0.32485527\n"
     ]
    },
    {
     "name": "stderr",
     "output_type": "stream",
     "text": [
      "C:\\Users\\Alexandre\\anaconda3\\envs\\Apprentissage5A\\lib\\site-packages\\sklearn\\neural_network\\_multilayer_perceptron.py:692: ConvergenceWarning: Stochastic Optimizer: Maximum iterations (5) reached and the optimization hasn't converged yet.\n",
      "  warnings.warn(\n"
     ]
    },
    {
     "name": "stdout",
     "output_type": "stream",
     "text": [
      "Iteration 1, loss = 0.67639320\n",
      "Iteration 2, loss = 0.42410758\n",
      "Iteration 3, loss = 0.37019886\n",
      "Iteration 4, loss = 0.36514299\n",
      "Iteration 5, loss = 0.33974605\n",
      "Iteration 6, loss = 0.31754202\n",
      "Iteration 7, loss = 0.29001257\n",
      "Iteration 8, loss = 0.28069933\n",
      "Iteration 9, loss = 0.28130002\n",
      "Iteration 10, loss = 0.27617889\n"
     ]
    },
    {
     "name": "stderr",
     "output_type": "stream",
     "text": [
      "C:\\Users\\Alexandre\\anaconda3\\envs\\Apprentissage5A\\lib\\site-packages\\sklearn\\neural_network\\_multilayer_perceptron.py:692: ConvergenceWarning: Stochastic Optimizer: Maximum iterations (10) reached and the optimization hasn't converged yet.\n",
      "  warnings.warn(\n"
     ]
    },
    {
     "name": "stdout",
     "output_type": "stream",
     "text": [
      "Iteration 1, loss = 0.66359786\n",
      "Iteration 2, loss = 0.44584244\n",
      "Iteration 3, loss = 0.37713003\n",
      "Iteration 4, loss = 0.35328037\n",
      "Iteration 5, loss = 0.32596226\n",
      "Iteration 6, loss = 0.30912952\n",
      "Iteration 7, loss = 0.28537394\n",
      "Iteration 8, loss = 0.29250445\n",
      "Iteration 9, loss = 0.26534441\n",
      "Iteration 10, loss = 0.24907263\n",
      "Iteration 11, loss = 0.23516015\n",
      "Iteration 12, loss = 0.24101938\n",
      "Iteration 13, loss = 0.24735162\n",
      "Iteration 14, loss = 0.23057290\n",
      "Iteration 15, loss = 0.22982125\n",
      "Iteration 16, loss = 0.23575956\n",
      "Iteration 17, loss = 0.23782003\n",
      "Iteration 18, loss = 0.22590080\n",
      "Iteration 19, loss = 0.21653841\n",
      "Iteration 20, loss = 0.21879847\n"
     ]
    },
    {
     "name": "stderr",
     "output_type": "stream",
     "text": [
      "C:\\Users\\Alexandre\\anaconda3\\envs\\Apprentissage5A\\lib\\site-packages\\sklearn\\neural_network\\_multilayer_perceptron.py:692: ConvergenceWarning: Stochastic Optimizer: Maximum iterations (20) reached and the optimization hasn't converged yet.\n",
      "  warnings.warn(\n"
     ]
    },
    {
     "name": "stdout",
     "output_type": "stream",
     "text": [
      "Iteration 1, loss = 0.66290479\n",
      "Iteration 2, loss = 0.41144350\n",
      "Iteration 3, loss = 0.38268809\n",
      "Iteration 4, loss = 0.33613840\n",
      "Iteration 5, loss = 0.31660693\n",
      "Iteration 6, loss = 0.30771928\n",
      "Iteration 7, loss = 0.29647239\n",
      "Iteration 8, loss = 0.29891433\n",
      "Iteration 9, loss = 0.27557619\n",
      "Iteration 10, loss = 0.25063292\n",
      "Iteration 11, loss = 0.24836402\n",
      "Iteration 12, loss = 0.25978392\n",
      "Iteration 13, loss = 0.23803315\n",
      "Iteration 14, loss = 0.23495625\n",
      "Iteration 15, loss = 0.23620455\n",
      "Iteration 16, loss = 0.23033852\n",
      "Iteration 17, loss = 0.21683216\n",
      "Iteration 18, loss = 0.21953554\n",
      "Iteration 19, loss = 0.21284184\n",
      "Iteration 20, loss = 0.20881564\n",
      "Iteration 21, loss = 0.22801107\n",
      "Iteration 22, loss = 0.23301288\n",
      "Iteration 23, loss = 0.22396702\n",
      "Iteration 24, loss = 0.22462862\n",
      "Iteration 25, loss = 0.21873513\n",
      "Iteration 26, loss = 0.21143923\n",
      "Iteration 27, loss = 0.19880278\n",
      "Iteration 28, loss = 0.20626526\n",
      "Iteration 29, loss = 0.19646266\n",
      "Iteration 30, loss = 0.19371323\n",
      "Iteration 31, loss = 0.19579043\n",
      "Iteration 32, loss = 0.18659029\n",
      "Iteration 33, loss = 0.18054404\n",
      "Iteration 34, loss = 0.17796108\n",
      "Iteration 35, loss = 0.18287112\n",
      "Iteration 36, loss = 0.18164026\n",
      "Iteration 37, loss = 0.18333774\n",
      "Iteration 38, loss = 0.17783538\n",
      "Iteration 39, loss = 0.17605277\n",
      "Iteration 40, loss = 0.17051903\n",
      "Iteration 41, loss = 0.16908051\n",
      "Iteration 42, loss = 0.16794489\n",
      "Iteration 43, loss = 0.17370965\n",
      "Iteration 44, loss = 0.16662283\n",
      "Iteration 45, loss = 0.16280529\n",
      "Iteration 46, loss = 0.16196264\n",
      "Iteration 47, loss = 0.16239742\n",
      "Iteration 48, loss = 0.16178637\n",
      "Iteration 49, loss = 0.16279649\n",
      "Iteration 50, loss = 0.15542430\n"
     ]
    },
    {
     "name": "stderr",
     "output_type": "stream",
     "text": [
      "C:\\Users\\Alexandre\\anaconda3\\envs\\Apprentissage5A\\lib\\site-packages\\sklearn\\neural_network\\_multilayer_perceptron.py:692: ConvergenceWarning: Stochastic Optimizer: Maximum iterations (50) reached and the optimization hasn't converged yet.\n",
      "  warnings.warn(\n"
     ]
    },
    {
     "name": "stdout",
     "output_type": "stream",
     "text": [
      "Iteration 1, loss = 0.67942276\n",
      "Iteration 2, loss = 0.42213949\n",
      "Iteration 3, loss = 0.38064729\n",
      "Iteration 4, loss = 0.34645179\n",
      "Iteration 5, loss = 0.32266332\n",
      "Iteration 6, loss = 0.30975131\n",
      "Iteration 7, loss = 0.28401239\n",
      "Iteration 8, loss = 0.27340061\n",
      "Iteration 9, loss = 0.28234193\n",
      "Iteration 10, loss = 0.26213254\n",
      "Iteration 11, loss = 0.26618188\n",
      "Iteration 12, loss = 0.25250340\n",
      "Iteration 13, loss = 0.25418246\n",
      "Iteration 14, loss = 0.24905069\n",
      "Iteration 15, loss = 0.23863608\n",
      "Iteration 16, loss = 0.23844063\n",
      "Iteration 17, loss = 0.22747910\n",
      "Iteration 18, loss = 0.22091071\n",
      "Iteration 19, loss = 0.21735393\n",
      "Iteration 20, loss = 0.21603853\n",
      "Iteration 21, loss = 0.21897258\n",
      "Iteration 22, loss = 0.21759054\n",
      "Iteration 23, loss = 0.20204037\n",
      "Iteration 24, loss = 0.19918093\n",
      "Iteration 25, loss = 0.20729944\n",
      "Iteration 26, loss = 0.20280713\n",
      "Iteration 27, loss = 0.20397854\n",
      "Iteration 28, loss = 0.19133019\n",
      "Iteration 29, loss = 0.20059856\n",
      "Iteration 30, loss = 0.20159048\n",
      "Iteration 31, loss = 0.20153102\n",
      "Iteration 32, loss = 0.19244041\n",
      "Iteration 33, loss = 0.19449848\n",
      "Iteration 34, loss = 0.19730841\n",
      "Iteration 35, loss = 0.19065655\n",
      "Iteration 36, loss = 0.20332456\n",
      "Iteration 37, loss = 0.18341612\n",
      "Iteration 38, loss = 0.18234337\n",
      "Iteration 39, loss = 0.17581112\n",
      "Iteration 40, loss = 0.16922831\n",
      "Iteration 41, loss = 0.17706702\n",
      "Iteration 42, loss = 0.18969913\n",
      "Iteration 43, loss = 0.17888508\n",
      "Iteration 44, loss = 0.17089939\n",
      "Iteration 45, loss = 0.18205077\n",
      "Iteration 46, loss = 0.17780589\n",
      "Iteration 47, loss = 0.18440474\n",
      "Iteration 48, loss = 0.17591027\n",
      "Iteration 49, loss = 0.17157215\n",
      "Iteration 50, loss = 0.16604528\n",
      "Iteration 51, loss = 0.17959009\n",
      "Iteration 52, loss = 0.16965760\n",
      "Iteration 53, loss = 0.16999640\n",
      "Iteration 54, loss = 0.16264171\n",
      "Iteration 55, loss = 0.16560100\n",
      "Iteration 56, loss = 0.15900576\n",
      "Iteration 57, loss = 0.15644903\n",
      "Iteration 58, loss = 0.17172257\n",
      "Iteration 59, loss = 0.16704421\n",
      "Iteration 60, loss = 0.15872430\n",
      "Iteration 61, loss = 0.16249805\n",
      "Iteration 62, loss = 0.16393554\n",
      "Iteration 63, loss = 0.15577376\n",
      "Iteration 64, loss = 0.15064407\n",
      "Iteration 65, loss = 0.15141472\n",
      "Iteration 66, loss = 0.15825336\n",
      "Iteration 67, loss = 0.15058630\n",
      "Iteration 68, loss = 0.15560941\n",
      "Iteration 69, loss = 0.15854988\n",
      "Iteration 70, loss = 0.15628313\n",
      "Iteration 71, loss = 0.15202931\n",
      "Iteration 72, loss = 0.14935123\n",
      "Iteration 73, loss = 0.14954755\n",
      "Iteration 74, loss = 0.14605363\n",
      "Iteration 75, loss = 0.14016894\n",
      "Iteration 76, loss = 0.14672910\n",
      "Iteration 77, loss = 0.14598806\n",
      "Iteration 78, loss = 0.14356699\n",
      "Iteration 79, loss = 0.13649570\n",
      "Iteration 80, loss = 0.12729941\n",
      "Iteration 81, loss = 0.13261523\n",
      "Iteration 82, loss = 0.14559211\n",
      "Iteration 83, loss = 0.14366990\n",
      "Iteration 84, loss = 0.14574908\n",
      "Iteration 85, loss = 0.14284217\n",
      "Iteration 86, loss = 0.13529781\n",
      "Iteration 87, loss = 0.13275153\n",
      "Iteration 88, loss = 0.13697228\n",
      "Iteration 89, loss = 0.13661622\n",
      "Iteration 90, loss = 0.12882792\n",
      "Iteration 91, loss = 0.12783858\n",
      "Training loss did not improve more than tol=0.000100 for 10 consecutive epochs. Stopping.\n",
      "finish for activation tanh\n",
      "Iteration 1, loss = 0.85257895\n",
      "Iteration 2, loss = 0.24190225\n",
      "Iteration 3, loss = 0.16020898\n",
      "Iteration 4, loss = 0.12101990\n",
      "Iteration 5, loss = 0.10560410\n"
     ]
    },
    {
     "name": "stderr",
     "output_type": "stream",
     "text": [
      "C:\\Users\\Alexandre\\anaconda3\\envs\\Apprentissage5A\\lib\\site-packages\\sklearn\\neural_network\\_multilayer_perceptron.py:692: ConvergenceWarning: Stochastic Optimizer: Maximum iterations (5) reached and the optimization hasn't converged yet.\n",
      "  warnings.warn(\n"
     ]
    },
    {
     "name": "stdout",
     "output_type": "stream",
     "text": [
      "Iteration 1, loss = 1.18915932\n",
      "Iteration 2, loss = 0.27781112\n",
      "Iteration 3, loss = 0.17933083\n",
      "Iteration 4, loss = 0.13235193\n",
      "Iteration 5, loss = 0.10782058\n",
      "Iteration 6, loss = 0.08788327\n",
      "Iteration 7, loss = 0.08293808\n",
      "Iteration 8, loss = 0.07150273\n",
      "Iteration 9, loss = 0.05953450\n",
      "Iteration 10, loss = 0.05164382\n"
     ]
    },
    {
     "name": "stderr",
     "output_type": "stream",
     "text": [
      "C:\\Users\\Alexandre\\anaconda3\\envs\\Apprentissage5A\\lib\\site-packages\\sklearn\\neural_network\\_multilayer_perceptron.py:692: ConvergenceWarning: Stochastic Optimizer: Maximum iterations (10) reached and the optimization hasn't converged yet.\n",
      "  warnings.warn(\n"
     ]
    },
    {
     "name": "stdout",
     "output_type": "stream",
     "text": [
      "Iteration 1, loss = 0.87144269\n",
      "Iteration 2, loss = 0.24353178\n",
      "Iteration 3, loss = 0.16842737\n",
      "Iteration 4, loss = 0.12404540\n",
      "Iteration 5, loss = 0.09942592\n",
      "Iteration 6, loss = 0.08650045\n",
      "Iteration 7, loss = 0.07816875\n",
      "Iteration 8, loss = 0.06527570\n",
      "Iteration 9, loss = 0.05163809\n",
      "Iteration 10, loss = 0.05506010\n",
      "Iteration 11, loss = 0.04965389\n",
      "Iteration 12, loss = 0.04279793\n",
      "Iteration 13, loss = 0.03651060\n",
      "Iteration 14, loss = 0.04034930\n",
      "Iteration 15, loss = 0.04497712\n",
      "Iteration 16, loss = 0.03991133\n",
      "Iteration 17, loss = 0.03417427\n",
      "Iteration 18, loss = 0.02964552\n",
      "Iteration 19, loss = 0.02620072\n",
      "Iteration 20, loss = 0.02748544\n"
     ]
    },
    {
     "name": "stderr",
     "output_type": "stream",
     "text": [
      "C:\\Users\\Alexandre\\anaconda3\\envs\\Apprentissage5A\\lib\\site-packages\\sklearn\\neural_network\\_multilayer_perceptron.py:692: ConvergenceWarning: Stochastic Optimizer: Maximum iterations (20) reached and the optimization hasn't converged yet.\n",
      "  warnings.warn(\n"
     ]
    },
    {
     "name": "stdout",
     "output_type": "stream",
     "text": [
      "Iteration 1, loss = 0.98279135\n",
      "Iteration 2, loss = 0.27198773\n",
      "Iteration 3, loss = 0.17547089\n",
      "Iteration 4, loss = 0.13390098\n",
      "Iteration 5, loss = 0.11347506\n",
      "Iteration 6, loss = 0.09783462\n",
      "Iteration 7, loss = 0.08053441\n",
      "Iteration 8, loss = 0.07986848\n",
      "Iteration 9, loss = 0.06400634\n",
      "Iteration 10, loss = 0.05385332\n",
      "Iteration 11, loss = 0.05695876\n",
      "Iteration 12, loss = 0.05074036\n",
      "Iteration 13, loss = 0.04481962\n",
      "Iteration 14, loss = 0.04164999\n",
      "Iteration 15, loss = 0.03847478\n",
      "Iteration 16, loss = 0.03543979\n",
      "Iteration 17, loss = 0.02940054\n",
      "Iteration 18, loss = 0.03362993\n",
      "Iteration 19, loss = 0.02904826\n",
      "Iteration 20, loss = 0.03163996\n",
      "Iteration 21, loss = 0.02337745\n",
      "Iteration 22, loss = 0.02776075\n",
      "Iteration 23, loss = 0.02850122\n",
      "Iteration 24, loss = 0.02498307\n",
      "Iteration 25, loss = 0.02222204\n",
      "Iteration 26, loss = 0.02605384\n",
      "Iteration 27, loss = 0.01463511\n",
      "Iteration 28, loss = 0.02434948\n",
      "Iteration 29, loss = 0.01893654\n",
      "Iteration 30, loss = 0.01531321\n",
      "Iteration 31, loss = 0.02076150\n",
      "Iteration 32, loss = 0.01939367\n",
      "Iteration 33, loss = 0.02532927\n",
      "Iteration 34, loss = 0.01178457\n",
      "Iteration 35, loss = 0.02218057\n",
      "Iteration 36, loss = 0.01724590\n",
      "Iteration 37, loss = 0.02282379\n",
      "Iteration 38, loss = 0.01238154\n",
      "Iteration 39, loss = 0.01328014\n",
      "Iteration 40, loss = 0.01085862\n",
      "Iteration 41, loss = 0.01042389\n",
      "Iteration 42, loss = 0.01354520\n",
      "Iteration 43, loss = 0.01335945\n",
      "Iteration 44, loss = 0.01420669\n",
      "Iteration 45, loss = 0.01488547\n",
      "Iteration 46, loss = 0.01750067\n",
      "Iteration 47, loss = 0.01251905\n",
      "Iteration 48, loss = 0.01215571\n",
      "Iteration 49, loss = 0.01792921\n",
      "Iteration 50, loss = 0.01246312\n"
     ]
    },
    {
     "name": "stderr",
     "output_type": "stream",
     "text": [
      "C:\\Users\\Alexandre\\anaconda3\\envs\\Apprentissage5A\\lib\\site-packages\\sklearn\\neural_network\\_multilayer_perceptron.py:692: ConvergenceWarning: Stochastic Optimizer: Maximum iterations (50) reached and the optimization hasn't converged yet.\n",
      "  warnings.warn(\n"
     ]
    },
    {
     "name": "stdout",
     "output_type": "stream",
     "text": [
      "Iteration 1, loss = 0.87066441\n",
      "Iteration 2, loss = 0.25016793\n",
      "Iteration 3, loss = 0.16695046\n",
      "Iteration 4, loss = 0.12618972\n",
      "Iteration 5, loss = 0.10537288\n",
      "Iteration 6, loss = 0.08882839\n",
      "Iteration 7, loss = 0.07742884\n",
      "Iteration 8, loss = 0.06865071\n",
      "Iteration 9, loss = 0.05668904\n",
      "Iteration 10, loss = 0.05798275\n",
      "Iteration 11, loss = 0.05160316\n",
      "Iteration 12, loss = 0.04190697\n",
      "Iteration 13, loss = 0.04610119\n",
      "Iteration 14, loss = 0.04396817\n",
      "Iteration 15, loss = 0.03461403\n",
      "Iteration 16, loss = 0.03002297\n",
      "Iteration 17, loss = 0.03713989\n",
      "Iteration 18, loss = 0.02438720\n",
      "Iteration 19, loss = 0.03372353\n",
      "Iteration 20, loss = 0.03040969\n",
      "Iteration 21, loss = 0.02771519\n",
      "Iteration 22, loss = 0.03037915\n",
      "Iteration 23, loss = 0.02916063\n",
      "Iteration 24, loss = 0.02510728\n",
      "Iteration 25, loss = 0.02262787\n",
      "Iteration 26, loss = 0.01774126\n",
      "Iteration 27, loss = 0.02300888\n",
      "Iteration 28, loss = 0.02551521\n",
      "Iteration 29, loss = 0.01850050\n",
      "Iteration 30, loss = 0.01263714\n",
      "Iteration 31, loss = 0.02260256\n",
      "Iteration 32, loss = 0.01737079\n",
      "Iteration 33, loss = 0.02221442\n",
      "Iteration 34, loss = 0.01855965\n",
      "Iteration 35, loss = 0.01601924\n",
      "Iteration 36, loss = 0.02100461\n",
      "Iteration 37, loss = 0.01673934\n",
      "Iteration 38, loss = 0.02335510\n",
      "Iteration 39, loss = 0.01189175\n",
      "Iteration 40, loss = 0.01414807\n",
      "Iteration 41, loss = 0.01326394\n",
      "Iteration 42, loss = 0.01608511\n",
      "Iteration 43, loss = 0.01566494\n",
      "Iteration 44, loss = 0.01363250\n",
      "Iteration 45, loss = 0.01015291\n",
      "Iteration 46, loss = 0.02004701\n",
      "Iteration 47, loss = 0.01267801\n",
      "Iteration 48, loss = 0.01120156\n",
      "Iteration 49, loss = 0.01084160\n",
      "Iteration 50, loss = 0.01424568\n",
      "Iteration 51, loss = 0.01395700\n",
      "Iteration 52, loss = 0.01102379\n",
      "Iteration 53, loss = 0.01441939\n",
      "Iteration 54, loss = 0.01296855\n",
      "Iteration 55, loss = 0.01323147\n",
      "Iteration 56, loss = 0.01156021\n",
      "Training loss did not improve more than tol=0.000100 for 10 consecutive epochs. Stopping.\n",
      "finish for activation relu\n"
     ]
    }
   ],
   "source": [
    "def studyConvergenceDependingActivationFunction(X_train,X_test,y_train,y_test,hidden_layers_neurons_tuple= (91, 92, 23, 182, 87),max_iter_list = [5,10,20,50,100],activation_list = ['identity','logistic','tanh','relu']):\n",
    "    for activation in activation_list:\n",
    "        results = []\n",
    "        epoch = 0\n",
    "        for max_iter in max_iter_list:\n",
    "            model = MLPClassifier(hidden_layer_sizes = hidden_layers_neurons_tuple,max_iter=max_iter,activation=activation,verbose=True)   \n",
    "            start_t = time.time()\n",
    "            model.fit(X_train,y_train)\n",
    "            training_time = time.time()-start_t\n",
    "            prediction = model.predict(X_test)\n",
    "            precision = precision_score(y_test,prediction,average ='micro')\n",
    "            recall = recall_score(y_test,prediction,average = 'micro')\n",
    "            error = zero_one_loss(y_test,prediction)\n",
    "            results.append({\"max_iter\":max_iter,\"precision\":precision,\"error\":error,\"recall\":recall,\"training_time\":training_time})\n",
    "        pickle.dump(results, open( \"results/by_activation/{}_results.p\".format(activation), \"wb\" )) # Save results\n",
    "        print(\"finish for activation {}\".format(activation))\n",
    "    \n",
    "studyConvergenceDependingActivationFunction(X_train,X_test,y_train,y_test,hidden_layers_neurons_tuple= (91, 92, 23, 182, 87),max_iter_list = [5,10,20,50,100],activation_list = ['identity','logistic','tanh','relu'])"
   ]
  },
  {
   "cell_type": "code",
   "execution_count": 16,
   "id": "39746e6d",
   "metadata": {},
   "outputs": [
    {
     "data": {
      "image/png": "[encoded data removed]",
      "text/plain": [
       "<Figure size 432x288 with 1 Axes>"
      ]
     },
     "metadata": {
      "needs_background": "light"
     },
     "output_type": "display_data"
    },
    {
     "data": {
      "image/png": "[encoded data removed]",
      "text/plain": [
       "<Figure size 432x288 with 1 Axes>"
      ]
     },
     "metadata": {
      "needs_background": "light"
     },
     "output_type": "display_data"
    },
    {
     "data": {
      "image/png": "[encoded data removed]",
      "text/plain": [
       "<Figure size 432x288 with 1 Axes>"
      ]
     },
     "metadata": {
      "needs_background": "light"
     },
     "output_type": "display_data"
    },
    {
     "data": {
      "image/png": "[encoded data removed]",
      "text/plain": [
       "<Figure size 432x288 with 1 Axes>"
      ]
     },
     "metadata": {
      "needs_background": "light"
     },
     "output_type": "display_data"
    }
   ],
   "source": [
    "activations = ['identity','logistic','tanh','relu']\n",
    "\n",
    "for activation in activations:\n",
    "    results = unpickle(f'results/by_activation/{activation}_results.p')\n",
    "    precisions = [result[\"precision\"] for result in results]\n",
    "    max_iter = [result[\"max_iter\"] for result in results]\n",
    "    plt.plot(max_iter, precisions, label=activation)\n",
    "\n",
    "plt.xlabel('total_iteration')\n",
    "\n",
    "\n",
    "\n",
    "\n",
    "\n",
    "plt.ylabel('precision')\n",
    "plt.title('Evolution of precision by iterations')\n",
    "plt.legend()\n",
    "plt.show()\n",
    "\n",
    "\n",
    "for activation in activations:\n",
    "    results = unpickle(f'results/by_activation/{activation}_results.p')\n",
    "    errors = [result[\"error\"] for result in results]\n",
    "    max_iter = [result[\"max_iter\"] for result in results]\n",
    "    plt.plot(max_iter, errors, label=activation)\n",
    "\n",
    "plt.xlabel('total_iteration')\n",
    "plt.ylabel('error')\n",
    "plt.title('Evolution of error by iterations')\n",
    "plt.legend()\n",
    "plt.show()\n",
    "\n",
    "for activation in activations:\n",
    "    results = unpickle(f'results/by_activation/{activation}_results.p')\n",
    "    recalls = [result[\"recall\"] for result in results]\n",
    "    max_iter = [result[\"max_iter\"] for result in results]\n",
    "    plt.plot(max_iter, recalls, label=activation)\n",
    "\n",
    "plt.xlabel('total_iteration')\n",
    "plt.ylabel('recall')\n",
    "plt.title('Evolution of recall by iterations')\n",
    "plt.legend()\n",
    "plt.show()\n",
    "\n",
    "for activation in activations:\n",
    "    results = unpickle(f'results/by_activation/{activation}_results.p')\n",
    "    precisions = [result[\"precision\"] for result in results]\n",
    "    training_time = [result[\"training_time\"] for result in results]\n",
    "    plt.plot(training_time, precisions, label=activation)\n",
    "\n",
    "plt.xlabel('training_time(s)')\n",
    "plt.ylabel('precision')\n",
    "plt.title('Evolution of precision by training_time')\n",
    "plt.legend()\n",
    "plt.show()"
   ]
  },
  {
   "cell_type": "code",
   "execution_count": 17,
   "id": "22efe6fe",
   "metadata": {},
   "outputs": [
    {
     "name": "stdout",
     "output_type": "stream",
     "text": [
      "Iteration 1, loss = 0.84807017\n",
      "Iteration 2, loss = 0.23858355\n",
      "Iteration 3, loss = 0.17275858\n",
      "Iteration 4, loss = 0.13275531\n",
      "Iteration 5, loss = 0.10466023\n"
     ]
    },
    {
     "name": "stderr",
     "output_type": "stream",
     "text": [
      "C:\\Users\\Alexandre\\anaconda3\\envs\\Apprentissage5A\\lib\\site-packages\\sklearn\\neural_network\\_multilayer_perceptron.py:692: ConvergenceWarning: Stochastic Optimizer: Maximum iterations (5) reached and the optimization hasn't converged yet.\n",
      "  warnings.warn(\n"
     ]
    },
    {
     "name": "stdout",
     "output_type": "stream",
     "text": [
      "Iteration 1, loss = 0.97794832\n",
      "Iteration 2, loss = 0.26114932\n",
      "Iteration 3, loss = 0.17573258\n",
      "Iteration 4, loss = 0.13265878\n",
      "Iteration 5, loss = 0.10604858\n",
      "Iteration 6, loss = 0.08842325\n",
      "Iteration 7, loss = 0.07047626\n",
      "Iteration 8, loss = 0.06670268\n",
      "Iteration 9, loss = 0.05525317\n",
      "Iteration 10, loss = 0.04964045\n"
     ]
    },
    {
     "name": "stderr",
     "output_type": "stream",
     "text": [
      "C:\\Users\\Alexandre\\anaconda3\\envs\\Apprentissage5A\\lib\\site-packages\\sklearn\\neural_network\\_multilayer_perceptron.py:692: ConvergenceWarning: Stochastic Optimizer: Maximum iterations (10) reached and the optimization hasn't converged yet.\n",
      "  warnings.warn(\n"
     ]
    },
    {
     "name": "stdout",
     "output_type": "stream",
     "text": [
      "Iteration 1, loss = 1.03440987\n",
      "Iteration 2, loss = 0.25148753\n",
      "Iteration 3, loss = 0.17084850\n",
      "Iteration 4, loss = 0.13100572\n",
      "Iteration 5, loss = 0.10784139\n",
      "Iteration 6, loss = 0.08617510\n",
      "Iteration 7, loss = 0.08250720\n",
      "Iteration 8, loss = 0.06786214\n",
      "Iteration 9, loss = 0.06095975\n",
      "Iteration 10, loss = 0.06348865\n",
      "Iteration 11, loss = 0.05035383\n",
      "Iteration 12, loss = 0.04897430\n",
      "Iteration 13, loss = 0.04204115\n",
      "Iteration 14, loss = 0.05105976\n",
      "Iteration 15, loss = 0.03337812\n",
      "Iteration 16, loss = 0.03360682\n",
      "Iteration 17, loss = 0.03921297\n",
      "Iteration 18, loss = 0.03546360\n",
      "Iteration 19, loss = 0.03311758\n",
      "Iteration 20, loss = 0.02996774\n"
     ]
    },
    {
     "name": "stderr",
     "output_type": "stream",
     "text": [
      "C:\\Users\\Alexandre\\anaconda3\\envs\\Apprentissage5A\\lib\\site-packages\\sklearn\\neural_network\\_multilayer_perceptron.py:692: ConvergenceWarning: Stochastic Optimizer: Maximum iterations (20) reached and the optimization hasn't converged yet.\n",
      "  warnings.warn(\n"
     ]
    },
    {
     "name": "stdout",
     "output_type": "stream",
     "text": [
      "Iteration 1, loss = 0.94803586\n",
      "Iteration 2, loss = 0.24937641\n",
      "Iteration 3, loss = 0.16928110\n",
      "Iteration 4, loss = 0.12923833\n",
      "Iteration 5, loss = 0.10241996\n",
      "Iteration 6, loss = 0.09021551\n",
      "Iteration 7, loss = 0.07909355\n",
      "Iteration 8, loss = 0.06833458\n",
      "Iteration 9, loss = 0.06391168\n",
      "Iteration 10, loss = 0.05442858\n",
      "Iteration 11, loss = 0.05293678\n",
      "Iteration 12, loss = 0.04648070\n",
      "Iteration 13, loss = 0.05301986\n",
      "Iteration 14, loss = 0.04112498\n",
      "Iteration 15, loss = 0.03603734\n",
      "Iteration 16, loss = 0.03593387\n",
      "Iteration 17, loss = 0.04331326\n",
      "Iteration 18, loss = 0.03639323\n",
      "Iteration 19, loss = 0.02712852\n",
      "Iteration 20, loss = 0.02991242\n",
      "Iteration 21, loss = 0.02521375\n",
      "Iteration 22, loss = 0.02691843\n",
      "Iteration 23, loss = 0.02565503\n",
      "Iteration 24, loss = 0.02412148\n",
      "Iteration 25, loss = 0.02246804\n"
     ]
    },
    {
     "name": "stderr",
     "output_type": "stream",
     "text": [
      "C:\\Users\\Alexandre\\anaconda3\\envs\\Apprentissage5A\\lib\\site-packages\\sklearn\\neural_network\\_multilayer_perceptron.py:692: ConvergenceWarning: Stochastic Optimizer: Maximum iterations (25) reached and the optimization hasn't converged yet.\n",
      "  warnings.warn(\n"
     ]
    },
    {
     "name": "stdout",
     "output_type": "stream",
     "text": [
      "finish for alpha 1e-05\n",
      "Iteration 1, loss = 0.98372166\n",
      "Iteration 2, loss = 0.25514998\n",
      "Iteration 3, loss = 0.17265407\n",
      "Iteration 4, loss = 0.13524492\n",
      "Iteration 5, loss = 0.11372499\n"
     ]
    },
    {
     "name": "stderr",
     "output_type": "stream",
     "text": [
      "C:\\Users\\Alexandre\\anaconda3\\envs\\Apprentissage5A\\lib\\site-packages\\sklearn\\neural_network\\_multilayer_perceptron.py:692: ConvergenceWarning: Stochastic Optimizer: Maximum iterations (5) reached and the optimization hasn't converged yet.\n",
      "  warnings.warn(\n"
     ]
    },
    {
     "name": "stdout",
     "output_type": "stream",
     "text": [
      "Iteration 1, loss = 0.87675383\n",
      "Iteration 2, loss = 0.24191954\n",
      "Iteration 3, loss = 0.17029127\n",
      "Iteration 4, loss = 0.12412137\n",
      "Iteration 5, loss = 0.10088883\n",
      "Iteration 6, loss = 0.09402638\n",
      "Iteration 7, loss = 0.07373839\n",
      "Iteration 8, loss = 0.06404228\n",
      "Iteration 9, loss = 0.05463119\n",
      "Iteration 10, loss = 0.05715080\n"
     ]
    },
    {
     "name": "stderr",
     "output_type": "stream",
     "text": [
      "C:\\Users\\Alexandre\\anaconda3\\envs\\Apprentissage5A\\lib\\site-packages\\sklearn\\neural_network\\_multilayer_perceptron.py:692: ConvergenceWarning: Stochastic Optimizer: Maximum iterations (10) reached and the optimization hasn't converged yet.\n",
      "  warnings.warn(\n"
     ]
    },
    {
     "name": "stdout",
     "output_type": "stream",
     "text": [
      "Iteration 1, loss = 0.94865914\n",
      "Iteration 2, loss = 0.23935568\n",
      "Iteration 3, loss = 0.16136380\n",
      "Iteration 4, loss = 0.12720605\n",
      "Iteration 5, loss = 0.10385840\n",
      "Iteration 6, loss = 0.08752775\n",
      "Iteration 7, loss = 0.07762410\n",
      "Iteration 8, loss = 0.06487232\n",
      "Iteration 9, loss = 0.06321092\n",
      "Iteration 10, loss = 0.05272154\n",
      "Iteration 11, loss = 0.04547766\n",
      "Iteration 12, loss = 0.04340395\n",
      "Iteration 13, loss = 0.04502797\n",
      "Iteration 14, loss = 0.04044350\n",
      "Iteration 15, loss = 0.03270274\n",
      "Iteration 16, loss = 0.04066800\n",
      "Iteration 17, loss = 0.03226756\n",
      "Iteration 18, loss = 0.02730043\n",
      "Iteration 19, loss = 0.03056555\n",
      "Iteration 20, loss = 0.03076359\n"
     ]
    },
    {
     "name": "stderr",
     "output_type": "stream",
     "text": [
      "C:\\Users\\Alexandre\\anaconda3\\envs\\Apprentissage5A\\lib\\site-packages\\sklearn\\neural_network\\_multilayer_perceptron.py:692: ConvergenceWarning: Stochastic Optimizer: Maximum iterations (20) reached and the optimization hasn't converged yet.\n",
      "  warnings.warn(\n"
     ]
    },
    {
     "name": "stdout",
     "output_type": "stream",
     "text": [
      "Iteration 1, loss = 0.84038493\n",
      "Iteration 2, loss = 0.24243507\n",
      "Iteration 3, loss = 0.16346926\n",
      "Iteration 4, loss = 0.12991677\n",
      "Iteration 5, loss = 0.10456840\n",
      "Iteration 6, loss = 0.08272366\n",
      "Iteration 7, loss = 0.07040851\n",
      "Iteration 8, loss = 0.06472742\n",
      "Iteration 9, loss = 0.05289617\n",
      "Iteration 10, loss = 0.04702029\n",
      "Iteration 11, loss = 0.04733411\n",
      "Iteration 12, loss = 0.04713143\n",
      "Iteration 13, loss = 0.04167517\n",
      "Iteration 14, loss = 0.04112884\n",
      "Iteration 15, loss = 0.02888596\n",
      "Iteration 16, loss = 0.03401463\n",
      "Iteration 17, loss = 0.03076731\n",
      "Iteration 18, loss = 0.02895520\n",
      "Iteration 19, loss = 0.02983402\n",
      "Iteration 20, loss = 0.02510441\n",
      "Iteration 21, loss = 0.02802061\n",
      "Iteration 22, loss = 0.02357242\n",
      "Iteration 23, loss = 0.03051387\n",
      "Iteration 24, loss = 0.02044914\n",
      "Iteration 25, loss = 0.02067053\n"
     ]
    },
    {
     "name": "stderr",
     "output_type": "stream",
     "text": [
      "C:\\Users\\Alexandre\\anaconda3\\envs\\Apprentissage5A\\lib\\site-packages\\sklearn\\neural_network\\_multilayer_perceptron.py:692: ConvergenceWarning: Stochastic Optimizer: Maximum iterations (25) reached and the optimization hasn't converged yet.\n",
      "  warnings.warn(\n"
     ]
    },
    {
     "name": "stdout",
     "output_type": "stream",
     "text": [
      "finish for alpha 0.0001\n",
      "Iteration 1, loss = 1.04758189\n",
      "Iteration 2, loss = 0.26455338\n",
      "Iteration 3, loss = 0.17446218\n",
      "Iteration 4, loss = 0.14225673\n",
      "Iteration 5, loss = 0.10558802\n"
     ]
    },
    {
     "name": "stderr",
     "output_type": "stream",
     "text": [
      "C:\\Users\\Alexandre\\anaconda3\\envs\\Apprentissage5A\\lib\\site-packages\\sklearn\\neural_network\\_multilayer_perceptron.py:692: ConvergenceWarning: Stochastic Optimizer: Maximum iterations (5) reached and the optimization hasn't converged yet.\n",
      "  warnings.warn(\n"
     ]
    },
    {
     "name": "stdout",
     "output_type": "stream",
     "text": [
      "Iteration 1, loss = 0.84311163\n",
      "Iteration 2, loss = 0.23438716\n",
      "Iteration 3, loss = 0.15896053\n",
      "Iteration 4, loss = 0.11813869\n",
      "Iteration 5, loss = 0.09486611\n",
      "Iteration 6, loss = 0.08390513\n",
      "Iteration 7, loss = 0.07377781\n",
      "Iteration 8, loss = 0.06027823\n",
      "Iteration 9, loss = 0.05769688\n",
      "Iteration 10, loss = 0.04964625\n"
     ]
    },
    {
     "name": "stderr",
     "output_type": "stream",
     "text": [
      "C:\\Users\\Alexandre\\anaconda3\\envs\\Apprentissage5A\\lib\\site-packages\\sklearn\\neural_network\\_multilayer_perceptron.py:692: ConvergenceWarning: Stochastic Optimizer: Maximum iterations (10) reached and the optimization hasn't converged yet.\n",
      "  warnings.warn(\n"
     ]
    },
    {
     "name": "stdout",
     "output_type": "stream",
     "text": [
      "Iteration 1, loss = 0.98363871\n",
      "Iteration 2, loss = 0.27298775\n",
      "Iteration 3, loss = 0.17704069\n",
      "Iteration 4, loss = 0.13197986\n",
      "Iteration 5, loss = 0.10884410\n",
      "Iteration 6, loss = 0.08922059\n",
      "Iteration 7, loss = 0.07382074\n",
      "Iteration 8, loss = 0.06272831\n",
      "Iteration 9, loss = 0.05898821\n",
      "Iteration 10, loss = 0.05309313\n",
      "Iteration 11, loss = 0.04599490\n",
      "Iteration 12, loss = 0.04658346\n",
      "Iteration 13, loss = 0.04257271\n",
      "Iteration 14, loss = 0.04287343\n",
      "Iteration 15, loss = 0.03099551\n",
      "Iteration 16, loss = 0.03498592\n",
      "Iteration 17, loss = 0.02755182\n",
      "Iteration 18, loss = 0.03266576\n",
      "Iteration 19, loss = 0.03236553\n",
      "Iteration 20, loss = 0.02960964\n"
     ]
    },
    {
     "name": "stderr",
     "output_type": "stream",
     "text": [
      "C:\\Users\\Alexandre\\anaconda3\\envs\\Apprentissage5A\\lib\\site-packages\\sklearn\\neural_network\\_multilayer_perceptron.py:692: ConvergenceWarning: Stochastic Optimizer: Maximum iterations (20) reached and the optimization hasn't converged yet.\n",
      "  warnings.warn(\n"
     ]
    },
    {
     "name": "stdout",
     "output_type": "stream",
     "text": [
      "Iteration 1, loss = 0.88562638\n",
      "Iteration 2, loss = 0.23989900\n",
      "Iteration 3, loss = 0.16306972\n",
      "Iteration 4, loss = 0.12124932\n",
      "Iteration 5, loss = 0.09738974\n",
      "Iteration 6, loss = 0.08731308\n",
      "Iteration 7, loss = 0.07036218\n",
      "Iteration 8, loss = 0.05821520\n",
      "Iteration 9, loss = 0.05290830\n",
      "Iteration 10, loss = 0.05404011\n",
      "Iteration 11, loss = 0.04578502\n",
      "Iteration 12, loss = 0.04377699\n",
      "Iteration 13, loss = 0.03592502\n",
      "Iteration 14, loss = 0.04553140\n",
      "Iteration 15, loss = 0.03738545\n",
      "Iteration 16, loss = 0.03436274\n",
      "Iteration 17, loss = 0.03295111\n",
      "Iteration 18, loss = 0.03087602\n",
      "Iteration 19, loss = 0.02766273\n",
      "Iteration 20, loss = 0.02469787\n",
      "Iteration 21, loss = 0.02613621\n",
      "Iteration 22, loss = 0.02863274\n",
      "Iteration 23, loss = 0.02504160\n",
      "Iteration 24, loss = 0.02424030\n",
      "Iteration 25, loss = 0.02105453\n"
     ]
    },
    {
     "name": "stderr",
     "output_type": "stream",
     "text": [
      "C:\\Users\\Alexandre\\anaconda3\\envs\\Apprentissage5A\\lib\\site-packages\\sklearn\\neural_network\\_multilayer_perceptron.py:692: ConvergenceWarning: Stochastic Optimizer: Maximum iterations (25) reached and the optimization hasn't converged yet.\n",
      "  warnings.warn(\n"
     ]
    },
    {
     "name": "stdout",
     "output_type": "stream",
     "text": [
      "finish for alpha 0.0005\n",
      "Iteration 1, loss = 1.11206086\n",
      "Iteration 2, loss = 0.30312083\n",
      "Iteration 3, loss = 0.19558238\n",
      "Iteration 4, loss = 0.13868084\n",
      "Iteration 5, loss = 0.11411044\n"
     ]
    },
    {
     "name": "stderr",
     "output_type": "stream",
     "text": [
      "C:\\Users\\Alexandre\\anaconda3\\envs\\Apprentissage5A\\lib\\site-packages\\sklearn\\neural_network\\_multilayer_perceptron.py:692: ConvergenceWarning: Stochastic Optimizer: Maximum iterations (5) reached and the optimization hasn't converged yet.\n",
      "  warnings.warn(\n"
     ]
    },
    {
     "name": "stdout",
     "output_type": "stream",
     "text": [
      "Iteration 1, loss = 1.17899318\n",
      "Iteration 2, loss = 0.27878809\n",
      "Iteration 3, loss = 0.19391059\n",
      "Iteration 4, loss = 0.14928165\n",
      "Iteration 5, loss = 0.11850928\n",
      "Iteration 6, loss = 0.09997305\n",
      "Iteration 7, loss = 0.08514962\n",
      "Iteration 8, loss = 0.07672369\n",
      "Iteration 9, loss = 0.06150826\n",
      "Iteration 10, loss = 0.05791495\n"
     ]
    },
    {
     "name": "stderr",
     "output_type": "stream",
     "text": [
      "C:\\Users\\Alexandre\\anaconda3\\envs\\Apprentissage5A\\lib\\site-packages\\sklearn\\neural_network\\_multilayer_perceptron.py:692: ConvergenceWarning: Stochastic Optimizer: Maximum iterations (10) reached and the optimization hasn't converged yet.\n",
      "  warnings.warn(\n"
     ]
    },
    {
     "name": "stdout",
     "output_type": "stream",
     "text": [
      "Iteration 1, loss = 0.90929178\n",
      "Iteration 2, loss = 0.24353677\n",
      "Iteration 3, loss = 0.16275749\n",
      "Iteration 4, loss = 0.12795051\n",
      "Iteration 5, loss = 0.10241966\n",
      "Iteration 6, loss = 0.08514421\n",
      "Iteration 7, loss = 0.08081711\n",
      "Iteration 8, loss = 0.06066231\n",
      "Iteration 9, loss = 0.06856268\n",
      "Iteration 10, loss = 0.05381657\n",
      "Iteration 11, loss = 0.05047010\n",
      "Iteration 12, loss = 0.05345206\n",
      "Iteration 13, loss = 0.04592419\n",
      "Iteration 14, loss = 0.03977862\n",
      "Iteration 15, loss = 0.03832642\n",
      "Iteration 16, loss = 0.03258052\n",
      "Iteration 17, loss = 0.03236937\n",
      "Iteration 18, loss = 0.04159791\n",
      "Iteration 19, loss = 0.02712328\n",
      "Iteration 20, loss = 0.02544347\n"
     ]
    },
    {
     "name": "stderr",
     "output_type": "stream",
     "text": [
      "C:\\Users\\Alexandre\\anaconda3\\envs\\Apprentissage5A\\lib\\site-packages\\sklearn\\neural_network\\_multilayer_perceptron.py:692: ConvergenceWarning: Stochastic Optimizer: Maximum iterations (20) reached and the optimization hasn't converged yet.\n",
      "  warnings.warn(\n"
     ]
    },
    {
     "name": "stdout",
     "output_type": "stream",
     "text": [
      "Iteration 1, loss = 0.90178660\n",
      "Iteration 2, loss = 0.23547887\n",
      "Iteration 3, loss = 0.15917313\n",
      "Iteration 4, loss = 0.12355085\n",
      "Iteration 5, loss = 0.10485329\n",
      "Iteration 6, loss = 0.08442684\n",
      "Iteration 7, loss = 0.07391536\n",
      "Iteration 8, loss = 0.06999574\n",
      "Iteration 9, loss = 0.06110047\n",
      "Iteration 10, loss = 0.05213917\n",
      "Iteration 11, loss = 0.04861333\n",
      "Iteration 12, loss = 0.04889148\n",
      "Iteration 13, loss = 0.04369731\n",
      "Iteration 14, loss = 0.03688320\n",
      "Iteration 15, loss = 0.03538046\n",
      "Iteration 16, loss = 0.04639787\n",
      "Iteration 17, loss = 0.04193279\n",
      "Iteration 18, loss = 0.03635623\n",
      "Iteration 19, loss = 0.02978390\n",
      "Iteration 20, loss = 0.01945771\n",
      "Iteration 21, loss = 0.04654096\n",
      "Iteration 22, loss = 0.02601043\n",
      "Iteration 23, loss = 0.02838422\n",
      "Iteration 24, loss = 0.02888251\n",
      "Iteration 25, loss = 0.02364176\n"
     ]
    },
    {
     "name": "stderr",
     "output_type": "stream",
     "text": [
      "C:\\Users\\Alexandre\\anaconda3\\envs\\Apprentissage5A\\lib\\site-packages\\sklearn\\neural_network\\_multilayer_perceptron.py:692: ConvergenceWarning: Stochastic Optimizer: Maximum iterations (25) reached and the optimization hasn't converged yet.\n",
      "  warnings.warn(\n"
     ]
    },
    {
     "name": "stdout",
     "output_type": "stream",
     "text": [
      "finish for alpha 0.001\n",
      "Iteration 1, loss = 0.90502405\n",
      "Iteration 2, loss = 0.24698827\n",
      "Iteration 3, loss = 0.17434786\n",
      "Iteration 4, loss = 0.13511441\n",
      "Iteration 5, loss = 0.11453974\n"
     ]
    },
    {
     "name": "stderr",
     "output_type": "stream",
     "text": [
      "C:\\Users\\Alexandre\\anaconda3\\envs\\Apprentissage5A\\lib\\site-packages\\sklearn\\neural_network\\_multilayer_perceptron.py:692: ConvergenceWarning: Stochastic Optimizer: Maximum iterations (5) reached and the optimization hasn't converged yet.\n",
      "  warnings.warn(\n"
     ]
    },
    {
     "name": "stdout",
     "output_type": "stream",
     "text": [
      "Iteration 1, loss = 0.94263837\n",
      "Iteration 2, loss = 0.27994171\n",
      "Iteration 3, loss = 0.19170976\n",
      "Iteration 4, loss = 0.15521906\n",
      "Iteration 5, loss = 0.12154226\n",
      "Iteration 6, loss = 0.10105451\n",
      "Iteration 7, loss = 0.08584683\n",
      "Iteration 8, loss = 0.08173037\n",
      "Iteration 9, loss = 0.07096636\n",
      "Iteration 10, loss = 0.06180530\n"
     ]
    },
    {
     "name": "stderr",
     "output_type": "stream",
     "text": [
      "C:\\Users\\Alexandre\\anaconda3\\envs\\Apprentissage5A\\lib\\site-packages\\sklearn\\neural_network\\_multilayer_perceptron.py:692: ConvergenceWarning: Stochastic Optimizer: Maximum iterations (10) reached and the optimization hasn't converged yet.\n",
      "  warnings.warn(\n"
     ]
    },
    {
     "name": "stdout",
     "output_type": "stream",
     "text": [
      "Iteration 1, loss = 1.07999350\n",
      "Iteration 2, loss = 0.27872328\n",
      "Iteration 3, loss = 0.19482620\n",
      "Iteration 4, loss = 0.15028922\n",
      "Iteration 5, loss = 0.12240785\n",
      "Iteration 6, loss = 0.11577529\n",
      "Iteration 7, loss = 0.09154487\n",
      "Iteration 8, loss = 0.08157104\n",
      "Iteration 9, loss = 0.07563251\n",
      "Iteration 10, loss = 0.06866591\n",
      "Iteration 11, loss = 0.06300684\n",
      "Iteration 12, loss = 0.06539552\n",
      "Iteration 13, loss = 0.06002391\n",
      "Iteration 14, loss = 0.05282810\n",
      "Iteration 15, loss = 0.05125468\n",
      "Iteration 16, loss = 0.05471156\n",
      "Iteration 17, loss = 0.04757434\n",
      "Iteration 18, loss = 0.04612991\n",
      "Iteration 19, loss = 0.05164587\n",
      "Iteration 20, loss = 0.04546908\n"
     ]
    },
    {
     "name": "stderr",
     "output_type": "stream",
     "text": [
      "C:\\Users\\Alexandre\\anaconda3\\envs\\Apprentissage5A\\lib\\site-packages\\sklearn\\neural_network\\_multilayer_perceptron.py:692: ConvergenceWarning: Stochastic Optimizer: Maximum iterations (20) reached and the optimization hasn't converged yet.\n",
      "  warnings.warn(\n"
     ]
    },
    {
     "name": "stdout",
     "output_type": "stream",
     "text": [
      "Iteration 1, loss = 1.04716642\n",
      "Iteration 2, loss = 0.26437175\n",
      "Iteration 3, loss = 0.18337698\n",
      "Iteration 4, loss = 0.13495839\n",
      "Iteration 5, loss = 0.11846372\n",
      "Iteration 6, loss = 0.09466360\n",
      "Iteration 7, loss = 0.08707964\n",
      "Iteration 8, loss = 0.08019359\n",
      "Iteration 9, loss = 0.06414157\n",
      "Iteration 10, loss = 0.06425555\n",
      "Iteration 11, loss = 0.05451908\n",
      "Iteration 12, loss = 0.06222540\n",
      "Iteration 13, loss = 0.05267513\n",
      "Iteration 14, loss = 0.05207188\n",
      "Iteration 15, loss = 0.04468927\n",
      "Iteration 16, loss = 0.04198147\n",
      "Iteration 17, loss = 0.04805355\n",
      "Iteration 18, loss = 0.03956204\n",
      "Iteration 19, loss = 0.04767604\n",
      "Iteration 20, loss = 0.03729560\n",
      "Iteration 21, loss = 0.03543086\n",
      "Iteration 22, loss = 0.03520840\n",
      "Iteration 23, loss = 0.03249699\n",
      "Iteration 24, loss = 0.04176302\n",
      "Iteration 25, loss = 0.03122352\n"
     ]
    },
    {
     "name": "stderr",
     "output_type": "stream",
     "text": [
      "C:\\Users\\Alexandre\\anaconda3\\envs\\Apprentissage5A\\lib\\site-packages\\sklearn\\neural_network\\_multilayer_perceptron.py:692: ConvergenceWarning: Stochastic Optimizer: Maximum iterations (25) reached and the optimization hasn't converged yet.\n",
      "  warnings.warn(\n"
     ]
    },
    {
     "name": "stdout",
     "output_type": "stream",
     "text": [
      "finish for alpha 0.01\n"
     ]
    }
   ],
   "source": [
    "def studyConvergenceDependingAlpha(X_train,X_test,y_train,y_test,hidden_layers_neurons_tuple= (91, 92, 23, 182, 87),max_iter_list = [5,10,20,25], alpha_list = [0.00001,0.0001,0.0005,0.001,0.01]):\n",
    "    for alpha in alpha_list:\n",
    "        results = []\n",
    "        epoch = 0\n",
    "        for max_iter in max_iter_list:\n",
    "            model = MLPClassifier(hidden_layer_sizes = hidden_layers_neurons_tuple,max_iter=max_iter,alpha=alpha,verbose=True)   \n",
    "            start_t = time.time()\n",
    "            model.fit(X_train,y_train)\n",
    "            training_time = time.time()-start_t\n",
    "            prediction = model.predict(X_test)\n",
    "            precision = precision_score(y_test,prediction,average ='micro')\n",
    "            recall = recall_score(y_test,prediction,average = 'micro')\n",
    "            error = zero_one_loss(y_test,prediction)\n",
    "            results.append({\"max_iter\":max_iter,\"precision\":precision,\"error\":error,\"recall\":recall,\"training_time\":training_time})\n",
    "        pickle.dump(results, open( \"results/by_alpha/{}_results.p\".format(alpha), \"wb\" )) # Save results\n",
    "        print(\"finish for alpha {}\".format(alpha))\n",
    "    \n",
    "studyConvergenceDependingAlpha(X_train,X_test,y_train,y_test,hidden_layers_neurons_tuple= (91, 92, 23, 182, 87),max_iter_list = [5,10,20,25],alpha_list = [0.00001,0.0001,0.0005,0.001,0.01])"
   ]
  },
  {
   "cell_type": "code",
   "execution_count": 18,
   "id": "ba3b98f5",
   "metadata": {},
   "outputs": [
    {
     "data": {
      "image/png": "[encoded data removed]",
      "text/plain": [
       "<Figure size 432x288 with 1 Axes>"
      ]
     },
     "metadata": {
      "needs_background": "light"
     },
     "output_type": "display_data"
    },
    {
     "data": {
      "image/png": "[encoded data removed]",
      "text/plain": [
       "<Figure size 432x288 with 1 Axes>"
      ]
     },
     "metadata": {
      "needs_background": "light"
     },
     "output_type": "display_data"
    },
    {
     "data": {
      "image/png": "[encoded data removed]",
      "text/plain": [
       "<Figure size 432x288 with 1 Axes>"
      ]
     },
     "metadata": {
      "needs_background": "light"
     },
     "output_type": "display_data"
    },
    {
     "data": {
      "image/png": "[encoded data removed]",
      "text/plain": [
       "<Figure size 432x288 with 1 Axes>"
      ]
     },
     "metadata": {
      "needs_background": "light"
     },
     "output_type": "display_data"
    }
   ],
   "source": [
    "alphas = [0.00001,0.0001,0.0005,0.001,0.01]\n",
    "\n",
    "for alpha in alphas:\n",
    "    results = unpickle(f'results/by_alpha/{alpha}_results.p')\n",
    "    precisions = [result[\"precision\"] for result in results]\n",
    "    max_iter = [result[\"max_iter\"] for result in results]\n",
    "    plt.plot(max_iter, precisions, label=alpha)\n",
    "\n",
    "plt.xlabel('total_iteration')\n",
    "plt.ylabel('precision')\n",
    "plt.title('Evolution of precision by iterations')\n",
    "plt.legend()\n",
    "plt.show()\n",
    "\n",
    "\n",
    "for alpha in alphas:\n",
    "    results = unpickle(f'results/by_alpha/{alpha}_results.p')\n",
    "    errors = [result[\"error\"] for result in results]\n",
    "    max_iter = [result[\"max_iter\"] for result in results]\n",
    "    plt.plot(max_iter, errors, label=alpha)\n",
    "\n",
    "plt.xlabel('total_iteration')\n",
    "plt.ylabel('error')\n",
    "plt.title('Evolution of error by iterations')\n",
    "plt.legend()\n",
    "plt.show()\n",
    "\n",
    "for alpha in alphas:\n",
    "    results = unpickle(f'results/by_alpha/{alpha}_results.p')\n",
    "    recalls = [result[\"recall\"] for result in results]\n",
    "    max_iter = [result[\"max_iter\"] for result in results]\n",
    "    plt.plot(max_iter, recalls, label=alpha)\n",
    "\n",
    "plt.xlabel('total_iteration')\n",
    "plt.ylabel('recall')\n",
    "plt.title('Evolution of recall by iterations')\n",
    "plt.legend()\n",
    "plt.show()\n",
    "\n",
    "for alpha in alphas:\n",
    "    results = unpickle(f'results/by_alpha/{alpha}_results.p')\n",
    "    precisions = [result[\"precision\"] for result in results]\n",
    "    training_time = [result[\"training_time\"] for result in results]\n",
    "    plt.plot(training_time, precisions, label=alpha)\n",
    "\n",
    "plt.xlabel('training_time(s)')\n",
    "plt.ylabel('precision')\n",
    "plt.title('Evolution of precision by training_time')\n",
    "plt.legend()\n",
    "plt.show()"
   ]
  },
  {
   "cell_type": "code",
   "execution_count": null,
   "id": "59cb37a7",
   "metadata": {},
   "outputs": [],
   "source": []
  }
 ],
 "metadata": {
  "kernelspec": {
   "display_name": "Python 3 (ipykernel)",
   "language": "python",
   "name": "python3"
  },
  "language_info": {
   "codemirror_mode": {
    "name": "ipython",
    "version": 3
   },
   "file_extension": ".py",
   "mimetype": "text/x-python",
   "name": "python",
   "nbconvert_exporter": "python",
   "pygments_lexer": "ipython3",
   "version": "3.9.7"
  }
 },
 "nbformat": 4,
 "nbformat_minor": 5
}
